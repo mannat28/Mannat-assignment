{
 "cells": [
  {
   "cell_type": "code",
   "execution_count": 1,
   "id": "f78342fe-ec32-4ea2-aa99-13a25cef0724",
   "metadata": {
    "execution": {
     "iopub.execute_input": "2023-08-06T12:27:19.350813Z",
     "iopub.status.busy": "2023-08-06T12:27:19.349947Z",
     "iopub.status.idle": "2023-08-06T12:27:19.429987Z",
     "shell.execute_reply": "2023-08-06T12:27:19.426660Z",
     "shell.execute_reply.started": "2023-08-06T12:27:19.350663Z"
    },
    "tags": []
   },
   "outputs": [
    {
     "data": {
      "text/html": [
       "\n",
       "        <div>\n",
       "            <p><b>SparkContext</b></p>\n",
       "\n",
       "            <p><a href=\"http://gb-wat-svb-0227.dunnhumby.co.uk:4051\">Spark UI</a></p>\n",
       "\n",
       "            <dl>\n",
       "              <dt>Version</dt>\n",
       "                <dd><code>v3.2.1</code></dd>\n",
       "              <dt>Master</dt>\n",
       "                <dd><code>yarn</code></dd>\n",
       "              <dt>AppName</dt>\n",
       "                <dd><code>spark3-py3-notebook</code></dd>\n",
       "            </dl>\n",
       "        </div>\n",
       "        "
      ],
      "text/plain": [
       "<SparkContext master=yarn appName=spark3-py3-notebook>"
      ]
     },
     "execution_count": 1,
     "metadata": {},
     "output_type": "execute_result"
    }
   ],
   "source": [
    "sc"
   ]
  },
  {
   "cell_type": "code",
   "execution_count": 2,
   "id": "2871cbdb-a6e1-4a20-9d9b-2bf9e713da88",
   "metadata": {
    "execution": {
     "iopub.execute_input": "2023-07-31T01:30:05.921519Z",
     "iopub.status.busy": "2023-07-31T01:30:05.920819Z",
     "iopub.status.idle": "2023-07-31T01:30:06.699802Z",
     "shell.execute_reply": "2023-07-31T01:30:06.697617Z",
     "shell.execute_reply.started": "2023-07-31T01:30:05.921419Z"
    },
    "tags": []
   },
   "outputs": [],
   "source": [
    "import pandas as pd\n",
    "import pyspark.sql.functions as F\n",
    "from pyspark.sql.functions import month"
   ]
  },
  {
   "cell_type": "code",
   "execution_count": 3,
   "id": "2bc2fb52-2750-4a01-a3dc-740d189fbee3",
   "metadata": {
    "execution": {
     "iopub.execute_input": "2023-07-31T01:30:06.705996Z",
     "iopub.status.busy": "2023-07-31T01:30:06.705635Z",
     "iopub.status.idle": "2023-07-31T01:30:06.716380Z",
     "shell.execute_reply": "2023-07-31T01:30:06.714845Z",
     "shell.execute_reply.started": "2023-07-31T01:30:06.705942Z"
    },
    "tags": []
   },
   "outputs": [
    {
     "data": {
      "text/plain": [
       "'/nfs/science/shared/ipythonNotebooks/dh207306/Practice'"
      ]
     },
     "execution_count": 3,
     "metadata": {},
     "output_type": "execute_result"
    }
   ],
   "source": [
    "pwd"
   ]
  },
  {
   "cell_type": "markdown",
   "id": "1cbb0282-03ee-4ce5-bfc7-6b9113b81b2b",
   "metadata": {
    "execution": {
     "iopub.execute_input": "2023-07-30T19:02:28.235482Z",
     "iopub.status.busy": "2023-07-30T19:02:28.234736Z",
     "iopub.status.idle": "2023-07-30T19:02:28.296171Z",
     "shell.execute_reply": "2023-07-30T19:02:28.292924Z",
     "shell.execute_reply.started": "2023-07-30T19:02:28.235375Z"
    }
   },
   "source": [
    "### data pre processing ; cleaning"
   ]
  },
  {
   "cell_type": "code",
   "execution_count": 4,
   "id": "aa915180-9b99-4180-8607-482dd9954ceb",
   "metadata": {
    "execution": {
     "iopub.execute_input": "2023-07-31T01:30:06.725378Z",
     "iopub.status.busy": "2023-07-31T01:30:06.725007Z",
     "iopub.status.idle": "2023-07-31T01:30:06.799557Z",
     "shell.execute_reply": "2023-07-31T01:30:06.796836Z",
     "shell.execute_reply.started": "2023-07-31T01:30:06.725300Z"
    },
    "tags": []
   },
   "outputs": [],
   "source": [
    "data=pd.read_csv('raw_data.csv')"
   ]
  },
  {
   "cell_type": "code",
   "execution_count": 5,
   "id": "36ad2657-77b4-4d4f-8847-3218c4e0c016",
   "metadata": {
    "execution": {
     "iopub.execute_input": "2023-07-31T01:30:06.803658Z",
     "iopub.status.busy": "2023-07-31T01:30:06.803210Z",
     "iopub.status.idle": "2023-07-31T01:30:06.839565Z",
     "shell.execute_reply": "2023-07-31T01:30:06.837816Z",
     "shell.execute_reply.started": "2023-07-31T01:30:06.803594Z"
    },
    "tags": []
   },
   "outputs": [
    {
     "data": {
      "text/html": [
       "<div>\n",
       "<style scoped>\n",
       "    .dataframe tbody tr th:only-of-type {\n",
       "        vertical-align: middle;\n",
       "    }\n",
       "\n",
       "    .dataframe tbody tr th {\n",
       "        vertical-align: top;\n",
       "    }\n",
       "\n",
       "    .dataframe thead th {\n",
       "        text-align: right;\n",
       "    }\n",
       "</style>\n",
       "<table border=\"1\" class=\"dataframe\">\n",
       "  <thead>\n",
       "    <tr style=\"text-align: right;\">\n",
       "      <th></th>\n",
       "      <th>day</th>\n",
       "      <th>campaign_name</th>\n",
       "      <th>user_engagement</th>\n",
       "      <th>banner</th>\n",
       "      <th>placement</th>\n",
       "      <th>displays</th>\n",
       "      <th>cost</th>\n",
       "      <th>clicks</th>\n",
       "      <th>revenue</th>\n",
       "      <th>post_click_conversions</th>\n",
       "      <th>post_click_sales_amount</th>\n",
       "    </tr>\n",
       "  </thead>\n",
       "  <tbody>\n",
       "    <tr>\n",
       "      <th>0</th>\n",
       "      <td>4/1/2020</td>\n",
       "      <td>Campaign 1</td>\n",
       "      <td>High</td>\n",
       "      <td>160 x 600</td>\n",
       "      <td>abc</td>\n",
       "      <td>4</td>\n",
       "      <td>0.0060</td>\n",
       "      <td>0</td>\n",
       "      <td>0.0000</td>\n",
       "      <td>0</td>\n",
       "      <td>0.0000</td>\n",
       "    </tr>\n",
       "    <tr>\n",
       "      <th>1</th>\n",
       "      <td>4/1/2020</td>\n",
       "      <td>Campaign 1</td>\n",
       "      <td>High</td>\n",
       "      <td>160 x 600</td>\n",
       "      <td>def</td>\n",
       "      <td>20170</td>\n",
       "      <td>26.7824</td>\n",
       "      <td>158</td>\n",
       "      <td>28.9717</td>\n",
       "      <td>23</td>\n",
       "      <td>1972.4602</td>\n",
       "    </tr>\n",
       "    <tr>\n",
       "      <th>2</th>\n",
       "      <td>4/1/2020</td>\n",
       "      <td>Campaign 1</td>\n",
       "      <td>High</td>\n",
       "      <td>160 x 600</td>\n",
       "      <td>ghi</td>\n",
       "      <td>14701</td>\n",
       "      <td>27.6304</td>\n",
       "      <td>158</td>\n",
       "      <td>28.9771</td>\n",
       "      <td>78</td>\n",
       "      <td>2497.2636</td>\n",
       "    </tr>\n",
       "    <tr>\n",
       "      <th>3</th>\n",
       "      <td>4/1/2020</td>\n",
       "      <td>Campaign 1</td>\n",
       "      <td>High</td>\n",
       "      <td>160 x 600</td>\n",
       "      <td>mno</td>\n",
       "      <td>171259</td>\n",
       "      <td>216.8750</td>\n",
       "      <td>1796</td>\n",
       "      <td>329.4518</td>\n",
       "      <td>617</td>\n",
       "      <td>24625.3234</td>\n",
       "    </tr>\n",
       "    <tr>\n",
       "      <th>4</th>\n",
       "      <td>4/1/2020</td>\n",
       "      <td>Campaign 1</td>\n",
       "      <td>Low</td>\n",
       "      <td>160 x 600</td>\n",
       "      <td>def</td>\n",
       "      <td>552</td>\n",
       "      <td>0.0670</td>\n",
       "      <td>1</td>\n",
       "      <td>0.1834</td>\n",
       "      <td>0</td>\n",
       "      <td>0.0000</td>\n",
       "    </tr>\n",
       "  </tbody>\n",
       "</table>\n",
       "</div>"
      ],
      "text/plain": [
       "        day campaign_name user_engagement     banner placement  displays  \\\n",
       "0  4/1/2020    Campaign 1            High  160 x 600       abc         4   \n",
       "1  4/1/2020    Campaign 1            High  160 x 600       def     20170   \n",
       "2  4/1/2020    Campaign 1            High  160 x 600       ghi     14701   \n",
       "3  4/1/2020    Campaign 1            High  160 x 600       mno    171259   \n",
       "4  4/1/2020    Campaign 1             Low  160 x 600       def       552   \n",
       "\n",
       "       cost  clicks   revenue  post_click_conversions  post_click_sales_amount  \n",
       "0    0.0060       0    0.0000                       0                   0.0000  \n",
       "1   26.7824     158   28.9717                      23                1972.4602  \n",
       "2   27.6304     158   28.9771                      78                2497.2636  \n",
       "3  216.8750    1796  329.4518                     617               24625.3234  \n",
       "4    0.0670       1    0.1834                       0                   0.0000  "
      ]
     },
     "execution_count": 5,
     "metadata": {},
     "output_type": "execute_result"
    }
   ],
   "source": [
    "data.head()"
   ]
  },
  {
   "cell_type": "code",
   "execution_count": 6,
   "id": "671a11ed-c4e7-4e63-8799-c419e2b89e4c",
   "metadata": {
    "execution": {
     "iopub.execute_input": "2023-07-31T01:30:06.842736Z",
     "iopub.status.busy": "2023-07-31T01:30:06.842272Z",
     "iopub.status.idle": "2023-07-31T01:30:06.867788Z",
     "shell.execute_reply": "2023-07-31T01:30:06.865691Z",
     "shell.execute_reply.started": "2023-07-31T01:30:06.842672Z"
    },
    "tags": []
   },
   "outputs": [
    {
     "data": {
      "text/plain": [
       "True"
      ]
     },
     "execution_count": 6,
     "metadata": {},
     "output_type": "execute_result"
    }
   ],
   "source": [
    "data.isnull().values.any()"
   ]
  },
  {
   "cell_type": "code",
   "execution_count": 7,
   "id": "f268bc5f-43c5-46c7-a8ff-95bb8a9998cc",
   "metadata": {
    "execution": {
     "iopub.execute_input": "2023-07-31T01:30:06.870690Z",
     "iopub.status.busy": "2023-07-31T01:30:06.870334Z",
     "iopub.status.idle": "2023-07-31T01:30:06.906316Z",
     "shell.execute_reply": "2023-07-31T01:30:06.904149Z",
     "shell.execute_reply.started": "2023-07-31T01:30:06.870640Z"
    },
    "tags": []
   },
   "outputs": [
    {
     "data": {
      "text/plain": [
       "day                         object\n",
       "campaign_name               object\n",
       "user_engagement             object\n",
       "banner                      object\n",
       "placement                   object\n",
       "displays                     int64\n",
       "cost                       float64\n",
       "clicks                       int64\n",
       "revenue                    float64\n",
       "post_click_conversions       int64\n",
       "post_click_sales_amount    float64\n",
       "dtype: object"
      ]
     },
     "execution_count": 7,
     "metadata": {},
     "output_type": "execute_result"
    }
   ],
   "source": [
    "data.dtypes"
   ]
  },
  {
   "cell_type": "code",
   "execution_count": 8,
   "id": "d9bfe601-5ca3-417c-af08-80f5e35e493b",
   "metadata": {
    "execution": {
     "iopub.execute_input": "2023-07-31T01:30:06.914935Z",
     "iopub.status.busy": "2023-07-31T01:30:06.914568Z",
     "iopub.status.idle": "2023-07-31T01:30:06.953471Z",
     "shell.execute_reply": "2023-07-31T01:30:06.950831Z",
     "shell.execute_reply.started": "2023-07-31T01:30:06.914884Z"
    },
    "tags": []
   },
   "outputs": [],
   "source": [
    "data=data.fillna('0')"
   ]
  },
  {
   "cell_type": "code",
   "execution_count": 9,
   "id": "1ae3adcc-acfe-4759-bee9-ca1d1eb0d4e8",
   "metadata": {
    "execution": {
     "iopub.execute_input": "2023-07-31T01:30:06.956750Z",
     "iopub.status.busy": "2023-07-31T01:30:06.956415Z",
     "iopub.status.idle": "2023-07-31T01:30:06.993282Z",
     "shell.execute_reply": "2023-07-31T01:30:06.991362Z",
     "shell.execute_reply.started": "2023-07-31T01:30:06.956700Z"
    },
    "tags": []
   },
   "outputs": [
    {
     "data": {
      "text/plain": [
       "False"
      ]
     },
     "execution_count": 9,
     "metadata": {},
     "output_type": "execute_result"
    }
   ],
   "source": [
    "data.isnull().values.any()"
   ]
  },
  {
   "cell_type": "code",
   "execution_count": 10,
   "id": "5ac194ab-cb93-40b4-b105-bdf238a0c99b",
   "metadata": {
    "execution": {
     "iopub.execute_input": "2023-07-31T01:30:06.997457Z",
     "iopub.status.busy": "2023-07-31T01:30:06.996970Z",
     "iopub.status.idle": "2023-07-31T01:30:07.024795Z",
     "shell.execute_reply": "2023-07-31T01:30:07.022712Z",
     "shell.execute_reply.started": "2023-07-31T01:30:06.997385Z"
    },
    "tags": []
   },
   "outputs": [
    {
     "data": {
      "text/plain": [
       "day                         object\n",
       "campaign_name               object\n",
       "user_engagement             object\n",
       "banner                      object\n",
       "placement                   object\n",
       "displays                     int64\n",
       "cost                       float64\n",
       "clicks                       int64\n",
       "revenue                    float64\n",
       "post_click_conversions       int64\n",
       "post_click_sales_amount    float64\n",
       "dtype: object"
      ]
     },
     "execution_count": 10,
     "metadata": {},
     "output_type": "execute_result"
    }
   ],
   "source": [
    "data.dtypes"
   ]
  },
  {
   "cell_type": "code",
   "execution_count": 11,
   "id": "5051f300-c3ed-4e61-82b3-0439324c9b0f",
   "metadata": {
    "execution": {
     "iopub.execute_input": "2023-07-31T01:30:07.028568Z",
     "iopub.status.busy": "2023-07-31T01:30:07.028083Z",
     "iopub.status.idle": "2023-07-31T01:30:07.135108Z",
     "shell.execute_reply": "2023-07-31T01:30:07.133296Z",
     "shell.execute_reply.started": "2023-07-31T01:30:07.028497Z"
    },
    "tags": []
   },
   "outputs": [
    {
     "data": {
      "text/html": [
       "<div>\n",
       "<style scoped>\n",
       "    .dataframe tbody tr th:only-of-type {\n",
       "        vertical-align: middle;\n",
       "    }\n",
       "\n",
       "    .dataframe tbody tr th {\n",
       "        vertical-align: top;\n",
       "    }\n",
       "\n",
       "    .dataframe thead th {\n",
       "        text-align: right;\n",
       "    }\n",
       "</style>\n",
       "<table border=\"1\" class=\"dataframe\">\n",
       "  <thead>\n",
       "    <tr style=\"text-align: right;\">\n",
       "      <th></th>\n",
       "      <th>displays</th>\n",
       "      <th>cost</th>\n",
       "      <th>clicks</th>\n",
       "      <th>revenue</th>\n",
       "      <th>post_click_conversions</th>\n",
       "      <th>post_click_sales_amount</th>\n",
       "    </tr>\n",
       "  </thead>\n",
       "  <tbody>\n",
       "    <tr>\n",
       "      <th>count</th>\n",
       "      <td>15403.000000</td>\n",
       "      <td>15403.000000</td>\n",
       "      <td>15403.000000</td>\n",
       "      <td>15403.000000</td>\n",
       "      <td>15403.000000</td>\n",
       "      <td>15403.000000</td>\n",
       "    </tr>\n",
       "    <tr>\n",
       "      <th>mean</th>\n",
       "      <td>15517.383691</td>\n",
       "      <td>11.373902</td>\n",
       "      <td>161.840226</td>\n",
       "      <td>17.935637</td>\n",
       "      <td>42.313965</td>\n",
       "      <td>2123.963529</td>\n",
       "    </tr>\n",
       "    <tr>\n",
       "      <th>std</th>\n",
       "      <td>44398.791785</td>\n",
       "      <td>45.376413</td>\n",
       "      <td>728.389447</td>\n",
       "      <td>96.797025</td>\n",
       "      <td>213.719056</td>\n",
       "      <td>10524.670688</td>\n",
       "    </tr>\n",
       "    <tr>\n",
       "      <th>min</th>\n",
       "      <td>0.000000</td>\n",
       "      <td>0.000000</td>\n",
       "      <td>0.000000</td>\n",
       "      <td>0.000000</td>\n",
       "      <td>0.000000</td>\n",
       "      <td>0.000000</td>\n",
       "    </tr>\n",
       "    <tr>\n",
       "      <th>25%</th>\n",
       "      <td>78.000000</td>\n",
       "      <td>0.024050</td>\n",
       "      <td>0.000000</td>\n",
       "      <td>0.000000</td>\n",
       "      <td>0.000000</td>\n",
       "      <td>0.000000</td>\n",
       "    </tr>\n",
       "    <tr>\n",
       "      <th>50%</th>\n",
       "      <td>1182.000000</td>\n",
       "      <td>0.340200</td>\n",
       "      <td>6.000000</td>\n",
       "      <td>0.484200</td>\n",
       "      <td>0.000000</td>\n",
       "      <td>0.000000</td>\n",
       "    </tr>\n",
       "    <tr>\n",
       "      <th>75%</th>\n",
       "      <td>8969.500000</td>\n",
       "      <td>2.537150</td>\n",
       "      <td>53.000000</td>\n",
       "      <td>3.841800</td>\n",
       "      <td>3.000000</td>\n",
       "      <td>163.502650</td>\n",
       "    </tr>\n",
       "    <tr>\n",
       "      <th>max</th>\n",
       "      <td>455986.000000</td>\n",
       "      <td>556.704800</td>\n",
       "      <td>14566.000000</td>\n",
       "      <td>2096.211600</td>\n",
       "      <td>3369.000000</td>\n",
       "      <td>199930.318000</td>\n",
       "    </tr>\n",
       "  </tbody>\n",
       "</table>\n",
       "</div>"
      ],
      "text/plain": [
       "            displays          cost        clicks       revenue  \\\n",
       "count   15403.000000  15403.000000  15403.000000  15403.000000   \n",
       "mean    15517.383691     11.373902    161.840226     17.935637   \n",
       "std     44398.791785     45.376413    728.389447     96.797025   \n",
       "min         0.000000      0.000000      0.000000      0.000000   \n",
       "25%        78.000000      0.024050      0.000000      0.000000   \n",
       "50%      1182.000000      0.340200      6.000000      0.484200   \n",
       "75%      8969.500000      2.537150     53.000000      3.841800   \n",
       "max    455986.000000    556.704800  14566.000000   2096.211600   \n",
       "\n",
       "       post_click_conversions  post_click_sales_amount  \n",
       "count            15403.000000             15403.000000  \n",
       "mean                42.313965              2123.963529  \n",
       "std                213.719056             10524.670688  \n",
       "min                  0.000000                 0.000000  \n",
       "25%                  0.000000                 0.000000  \n",
       "50%                  0.000000                 0.000000  \n",
       "75%                  3.000000               163.502650  \n",
       "max               3369.000000            199930.318000  "
      ]
     },
     "execution_count": 11,
     "metadata": {},
     "output_type": "execute_result"
    }
   ],
   "source": [
    "data.describe()"
   ]
  },
  {
   "cell_type": "code",
   "execution_count": 12,
   "id": "a0a17f23-e98a-4603-aada-8698f2770fec",
   "metadata": {
    "execution": {
     "iopub.execute_input": "2023-07-31T01:30:07.138786Z",
     "iopub.status.busy": "2023-07-31T01:30:07.138291Z",
     "iopub.status.idle": "2023-07-31T01:30:30.068995Z",
     "shell.execute_reply": "2023-07-31T01:30:30.065715Z",
     "shell.execute_reply.started": "2023-07-31T01:30:07.138714Z"
    },
    "tags": []
   },
   "outputs": [
    {
     "name": "stdout",
     "output_type": "stream",
     "text": [
      "+--------+-------------+---------------+---------+---------+--------+-------+------+--------+----------------------+-----------------------+\n",
      "|day     |campaign_name|user_engagement|banner   |placement|displays|cost   |clicks|revenue |post_click_conversions|post_click_sales_amount|\n",
      "+--------+-------------+---------------+---------+---------+--------+-------+------+--------+----------------------+-----------------------+\n",
      "|4/1/2020|Campaign 1   |High           |160 x 600|abc      |4       |0.006  |0     |0.0     |0                     |0.0                    |\n",
      "|4/1/2020|Campaign 1   |High           |160 x 600|def      |20170   |26.7824|158   |28.9717 |23                    |1972.4602              |\n",
      "|4/1/2020|Campaign 1   |High           |160 x 600|ghi      |14701   |27.6304|158   |28.9771 |78                    |2497.2636              |\n",
      "|4/1/2020|Campaign 1   |High           |160 x 600|mno      |171259  |216.875|1796  |329.4518|617                   |24625.3234             |\n",
      "|4/1/2020|Campaign 1   |Low            |160 x 600|def      |552     |0.067  |1     |0.1834  |0                     |0.0                    |\n",
      "|4/1/2020|Campaign 1   |Low            |160 x 600|ghi      |16      |0.0249 |0     |0.0     |0                     |0.0                    |\n",
      "|4/1/2020|Campaign 1   |Low            |160 x 600|mno      |2234    |0.4044 |10    |1.8347  |3                     |101.7494               |\n",
      "|4/1/2020|Campaign 1   |Medium         |160 x 600|def      |2963    |1.8899 |4     |0.7338  |4                     |100.5044               |\n",
      "|4/1/2020|Campaign 1   |Medium         |160 x 600|ghi      |580     |0.9917 |9     |1.6512  |0                     |0.0                    |\n",
      "|4/1/2020|Campaign 1   |Medium         |160 x 600|mno      |20152   |11.1678|185   |33.9397 |13                    |653.1896               |\n",
      "+--------+-------------+---------------+---------+---------+--------+-------+------+--------+----------------------+-----------------------+\n",
      "only showing top 10 rows\n",
      "\n"
     ]
    }
   ],
   "source": [
    "data_sc=spark.createDataFrame(data)\n",
    "data_sc.show(10,False)"
   ]
  },
  {
   "cell_type": "code",
   "execution_count": 13,
   "id": "e3fff0c4-3ade-493e-bb17-0bae13af1024",
   "metadata": {
    "execution": {
     "iopub.execute_input": "2023-07-31T01:30:30.074499Z",
     "iopub.status.busy": "2023-07-31T01:30:30.073805Z",
     "iopub.status.idle": "2023-07-31T01:30:30.091692Z",
     "shell.execute_reply": "2023-07-31T01:30:30.089460Z",
     "shell.execute_reply.started": "2023-07-31T01:30:30.074389Z"
    },
    "tags": []
   },
   "outputs": [
    {
     "data": {
      "text/plain": [
       "['day',\n",
       " 'campaign_name',\n",
       " 'user_engagement',\n",
       " 'banner',\n",
       " 'placement',\n",
       " 'displays',\n",
       " 'cost',\n",
       " 'clicks',\n",
       " 'revenue',\n",
       " 'post_click_conversions',\n",
       " 'post_click_sales_amount']"
      ]
     },
     "execution_count": 13,
     "metadata": {},
     "output_type": "execute_result"
    }
   ],
   "source": [
    "data_sc.columns"
   ]
  },
  {
   "cell_type": "code",
   "execution_count": 14,
   "id": "04274815-d93a-461e-b1d5-b2d43ce4438d",
   "metadata": {
    "execution": {
     "iopub.execute_input": "2023-07-31T01:30:30.097127Z",
     "iopub.status.busy": "2023-07-31T01:30:30.096469Z",
     "iopub.status.idle": "2023-07-31T01:30:31.235080Z",
     "shell.execute_reply": "2023-07-31T01:30:31.232573Z",
     "shell.execute_reply.started": "2023-07-31T01:30:30.097031Z"
    },
    "tags": []
   },
   "outputs": [],
   "source": [
    "gb1=data_sc.groupBy('day').agg(F.sum('cost'),\n",
    " F.sum('clicks'),\n",
    " F.sum('revenue'),\n",
    " F.sum('post_click_conversions'),\n",
    " F.sum('post_click_sales_amount'))\n",
    "\n",
    "gb2=data_sc.groupBy('day','campaign_name').agg(F.sum('cost'),\n",
    " F.sum('clicks'),\n",
    " F.sum('revenue'),\n",
    " F.sum('post_click_conversions'),\n",
    " F.sum('post_click_sales_amount'))\n",
    "\n",
    "gb3=data_sc.cube(['day',\n",
    " 'campaign_name',\n",
    " 'user_engagement',\n",
    " 'banner',\n",
    " 'placement']).agg(F.sum('cost').alias('cost'),F.sum('displays').alias('displays'),\n",
    " F.sum('clicks').alias('cliscks'),\n",
    " F.sum('revenue').alias('revenue'),\n",
    " F.sum('post_click_conversions').alias('post click conversion'),\n",
    " F.sum('post_click_sales_amount').alias('post click sales amount'))\n",
    "\n",
    "gb4=data_sc.groupBy('campaign_name').agg(F.sum('cost'),\n",
    " F.sum('clicks'),\n",
    " F.sum('revenue'),\n",
    " F.sum('post_click_conversions'),\n",
    " F.sum('post_click_sales_amount'))\n",
    "\n",
    "# gb1=data_sc.groupBy('day').agg(F.sum('cost'),\n",
    "#  F.sum('clicks'),\n",
    "#  F.sum('revenue'),\n",
    "#  F.sum('post_click_conversions'),\n",
    "#  F.sum('post_click_sales_amount'))\n",
    "\n",
    "# gb1=data_sc.groupBy('day').agg(F.sum('cost'),\n",
    "#  F.sum('clicks'),\n",
    "#  F.sum('revenue'),\n",
    "#  F.sum('post_click_conversions'),\n",
    "#  F.sum('post_click_sales_amount'))"
   ]
  },
  {
   "cell_type": "code",
   "execution_count": 15,
   "id": "16c785b1-4e2c-42cc-b3f4-24cae7b626ce",
   "metadata": {
    "execution": {
     "iopub.execute_input": "2023-07-31T01:30:31.261021Z",
     "iopub.status.busy": "2023-07-31T01:30:31.260321Z",
     "iopub.status.idle": "2023-07-31T01:30:31.271129Z",
     "shell.execute_reply": "2023-07-31T01:30:31.268238Z",
     "shell.execute_reply.started": "2023-07-31T01:30:31.260923Z"
    },
    "tags": []
   },
   "outputs": [],
   "source": [
    "# gb1.show(10,False)\n"
   ]
  },
  {
   "cell_type": "code",
   "execution_count": 16,
   "id": "3d815917-eef0-473b-8c50-679b5276d740",
   "metadata": {
    "execution": {
     "iopub.execute_input": "2023-07-31T01:30:31.277092Z",
     "iopub.status.busy": "2023-07-31T01:30:31.276246Z",
     "iopub.status.idle": "2023-07-31T01:30:31.303198Z",
     "shell.execute_reply": "2023-07-31T01:30:31.300269Z",
     "shell.execute_reply.started": "2023-07-31T01:30:31.276987Z"
    },
    "tags": []
   },
   "outputs": [],
   "source": [
    "# gb2.show(10,False)\n"
   ]
  },
  {
   "cell_type": "code",
   "execution_count": 17,
   "id": "c8076556-d600-46a7-8e92-5853490de1dd",
   "metadata": {
    "execution": {
     "iopub.execute_input": "2023-07-31T01:30:31.308018Z",
     "iopub.status.busy": "2023-07-31T01:30:31.307374Z",
     "iopub.status.idle": "2023-07-31T01:30:31.337895Z",
     "shell.execute_reply": "2023-07-31T01:30:31.335226Z",
     "shell.execute_reply.started": "2023-07-31T01:30:31.307921Z"
    },
    "tags": []
   },
   "outputs": [],
   "source": [
    "# gb3.show(10,False)\n"
   ]
  },
  {
   "cell_type": "code",
   "execution_count": 18,
   "id": "0b9f20b2-a288-4247-8517-14db8a320db2",
   "metadata": {
    "execution": {
     "iopub.execute_input": "2023-07-31T01:30:31.342887Z",
     "iopub.status.busy": "2023-07-31T01:30:31.342199Z",
     "iopub.status.idle": "2023-07-31T01:30:31.370675Z",
     "shell.execute_reply": "2023-07-31T01:30:31.368129Z",
     "shell.execute_reply.started": "2023-07-31T01:30:31.342791Z"
    },
    "tags": []
   },
   "outputs": [],
   "source": [
    "# gb4.show()"
   ]
  },
  {
   "cell_type": "code",
   "execution_count": 69,
   "id": "8434db04-835f-4d6d-8e7f-9f51bc10f0d2",
   "metadata": {
    "execution": {
     "iopub.execute_input": "2023-07-30T20:41:38.998190Z",
     "iopub.status.busy": "2023-07-30T20:41:38.997389Z",
     "iopub.status.idle": "2023-07-30T20:42:01.259178Z",
     "shell.execute_reply": "2023-07-30T20:42:01.256411Z",
     "shell.execute_reply.started": "2023-07-30T20:41:38.998083Z"
    },
    "tags": []
   },
   "outputs": [],
   "source": [
    "# gb3.toPandas().to_csv('cube_assignment.csv')"
   ]
  },
  {
   "cell_type": "code",
   "execution_count": 19,
   "id": "9e105b12-b53d-45c7-b0bc-0727a2ec6095",
   "metadata": {
    "execution": {
     "iopub.execute_input": "2023-07-31T01:30:35.749567Z",
     "iopub.status.busy": "2023-07-31T01:30:35.748791Z",
     "iopub.status.idle": "2023-07-31T01:30:35.758439Z",
     "shell.execute_reply": "2023-07-31T01:30:35.756116Z",
     "shell.execute_reply.started": "2023-07-31T01:30:35.749467Z"
    }
   },
   "outputs": [],
   "source": [
    "#### create a 3 by 3 matrix to find opportunity cust\n"
   ]
  },
  {
   "cell_type": "code",
   "execution_count": 25,
   "id": "63008408-444f-46c9-8377-8a42e35ce1c9",
   "metadata": {
    "execution": {
     "iopub.execute_input": "2023-07-31T01:45:00.983950Z",
     "iopub.status.busy": "2023-07-31T01:45:00.983205Z",
     "iopub.status.idle": "2023-07-31T01:45:02.533488Z",
     "shell.execute_reply": "2023-07-31T01:45:02.530502Z",
     "shell.execute_reply.started": "2023-07-31T01:45:00.983850Z"
    },
    "tags": []
   },
   "outputs": [],
   "source": [
    "pivot=data_sc.groupBy('user_engagement','banner').pivot('campaign_name').agg(F.sum('clicks').alias('clicks'))\n",
    "    \n",
    "pivot.toPandas().to_csv('3by3.csv')"
   ]
  },
  {
   "cell_type": "code",
   "execution_count": 22,
   "id": "cfd9e996-d4d7-43e3-9f58-19e234f48495",
   "metadata": {
    "execution": {
     "iopub.execute_input": "2023-07-31T01:38:45.309606Z",
     "iopub.status.busy": "2023-07-31T01:38:45.308328Z",
     "iopub.status.idle": "2023-07-31T01:38:59.738048Z",
     "shell.execute_reply": "2023-07-31T01:38:59.734960Z",
     "shell.execute_reply.started": "2023-07-31T01:38:45.309340Z"
    },
    "tags": []
   },
   "outputs": [
    {
     "name": "stdout",
     "output_type": "stream",
     "text": [
      "+---------------+---------+-------------+--------+--------+------+--------+----------------------+-----------------------+\n",
      "|user_engagement|   banner|campaign_name|displays|    cost|clicks| revenue|post_click_conversions|post_click_sales_amount|\n",
      "+---------------+---------+-------------+--------+--------+------+--------+----------------------+-----------------------+\n",
      "|         Medium|160 x 600|   Campaign 2|  189214| 44.2336|  4033|156.0297|                    22|              1214.7213|\n",
      "|           High|240 x 400|   Campaign 1|   57050| 50.6753|   359| 65.1831|                    85|              3587.8617|\n",
      "|         Medium| 728 x 90|   Campaign 1|    4336|  1.7893|    43|  7.8026|                     5|               451.3858|\n",
      "|            Low|800 x 250|   Campaign 3|      10|  3.0E-4|     0|     0.0|                     0|                    0.0|\n",
      "|         Medium|240 x 400|   Campaign 2|   37096| 17.6216|   951| 36.3705|                    12|              1403.1808|\n",
      "|            Low| 468 x 60|   Campaign 2|     202|  0.0473|     2|  0.0771|                     0|                    0.0|\n",
      "|         Medium|160 x 600|   Campaign 2|    2041|   3.102|    31|  1.2019|                     3|               139.5855|\n",
      "|         Medium|580 x 400|   Campaign 3|   11957|  1.4369|   113|  5.8419|                     0|                    0.0|\n",
      "|           High| 728 x 90|   Campaign 3|    6993|  1.7522|    12|  0.6203|                     0|                    0.0|\n",
      "|           High| 728 x 90|   Campaign 1|      41|  0.0637|     0|     0.0|                     0|                    0.0|\n",
      "|           High| 468 x 60|   Campaign 3|      57|  0.0106|     0|     0.0|                     0|                    0.0|\n",
      "|            Low|160 x 600|   Campaign 3|      15|  0.0215|     1|  0.0533|                     0|                    0.0|\n",
      "|           High|240 x 400|   Campaign 1|   48415|  23.026|   406|    75.0|                   196|              7753.2121|\n",
      "|           High|300 x 250|   Campaign 3|   26113|  6.9174|    75|  3.9957|                    11|     459.48199999999997|\n",
      "|           High| 728 x 90|   Campaign 1|  299633|308.8014|  1595|   291.0|                   645|             32544.8225|\n",
      "|            Low| 728 x 90|   Campaign 2|   31864|  2.5281|   169|  6.8121|                     2|               116.3445|\n",
      "|           High| 468 x 60|   Campaign 1|     382|  0.1551|     0|     0.0|                     0|                    0.0|\n",
      "|            Low| 728 x 90|   Campaign 3|    3717|  0.2788|    25|  1.3467|                     0|                    0.0|\n",
      "|         Medium| 670 x 90|   Campaign 1|    1348|  0.8139|     0|     0.0|                     0|                    0.0|\n",
      "|            Low| 728 x 90|   Campaign 2|    2949|  3.0376|    52|  2.0797|                     2|                 12.692|\n",
      "+---------------+---------+-------------+--------+--------+------+--------+----------------------+-----------------------+\n",
      "only showing top 20 rows\n",
      "\n"
     ]
    }
   ],
   "source": [
    "data_sc1=data_sc.select('user_engagement','banner','campaign_name','displays',\n",
    " 'cost',\n",
    " 'clicks',\n",
    " 'revenue',\n",
    " 'post_click_conversions',\n",
    " 'post_click_sales_amount').distinct()\n",
    "data_sc1.show()"
   ]
  },
  {
   "cell_type": "code",
   "execution_count": 23,
   "id": "2ec0a712-452a-4c4d-a7a4-3b30baa83f55",
   "metadata": {
    "execution": {
     "iopub.execute_input": "2023-07-31T01:40:55.531238Z",
     "iopub.status.busy": "2023-07-31T01:40:55.530487Z",
     "iopub.status.idle": "2023-07-31T01:41:12.734525Z",
     "shell.execute_reply": "2023-07-31T01:41:12.731568Z",
     "shell.execute_reply.started": "2023-07-31T01:40:55.531135Z"
    }
   },
   "outputs": [
    {
     "name": "stdout",
     "output_type": "stream",
     "text": [
      "+----------------------+---------+---------+---------+--------+---------+--------+--------+---------+\n",
      "|user_engagement_banner|160 x 600|240 x 400|300 x 250|468 x 60|580 x 400|670 x 90|728 x 90|800 x 250|\n",
      "+----------------------+---------+---------+---------+--------+---------+--------+--------+---------+\n",
      "|                Medium|      614|      848|      969|     611|      212|     838|     998|      102|\n",
      "|                  High|      551|      728|      863|     548|      182|     726|     919|      129|\n",
      "|                   Low|      568|      848|      892|     469|      212|     715|     939|       53|\n",
      "+----------------------+---------+---------+---------+--------+---------+--------+--------+---------+\n",
      "\n"
     ]
    }
   ],
   "source": [
    "\t\n",
    "## Cross table in pyspark\n",
    " \n",
    "data_sc1.crosstab('user_engagement', 'banner').show()"
   ]
  },
  {
   "cell_type": "code",
   "execution_count": null,
   "id": "a1e2094f-5e63-455a-aa6e-e09f5d1a7b80",
   "metadata": {},
   "outputs": [],
   "source": [
    "#AB testing"
   ]
  },
  {
   "cell_type": "code",
   "execution_count": 3,
   "id": "3cd3cbb2-2749-4096-b314-bcd94325aeac",
   "metadata": {
    "execution": {
     "iopub.execute_input": "2023-08-02T00:11:35.657514Z",
     "iopub.status.busy": "2023-08-02T00:11:35.656740Z",
     "iopub.status.idle": "2023-08-02T00:11:35.739466Z",
     "shell.execute_reply": "2023-08-02T00:11:35.736397Z",
     "shell.execute_reply.started": "2023-08-02T00:11:35.657412Z"
    },
    "tags": []
   },
   "outputs": [],
   "source": [
    "# import packages\n",
    "import pandas as pd\n",
    "import matplotlib.pyplot as plt\n",
    "\n",
    "# import chi2_contingency to compute for the chi-square statistics and the p-value for the particular hypothesis test\n",
    "# import chi2 to find the critical value based on the acceptance criteria\n",
    "from scipy.stats import chi2_contingency, chi2 \n",
    "\n",
    "# import data\n",
    "campaign_data=pd.read_csv('raw_data.csv')"
   ]
  },
  {
   "cell_type": "code",
   "execution_count": 6,
   "id": "fed526a5-9b27-44d2-bd92-2782cde9340e",
   "metadata": {
    "execution": {
     "iopub.execute_input": "2023-08-02T00:16:49.324086Z",
     "iopub.status.busy": "2023-08-02T00:16:49.323314Z",
     "iopub.status.idle": "2023-08-02T00:16:49.387969Z",
     "shell.execute_reply": "2023-08-02T00:16:49.385642Z",
     "shell.execute_reply.started": "2023-08-02T00:16:49.323987Z"
    },
    "tags": []
   },
   "outputs": [
    {
     "data": {
      "text/html": [
       "<div>\n",
       "<style scoped>\n",
       "    .dataframe tbody tr th:only-of-type {\n",
       "        vertical-align: middle;\n",
       "    }\n",
       "\n",
       "    .dataframe tbody tr th {\n",
       "        vertical-align: top;\n",
       "    }\n",
       "\n",
       "    .dataframe thead th {\n",
       "        text-align: right;\n",
       "    }\n",
       "</style>\n",
       "<table border=\"1\" class=\"dataframe\">\n",
       "  <thead>\n",
       "    <tr style=\"text-align: right;\">\n",
       "      <th></th>\n",
       "      <th>day</th>\n",
       "      <th>campaign_name</th>\n",
       "      <th>user_engagement</th>\n",
       "      <th>banner</th>\n",
       "      <th>placement</th>\n",
       "      <th>displays</th>\n",
       "      <th>cost</th>\n",
       "      <th>clicks</th>\n",
       "      <th>revenue</th>\n",
       "      <th>post_click_conversions</th>\n",
       "      <th>post_click_sales_amount</th>\n",
       "    </tr>\n",
       "  </thead>\n",
       "  <tbody>\n",
       "    <tr>\n",
       "      <th>0</th>\n",
       "      <td>4/1/2020</td>\n",
       "      <td>Campaign 1</td>\n",
       "      <td>High</td>\n",
       "      <td>160 x 600</td>\n",
       "      <td>abc</td>\n",
       "      <td>4</td>\n",
       "      <td>0.0060</td>\n",
       "      <td>0</td>\n",
       "      <td>0.0000</td>\n",
       "      <td>0</td>\n",
       "      <td>0.0000</td>\n",
       "    </tr>\n",
       "    <tr>\n",
       "      <th>1</th>\n",
       "      <td>4/1/2020</td>\n",
       "      <td>Campaign 1</td>\n",
       "      <td>High</td>\n",
       "      <td>160 x 600</td>\n",
       "      <td>def</td>\n",
       "      <td>20170</td>\n",
       "      <td>26.7824</td>\n",
       "      <td>158</td>\n",
       "      <td>28.9717</td>\n",
       "      <td>23</td>\n",
       "      <td>1972.4602</td>\n",
       "    </tr>\n",
       "    <tr>\n",
       "      <th>2</th>\n",
       "      <td>4/1/2020</td>\n",
       "      <td>Campaign 1</td>\n",
       "      <td>High</td>\n",
       "      <td>160 x 600</td>\n",
       "      <td>ghi</td>\n",
       "      <td>14701</td>\n",
       "      <td>27.6304</td>\n",
       "      <td>158</td>\n",
       "      <td>28.9771</td>\n",
       "      <td>78</td>\n",
       "      <td>2497.2636</td>\n",
       "    </tr>\n",
       "    <tr>\n",
       "      <th>3</th>\n",
       "      <td>4/1/2020</td>\n",
       "      <td>Campaign 1</td>\n",
       "      <td>High</td>\n",
       "      <td>160 x 600</td>\n",
       "      <td>mno</td>\n",
       "      <td>171259</td>\n",
       "      <td>216.8750</td>\n",
       "      <td>1796</td>\n",
       "      <td>329.4518</td>\n",
       "      <td>617</td>\n",
       "      <td>24625.3234</td>\n",
       "    </tr>\n",
       "    <tr>\n",
       "      <th>4</th>\n",
       "      <td>4/1/2020</td>\n",
       "      <td>Campaign 1</td>\n",
       "      <td>Low</td>\n",
       "      <td>160 x 600</td>\n",
       "      <td>def</td>\n",
       "      <td>552</td>\n",
       "      <td>0.0670</td>\n",
       "      <td>1</td>\n",
       "      <td>0.1834</td>\n",
       "      <td>0</td>\n",
       "      <td>0.0000</td>\n",
       "    </tr>\n",
       "  </tbody>\n",
       "</table>\n",
       "</div>"
      ],
      "text/plain": [
       "        day campaign_name user_engagement     banner placement  displays  \\\n",
       "0  4/1/2020    Campaign 1            High  160 x 600       abc         4   \n",
       "1  4/1/2020    Campaign 1            High  160 x 600       def     20170   \n",
       "2  4/1/2020    Campaign 1            High  160 x 600       ghi     14701   \n",
       "3  4/1/2020    Campaign 1            High  160 x 600       mno    171259   \n",
       "4  4/1/2020    Campaign 1             Low  160 x 600       def       552   \n",
       "\n",
       "       cost  clicks   revenue  post_click_conversions  post_click_sales_amount  \n",
       "0    0.0060       0    0.0000                       0                   0.0000  \n",
       "1   26.7824     158   28.9717                      23                1972.4602  \n",
       "2   27.6304     158   28.9771                      78                2497.2636  \n",
       "3  216.8750    1796  329.4518                     617               24625.3234  \n",
       "4    0.0670       1    0.1834                       0                   0.0000  "
      ]
     },
     "execution_count": 6,
     "metadata": {},
     "output_type": "execute_result"
    }
   ],
   "source": [
    "campaign_data.head()"
   ]
  },
  {
   "cell_type": "code",
   "execution_count": null,
   "id": "35e52d06-eec7-4aef-a05f-bdbb5bd68c5f",
   "metadata": {},
   "outputs": [],
   "source": []
  },
  {
   "cell_type": "code",
   "execution_count": 7,
   "id": "04b15dfc-a0e5-4b82-9a3c-fb2fe86a0f5a",
   "metadata": {
    "execution": {
     "iopub.execute_input": "2023-08-02T00:17:01.465150Z",
     "iopub.status.busy": "2023-08-02T00:17:01.464404Z",
     "iopub.status.idle": "2023-08-02T00:17:01.591296Z",
     "shell.execute_reply": "2023-08-02T00:17:01.588181Z",
     "shell.execute_reply.started": "2023-08-02T00:17:01.465051Z"
    },
    "tags": []
   },
   "outputs": [
    {
     "name": "stdout",
     "output_type": "stream",
     "text": [
      "0.328 0.37797619047619047\n"
     ]
    }
   ],
   "source": [
    "# create a 2x2 matrix array\n",
    "# summarise to get our observed frequencies\n",
    "observed_values = pd.crosstab(campaign_data[\"campaign_name\"], campaign_data[\"banner\"]).values\n",
    "\n",
    "mailer1_signup_rate = 123 / (252 + 123) \n",
    "mailer2_signup_rate = 127 / (209 + 127)\n",
    "print(mailer1_signup_rate, mailer2_signup_rate)"
   ]
  },
  {
   "cell_type": "code",
   "execution_count": 8,
   "id": "f6bbe3d7-f603-46d9-80c3-241c2aab554b",
   "metadata": {
    "execution": {
     "iopub.execute_input": "2023-08-02T00:17:23.905978Z",
     "iopub.status.busy": "2023-08-02T00:17:23.905175Z",
     "iopub.status.idle": "2023-08-02T00:17:23.917983Z",
     "shell.execute_reply": "2023-08-02T00:17:23.914827Z",
     "shell.execute_reply.started": "2023-08-02T00:17:23.905876Z"
    }
   },
   "outputs": [],
   "source": [
    "null_hypothesis = \"There is no relationship between mailer type and signup rate. They are independent.\"\n",
    "alternate_hypothesis = \"There is a relationship between mailer type and signup rate. They are not independent.\"\n",
    "acceptance_criteria = 0.05"
   ]
  },
  {
   "cell_type": "code",
   "execution_count": 9,
   "id": "89e99be3-8c42-4e68-8eb8-efa6cae1481f",
   "metadata": {
    "execution": {
     "iopub.execute_input": "2023-08-02T00:17:36.552103Z",
     "iopub.status.busy": "2023-08-02T00:17:36.551327Z",
     "iopub.status.idle": "2023-08-02T00:17:36.576947Z",
     "shell.execute_reply": "2023-08-02T00:17:36.573444Z",
     "shell.execute_reply.started": "2023-08-02T00:17:36.552003Z"
    }
   },
   "outputs": [
    {
     "name": "stdout",
     "output_type": "stream",
     "text": [
      "19.787718135537553 0.13697751092520333\n",
      "23.684791304840576\n"
     ]
    }
   ],
   "source": [
    "# calculate expected frequencies & chi square statistic\n",
    "chi2_statistic, p_value, dof, expected_values = chi2_contingency(observed_values, correction = False)\n",
    "print(chi2_statistic, p_value)\n",
    "\n",
    "# find the critical value for our test\n",
    "critical_value = chi2.ppf(1 - acceptance_criteria, dof)\n",
    "print(critical_value)"
   ]
  },
  {
   "cell_type": "code",
   "execution_count": 13,
   "id": "b8904178-64ba-49fd-ba35-6caad291b28d",
   "metadata": {
    "execution": {
     "iopub.execute_input": "2023-08-02T00:20:52.442798Z",
     "iopub.status.busy": "2023-08-02T00:20:52.442019Z",
     "iopub.status.idle": "2023-08-02T00:20:52.458501Z",
     "shell.execute_reply": "2023-08-02T00:20:52.455836Z",
     "shell.execute_reply.started": "2023-08-02T00:20:52.442698Z"
    },
    "tags": []
   },
   "outputs": [
    {
     "name": "stdout",
     "output_type": "stream",
     "text": [
      "As our chi-square statistic of 19.787718135537553 is lower than our critical value of 23.684791304840576 - we retain the null hypothesis, and conclude that: There is no relationship between mailer type and signup rate. They are independent.\n"
     ]
    }
   ],
   "source": [
    "if chi2_statistic >= critical_value:\n",
    "    print(f\"As our chi-square statistic of {chi2_statistic} is higher than our critical value of {critical_value} - we reject the null hypothesis, and conclude that: {alternate_hypothesis}.\")\n",
    "    \n",
    "else:\n",
    "    print(f\"As our chi-square statistic of {chi2_statistic} is lower than our critical value of {critical_value} - we retain the null hypothesis, and conclude that: There is no relationship between mailer type and signup rate. They are independent.\")\n",
    "          "
   ]
  },
  {
   "cell_type": "code",
   "execution_count": 16,
   "id": "b63a04ab-ece5-43df-8459-6ebd88778595",
   "metadata": {
    "execution": {
     "iopub.execute_input": "2023-08-02T00:21:31.762840Z",
     "iopub.status.busy": "2023-08-02T00:21:31.762053Z",
     "iopub.status.idle": "2023-08-02T00:21:31.778273Z",
     "shell.execute_reply": "2023-08-02T00:21:31.775327Z",
     "shell.execute_reply.started": "2023-08-02T00:21:31.762739Z"
    },
    "tags": []
   },
   "outputs": [
    {
     "name": "stdout",
     "output_type": "stream",
     "text": [
      "As our p_value of 0.13697751092520333 is higher than our acceptance_criteria of 0.05 - we retain the null hypothesis, and conclude that: There is no relationship between mailer type and signup rate. They are independent.\n"
     ]
    }
   ],
   "source": [
    "if p_value <= acceptance_criteria:\n",
    "    print(f\"As our p_value of {p_value} is lower than our acceptance_criteria of {acceptance_criteria} - we reject the null hypothesis, and conclude that: {alternate_hypothesis}.\")\n",
    "else:\n",
    "    print(f\"As our p_value of {p_value} is higher than our acceptance_criteria of {acceptance_criteria} - we retain the null hypothesis, and conclude that: There is no relationship between mailer type and signup rate. They are independent.\")"
   ]
  },
  {
   "cell_type": "code",
   "execution_count": null,
   "id": "159110d3-e4e6-4716-aed5-f1d78da96c9f",
   "metadata": {},
   "outputs": [],
   "source": []
  },
  {
   "cell_type": "code",
   "execution_count": 1,
   "id": "fab93371-7439-4984-985b-7fae00fefdf3",
   "metadata": {
    "execution": {
     "iopub.execute_input": "2023-08-03T00:28:46.259562Z",
     "iopub.status.busy": "2023-08-03T00:28:46.258685Z",
     "iopub.status.idle": "2023-08-03T00:28:46.320214Z",
     "shell.execute_reply": "2023-08-03T00:28:46.315163Z",
     "shell.execute_reply.started": "2023-08-03T00:28:46.259438Z"
    }
   },
   "outputs": [
    {
     "ename": "SyntaxError",
     "evalue": "invalid syntax (<ipython-input-1-d1e3aeec4e84>, line 6)",
     "output_type": "error",
     "traceback": [
      "\u001b[0;36m  File \u001b[0;32m\"<ipython-input-1-d1e3aeec4e84>\"\u001b[0;36m, line \u001b[0;32m6\u001b[0m\n\u001b[0;31m    f'Churn values: {set(telcom['Churn'])}\\n\\n'\u001b[0m\n\u001b[0m                                     ^\u001b[0m\n\u001b[0;31mSyntaxError\u001b[0m\u001b[0;31m:\u001b[0m invalid syntax\n"
     ]
    }
   ],
   "source": [
    "###churn\n",
    "import pandas as pd\n",
    "\n",
    "telcom = pd.read_csv('raw_data.csv')\n",
    "print(f'Number of customers: {telcom.shape[0]:,}\\n'\n",
    "      f'Churn values: {set(telcom['Churn'])}\\n\\n'\n",
    "      f'Churn distribution, %:\\n{round(telcom.groupby(['Churn']).size()/telcom.shape[0]*100).convert_dtypes()}')"
   ]
  },
  {
   "cell_type": "code",
   "execution_count": 8,
   "id": "f53372b9-c736-45a3-8880-d0833de5d1dd",
   "metadata": {
    "execution": {
     "iopub.execute_input": "2023-08-03T10:31:11.972312Z",
     "iopub.status.busy": "2023-08-03T10:31:11.971567Z",
     "iopub.status.idle": "2023-08-03T10:31:12.211260Z",
     "shell.execute_reply": "2023-08-03T10:31:12.208225Z",
     "shell.execute_reply.started": "2023-08-03T10:31:11.972211Z"
    },
    "tags": []
   },
   "outputs": [
    {
     "data": {
      "text/html": [
       "<div>\n",
       "<style scoped>\n",
       "    .dataframe tbody tr th:only-of-type {\n",
       "        vertical-align: middle;\n",
       "    }\n",
       "\n",
       "    .dataframe tbody tr th {\n",
       "        vertical-align: top;\n",
       "    }\n",
       "\n",
       "    .dataframe thead th {\n",
       "        text-align: right;\n",
       "    }\n",
       "</style>\n",
       "<table border=\"1\" class=\"dataframe\">\n",
       "  <thead>\n",
       "    <tr style=\"text-align: right;\">\n",
       "      <th></th>\n",
       "      <th>day_encoded</th>\n",
       "      <th>camp_encoded</th>\n",
       "      <th>userX_encoded</th>\n",
       "      <th>banner_encoded</th>\n",
       "      <th>placement_encoded</th>\n",
       "      <th>displays</th>\n",
       "      <th>cost</th>\n",
       "      <th>clicks</th>\n",
       "      <th>revenue</th>\n",
       "      <th>post_click_conversions</th>\n",
       "      <th>post_click_sales_amount</th>\n",
       "    </tr>\n",
       "  </thead>\n",
       "  <tbody>\n",
       "    <tr>\n",
       "      <th>0</th>\n",
       "      <td>0</td>\n",
       "      <td>0</td>\n",
       "      <td>0</td>\n",
       "      <td>0</td>\n",
       "      <td>0</td>\n",
       "      <td>4</td>\n",
       "      <td>0.0060</td>\n",
       "      <td>0</td>\n",
       "      <td>0.0000</td>\n",
       "      <td>0</td>\n",
       "      <td>0.0000</td>\n",
       "    </tr>\n",
       "    <tr>\n",
       "      <th>1</th>\n",
       "      <td>0</td>\n",
       "      <td>0</td>\n",
       "      <td>0</td>\n",
       "      <td>0</td>\n",
       "      <td>1</td>\n",
       "      <td>20170</td>\n",
       "      <td>26.7824</td>\n",
       "      <td>158</td>\n",
       "      <td>28.9717</td>\n",
       "      <td>23</td>\n",
       "      <td>1972.4602</td>\n",
       "    </tr>\n",
       "    <tr>\n",
       "      <th>2</th>\n",
       "      <td>0</td>\n",
       "      <td>0</td>\n",
       "      <td>0</td>\n",
       "      <td>0</td>\n",
       "      <td>2</td>\n",
       "      <td>14701</td>\n",
       "      <td>27.6304</td>\n",
       "      <td>158</td>\n",
       "      <td>28.9771</td>\n",
       "      <td>78</td>\n",
       "      <td>2497.2636</td>\n",
       "    </tr>\n",
       "    <tr>\n",
       "      <th>3</th>\n",
       "      <td>0</td>\n",
       "      <td>0</td>\n",
       "      <td>0</td>\n",
       "      <td>0</td>\n",
       "      <td>4</td>\n",
       "      <td>171259</td>\n",
       "      <td>216.8750</td>\n",
       "      <td>1796</td>\n",
       "      <td>329.4518</td>\n",
       "      <td>617</td>\n",
       "      <td>24625.3234</td>\n",
       "    </tr>\n",
       "    <tr>\n",
       "      <th>4</th>\n",
       "      <td>0</td>\n",
       "      <td>0</td>\n",
       "      <td>1</td>\n",
       "      <td>0</td>\n",
       "      <td>1</td>\n",
       "      <td>552</td>\n",
       "      <td>0.0670</td>\n",
       "      <td>1</td>\n",
       "      <td>0.1834</td>\n",
       "      <td>0</td>\n",
       "      <td>0.0000</td>\n",
       "    </tr>\n",
       "  </tbody>\n",
       "</table>\n",
       "</div>"
      ],
      "text/plain": [
       "   day_encoded  camp_encoded  userX_encoded  banner_encoded  \\\n",
       "0            0             0              0               0   \n",
       "1            0             0              0               0   \n",
       "2            0             0              0               0   \n",
       "3            0             0              0               0   \n",
       "4            0             0              1               0   \n",
       "\n",
       "   placement_encoded  displays      cost  clicks   revenue  \\\n",
       "0                  0         4    0.0060       0    0.0000   \n",
       "1                  1     20170   26.7824     158   28.9717   \n",
       "2                  2     14701   27.6304     158   28.9771   \n",
       "3                  4    171259  216.8750    1796  329.4518   \n",
       "4                  1       552    0.0670       1    0.1834   \n",
       "\n",
       "   post_click_conversions  post_click_sales_amount  \n",
       "0                       0                   0.0000  \n",
       "1                      23                1972.4602  \n",
       "2                      78                2497.2636  \n",
       "3                     617               24625.3234  \n",
       "4                       0                   0.0000  "
      ]
     },
     "execution_count": 8,
     "metadata": {},
     "output_type": "execute_result"
    }
   ],
   "source": [
    "# import pandas as pd\n",
    "\n",
    "# # Sample DataFrame with a date column in string format\n",
    "# date=pd.read_csv('raw_data.csv')\n",
    "\n",
    "# df = pd.DataFrame(date)\n",
    "# df.head()\n",
    "# # Step 1: Convert the date column to a pandas datetime object\n",
    "# df['day'] = pd.to_datetime(df['day'])\n",
    "\n",
    "# # Step 2: Convert the datetime object to a float representation (Unix timestamp)\n",
    "# df['day'] = df['day'].astype(int) / 10**9  # Divide by 10^9 to convert nanoseconds to seconds\n",
    "\n",
    "# print(df)\n",
    "\n",
    "import pandas as pd\n",
    "from sklearn.preprocessing import LabelEncoder\n",
    "\n",
    "# Sample DataFrame with a categorical column\n",
    "data = pd.read_csv('raw_data.csv')\n",
    "df = pd.DataFrame(data)\n",
    "# df.head()\n",
    "# Create a LabelEncoder object\n",
    "label_encoder = LabelEncoder()\n",
    "\n",
    "# Fit and transform the categorical column\n",
    "df['day_encoded'] = label_encoder.fit_transform(df['day'])\n",
    "df['camp_encoded'] = label_encoder.fit_transform(df['campaign_name'])\n",
    "df['userX_encoded'] = label_encoder.fit_transform(df['user_engagement'])\n",
    "df['banner_encoded'] = label_encoder.fit_transform(df['banner'])\n",
    "df['placement_encoded'] = label_encoder.fit_transform(df['placement'])\n",
    "\n",
    "df1=df[['day_encoded','camp_encoded','userX_encoded','banner_encoded','placement_encoded','displays','cost','clicks','revenue','post_click_conversions','post_click_sales_amount']]\n",
    "df1.head()"
   ]
  },
  {
   "cell_type": "code",
   "execution_count": 19,
   "id": "454dd5cc-e1f5-4117-a0f1-b1e767dc7a4e",
   "metadata": {
    "execution": {
     "iopub.execute_input": "2023-08-03T11:22:03.212230Z",
     "iopub.status.busy": "2023-08-03T11:22:03.211472Z",
     "iopub.status.idle": "2023-08-03T11:22:12.812657Z",
     "shell.execute_reply": "2023-08-03T11:22:12.808996Z",
     "shell.execute_reply.started": "2023-08-03T11:22:03.212124Z"
    },
    "tags": []
   },
   "outputs": [
    {
     "ename": "AttributeError",
     "evalue": "'RandomForestClassifier' object has no attribute 'estimators_'",
     "output_type": "error",
     "traceback": [
      "\u001b[0;31m---------------------------------------------------------------------------\u001b[0m",
      "\u001b[0;31mAttributeError\u001b[0m                            Traceback (most recent call last)",
      "\u001b[0;32m<ipython-input-19-b92476b58bcb>\u001b[0m in \u001b[0;36m<module>\u001b[0;34m\u001b[0m\n\u001b[1;32m     34\u001b[0m \u001b[0;34m\u001b[0m\u001b[0m\n\u001b[1;32m     35\u001b[0m \u001b[0;31m# Get feature importances\u001b[0m\u001b[0;34m\u001b[0m\u001b[0;34m\u001b[0m\u001b[0;34m\u001b[0m\u001b[0m\n\u001b[0;32m---> 36\u001b[0;31m \u001b[0mfeature_importances\u001b[0m \u001b[0;34m=\u001b[0m \u001b[0mmodel\u001b[0m\u001b[0;34m.\u001b[0m\u001b[0mfeature_importances_\u001b[0m\u001b[0;34m\u001b[0m\u001b[0;34m\u001b[0m\u001b[0m\n\u001b[0m\u001b[1;32m     37\u001b[0m \u001b[0;34m\u001b[0m\u001b[0m\n\u001b[1;32m     38\u001b[0m \u001b[0;31m# Sort feature importances in descending order\u001b[0m\u001b[0;34m\u001b[0m\u001b[0;34m\u001b[0m\u001b[0;34m\u001b[0m\u001b[0m\n",
      "\u001b[0;32m/usr/local/lib64/python3.6/site-packages/sklearn/ensemble/_forest.py\u001b[0m in \u001b[0;36mfeature_importances_\u001b[0;34m(self)\u001b[0m\n\u001b[1;32m    448\u001b[0m                                    \u001b[0;34m**\u001b[0m\u001b[0m_joblib_parallel_args\u001b[0m\u001b[0;34m(\u001b[0m\u001b[0mprefer\u001b[0m\u001b[0;34m=\u001b[0m\u001b[0;34m'threads'\u001b[0m\u001b[0;34m)\u001b[0m\u001b[0;34m)\u001b[0m\u001b[0;34m(\u001b[0m\u001b[0;34m\u001b[0m\u001b[0;34m\u001b[0m\u001b[0m\n\u001b[1;32m    449\u001b[0m             \u001b[0mdelayed\u001b[0m\u001b[0;34m(\u001b[0m\u001b[0mgetattr\u001b[0m\u001b[0;34m)\u001b[0m\u001b[0;34m(\u001b[0m\u001b[0mtree\u001b[0m\u001b[0;34m,\u001b[0m \u001b[0;34m'feature_importances_'\u001b[0m\u001b[0;34m)\u001b[0m\u001b[0;34m\u001b[0m\u001b[0;34m\u001b[0m\u001b[0m\n\u001b[0;32m--> 450\u001b[0;31m             for tree in self.estimators_ if tree.tree_.node_count > 1)\n\u001b[0m\u001b[1;32m    451\u001b[0m \u001b[0;34m\u001b[0m\u001b[0m\n\u001b[1;32m    452\u001b[0m         \u001b[0;32mif\u001b[0m \u001b[0;32mnot\u001b[0m \u001b[0mall_importances\u001b[0m\u001b[0;34m:\u001b[0m\u001b[0;34m\u001b[0m\u001b[0;34m\u001b[0m\u001b[0m\n",
      "\u001b[0;31mAttributeError\u001b[0m: 'RandomForestClassifier' object has no attribute 'estimators_'"
     ]
    }
   ],
   "source": [
    "# import pandas as pd\n",
    "# from sklearn.model_selection import train_test_split\n",
    "# from sklearn.ensemble import RandomForestClassifier\n",
    "# from sklearn.metrics import accuracy_score\n",
    "\n",
    "# # Step 1: Import your dataset (replace 'data.csv' with the path to your dataset)\n",
    "# # data = pd.read_csv('raw_data.csv')\n",
    "# data=df1\n",
    "# # Step 2: Prepare the data into features (X) and target variable (y)\n",
    "# X = data.drop('revenue', axis=1)  # Replace 'target_column' with the name of your target column\n",
    "# y = data['revenue']\n",
    "\n",
    "# # Step 3: Split the data into training and testing sets (80% training, 20% testing)\n",
    "# X_train, X_test, y_train, y_test = train_test_split(X, y, test_size=0.2, random_state=42)\n",
    "import pandas as pd\n",
    "from sklearn.model_selection import train_test_split\n",
    "from sklearn.ensemble import RandomForestRegressor\n",
    "from sklearn.metrics import mean_squared_error\n",
    "\n",
    "# Sample DataFrame with a continuous target variable\n",
    "df=df1\n",
    "df = pd.DataFrame(data)\n",
    "\n",
    "# Split the data into features (X) and the target variable (y)\n",
    "X = df.drop('revenue', axis=1)\n",
    "y = df['revenue']\n",
    "\n",
    "# Split the data into training and testing sets\n",
    "X_train, X_test, y_train, y_test = train_test_split(X, y, test_size=0.2, random_state=42)\n",
    "\n",
    "# Create a RandomForestRegressor and fit the model\n",
    "regressor = RandomForestRegressor(n_estimators=100, random_state=42)\n",
    "regressor.fit(X_train, y_train)\n",
    "\n",
    "# Get feature importances\n",
    "feature_importances = model.feature_importances_\n",
    "\n",
    "# Sort feature importances in descending order\n",
    "indices = feature_importances.argsort()[::-1]\n",
    "\n",
    "# Select the top N features\n",
    "N = 5\n",
    "selected_features = X_train.columns[indices][:N]\n",
    "\n",
    "# # Make predictions on the test set\n",
    "# y_pred = regressor.predict(X_test)\n",
    "\n",
    "# # Evaluate the model using Mean Squared Error (MSE)\n",
    "# mse = mean_squared_error(y_test, y_pred)\n",
    "# print(f\"Mean Squared Error: {mse}\")\n",
    "\n"
   ]
  },
  {
   "cell_type": "code",
   "execution_count": 12,
   "id": "bfaec4aa-97b9-43f2-af2b-543313b05fc7",
   "metadata": {
    "execution": {
     "iopub.execute_input": "2023-08-03T11:14:09.062692Z",
     "iopub.status.busy": "2023-08-03T11:14:09.061583Z",
     "iopub.status.idle": "2023-08-03T11:14:09.128742Z",
     "shell.execute_reply": "2023-08-03T11:14:09.123526Z",
     "shell.execute_reply.started": "2023-08-03T11:14:09.062562Z"
    },
    "tags": []
   },
   "outputs": [
    {
     "ename": "ValueError",
     "evalue": "Unknown label type: 'continuous'",
     "output_type": "error",
     "traceback": [
      "\u001b[0;31m---------------------------------------------------------------------------\u001b[0m",
      "\u001b[0;31mValueError\u001b[0m                                Traceback (most recent call last)",
      "\u001b[0;32m<ipython-input-12-a15f79cd81fe>\u001b[0m in \u001b[0;36m<module>\u001b[0;34m\u001b[0m\n\u001b[1;32m      3\u001b[0m \u001b[0;34m\u001b[0m\u001b[0m\n\u001b[1;32m      4\u001b[0m \u001b[0;31m# Step 5: Fit the model on the training data\u001b[0m\u001b[0;34m\u001b[0m\u001b[0;34m\u001b[0m\u001b[0;34m\u001b[0m\u001b[0m\n\u001b[0;32m----> 5\u001b[0;31m \u001b[0mmodel\u001b[0m\u001b[0;34m.\u001b[0m\u001b[0mfit\u001b[0m\u001b[0;34m(\u001b[0m\u001b[0mX_train\u001b[0m\u001b[0;34m,\u001b[0m \u001b[0my_train\u001b[0m\u001b[0;34m)\u001b[0m\u001b[0;34m\u001b[0m\u001b[0;34m\u001b[0m\u001b[0m\n\u001b[0m\u001b[1;32m      6\u001b[0m \u001b[0;34m\u001b[0m\u001b[0m\n\u001b[1;32m      7\u001b[0m \u001b[0;31m# # Step 6: Make predictions on the test data\u001b[0m\u001b[0;34m\u001b[0m\u001b[0;34m\u001b[0m\u001b[0;34m\u001b[0m\u001b[0m\n",
      "\u001b[0;32m/usr/local/lib64/python3.6/site-packages/sklearn/ensemble/_forest.py\u001b[0m in \u001b[0;36mfit\u001b[0;34m(self, X, y, sample_weight)\u001b[0m\n\u001b[1;32m    329\u001b[0m         \u001b[0mself\u001b[0m\u001b[0;34m.\u001b[0m\u001b[0mn_outputs_\u001b[0m \u001b[0;34m=\u001b[0m \u001b[0my\u001b[0m\u001b[0;34m.\u001b[0m\u001b[0mshape\u001b[0m\u001b[0;34m[\u001b[0m\u001b[0;36m1\u001b[0m\u001b[0;34m]\u001b[0m\u001b[0;34m\u001b[0m\u001b[0;34m\u001b[0m\u001b[0m\n\u001b[1;32m    330\u001b[0m \u001b[0;34m\u001b[0m\u001b[0m\n\u001b[0;32m--> 331\u001b[0;31m         \u001b[0my\u001b[0m\u001b[0;34m,\u001b[0m \u001b[0mexpanded_class_weight\u001b[0m \u001b[0;34m=\u001b[0m \u001b[0mself\u001b[0m\u001b[0;34m.\u001b[0m\u001b[0m_validate_y_class_weight\u001b[0m\u001b[0;34m(\u001b[0m\u001b[0my\u001b[0m\u001b[0;34m)\u001b[0m\u001b[0;34m\u001b[0m\u001b[0;34m\u001b[0m\u001b[0m\n\u001b[0m\u001b[1;32m    332\u001b[0m \u001b[0;34m\u001b[0m\u001b[0m\n\u001b[1;32m    333\u001b[0m         \u001b[0;32mif\u001b[0m \u001b[0mgetattr\u001b[0m\u001b[0;34m(\u001b[0m\u001b[0my\u001b[0m\u001b[0;34m,\u001b[0m \u001b[0;34m\"dtype\"\u001b[0m\u001b[0;34m,\u001b[0m \u001b[0;32mNone\u001b[0m\u001b[0;34m)\u001b[0m \u001b[0;34m!=\u001b[0m \u001b[0mDOUBLE\u001b[0m \u001b[0;32mor\u001b[0m \u001b[0;32mnot\u001b[0m \u001b[0my\u001b[0m\u001b[0;34m.\u001b[0m\u001b[0mflags\u001b[0m\u001b[0;34m.\u001b[0m\u001b[0mcontiguous\u001b[0m\u001b[0;34m:\u001b[0m\u001b[0;34m\u001b[0m\u001b[0;34m\u001b[0m\u001b[0m\n",
      "\u001b[0;32m/usr/local/lib64/python3.6/site-packages/sklearn/ensemble/_forest.py\u001b[0m in \u001b[0;36m_validate_y_class_weight\u001b[0;34m(self, y)\u001b[0m\n\u001b[1;32m    557\u001b[0m \u001b[0;34m\u001b[0m\u001b[0m\n\u001b[1;32m    558\u001b[0m     \u001b[0;32mdef\u001b[0m \u001b[0m_validate_y_class_weight\u001b[0m\u001b[0;34m(\u001b[0m\u001b[0mself\u001b[0m\u001b[0;34m,\u001b[0m \u001b[0my\u001b[0m\u001b[0;34m)\u001b[0m\u001b[0;34m:\u001b[0m\u001b[0;34m\u001b[0m\u001b[0;34m\u001b[0m\u001b[0m\n\u001b[0;32m--> 559\u001b[0;31m         \u001b[0mcheck_classification_targets\u001b[0m\u001b[0;34m(\u001b[0m\u001b[0my\u001b[0m\u001b[0;34m)\u001b[0m\u001b[0;34m\u001b[0m\u001b[0;34m\u001b[0m\u001b[0m\n\u001b[0m\u001b[1;32m    560\u001b[0m \u001b[0;34m\u001b[0m\u001b[0m\n\u001b[1;32m    561\u001b[0m         \u001b[0my\u001b[0m \u001b[0;34m=\u001b[0m \u001b[0mnp\u001b[0m\u001b[0;34m.\u001b[0m\u001b[0mcopy\u001b[0m\u001b[0;34m(\u001b[0m\u001b[0my\u001b[0m\u001b[0;34m)\u001b[0m\u001b[0;34m\u001b[0m\u001b[0;34m\u001b[0m\u001b[0m\n",
      "\u001b[0;32m/usr/local/lib64/python3.6/site-packages/sklearn/utils/multiclass.py\u001b[0m in \u001b[0;36mcheck_classification_targets\u001b[0;34m(y)\u001b[0m\n\u001b[1;32m    181\u001b[0m     if y_type not in ['binary', 'multiclass', 'multiclass-multioutput',\n\u001b[1;32m    182\u001b[0m                       'multilabel-indicator', 'multilabel-sequences']:\n\u001b[0;32m--> 183\u001b[0;31m         \u001b[0;32mraise\u001b[0m \u001b[0mValueError\u001b[0m\u001b[0;34m(\u001b[0m\u001b[0;34m\"Unknown label type: %r\"\u001b[0m \u001b[0;34m%\u001b[0m \u001b[0my_type\u001b[0m\u001b[0;34m)\u001b[0m\u001b[0;34m\u001b[0m\u001b[0;34m\u001b[0m\u001b[0m\n\u001b[0m\u001b[1;32m    184\u001b[0m \u001b[0;34m\u001b[0m\u001b[0m\n\u001b[1;32m    185\u001b[0m \u001b[0;34m\u001b[0m\u001b[0m\n",
      "\u001b[0;31mValueError\u001b[0m: Unknown label type: 'continuous'"
     ]
    }
   ],
   "source": [
    "import pandas as pd\n",
    "from sklearn.model_selection import train_test_split\n",
    "from sklearn.ensemble import RandomForestClassifier\n",
    "from sklearn.metrics import accuracy_score\n",
    "\n",
    "# Load your dataset (replace 'data.csv' with the path to your dataset)\n",
    "# data = pd.read_csv('data.csv')\n",
    "data=df1\n",
    "# Split the data into features (X) and target variable (y)\n",
    "X = data.drop('revenue', axis=1)  # Replace 'target_column' with the name of your target column\n",
    "y = data['revenue']\n",
    "\n",
    "# Split the data into training and testing sets\n",
    "X_train, X_test, y_train, y_test = train_test_split(X, y, test_size=0.2, random_state=42)\n",
    "\n",
    "# Create a RandomForestClassifier and fit the model\n",
    "model = RandomForestClassifier(n_estimators=100, random_state=42)\n",
    "model.fit(X_train, y_train)\n",
    "\n",
    "# Get feature importances\n",
    "feature_importances = model.feature_importances_\n",
    "\n",
    "# Sort feature importances in descending order\n",
    "indices = feature_importances.argsort()[::-1]\n",
    "\n",
    "# Select the top N features\n",
    "N = 5\n",
    "selected_features = X_train.columns[indices][:N]\n",
    "\n",
    "# Retrain the model using only the selected features\n",
    "X_train_selected = X_train[selected_features]\n",
    "X_test_selected = X_test[selected_features]\n",
    "\n",
    "model_selected_features = RandomForestClassifier(n_estimators=100, random_state=42)\n",
    "model_selected_features.fit(X_train_selected, y_train)\n",
    "\n",
    "# Make predictions on the test set using the model with selected features\n",
    "y_pred = model_selected_features.predict(X_test_selected)\n",
    "\n",
    "# Evaluate the model performance\n",
    "accuracy = accuracy_score(y_test, y_pred)\n",
    "print(f\"Accuracy with selected features: {accuracy}\")\n",
    "\n"
   ]
  },
  {
   "cell_type": "code",
   "execution_count": null,
   "id": "e55dafe5-33e6-4088-9056-08b656cffd84",
   "metadata": {},
   "outputs": [],
   "source": [
    "from sklearn.ensemble import RandomForestClassifier\n",
    "import numpy as np\n",
    "\n",
    "# Assuming you have X_train and y_train as your training data\n",
    "model = RandomForestClassifier()\n",
    "model.fit(X_train, y_train)\n",
    "\n",
    "# Get feature importances\n",
    "feature_importances = model.feature_importances_\n",
    "\n",
    "# Sort feature importances in descending order\n",
    "indices = np.argsort(feature_importances)[::-1]\n",
    "\n",
    "# Print feature importance ranking\n",
    "for i in range(len(feature_importances)):\n",
    "    print(f\"{X_train.columns[indices[i]]}: {feature_importances[indices[i]]}\")\n"
   ]
  },
  {
   "cell_type": "code",
   "execution_count": 23,
   "id": "de270ac3-21ad-45ff-8dfb-3131b006f7b2",
   "metadata": {
    "execution": {
     "iopub.execute_input": "2023-08-03T11:25:51.120260Z",
     "iopub.status.busy": "2023-08-03T11:25:51.119476Z",
     "iopub.status.idle": "2023-08-03T11:25:51.223105Z",
     "shell.execute_reply": "2023-08-03T11:25:51.219871Z",
     "shell.execute_reply.started": "2023-08-03T11:25:51.120157Z"
    },
    "tags": []
   },
   "outputs": [],
   "source": [
    "data1=pd.read_csv('raw_data.csv')\n",
    "X = data.drop('revenue', axis=1)  # Replace 'target_column' with the name of your target column\n",
    "y = data['revenue']\n",
    "\n",
    "# Split the data into training and testing sets\n",
    "# X_train, X_test, y_train, y_test = train_test_split(X, y, test_size=0.2, random_state=42)\n"
   ]
  },
  {
   "cell_type": "code",
   "execution_count": 28,
   "id": "9faeb9cd-a77a-4877-82f3-ef192bdd9d25",
   "metadata": {
    "execution": {
     "iopub.execute_input": "2023-08-03T11:29:16.082574Z",
     "iopub.status.busy": "2023-08-03T11:29:16.081779Z",
     "iopub.status.idle": "2023-08-03T11:29:36.613314Z",
     "shell.execute_reply": "2023-08-03T11:29:36.611118Z",
     "shell.execute_reply.started": "2023-08-03T11:29:16.082468Z"
    },
    "tags": []
   },
   "outputs": [
    {
     "name": "stdout",
     "output_type": "stream",
     "text": [
      "                     Feature    Importance\n",
      "3     post_click_conversions  3.048355e-01\n",
      "4    post_click_sales_amount  2.963110e-01\n",
      "1                       cost  2.331637e-01\n",
      "2                     clicks  1.450852e-01\n",
      "0                   displays  1.222206e-02\n",
      "..                       ...           ...\n",
      "70             day_6/13/2020  1.496863e-07\n",
      "76             day_6/19/2020  8.847253e-08\n",
      "110            placement_abc  7.530342e-08\n",
      "105          banner_468 x 60  7.003098e-09\n",
      "109         banner_800 x 250  7.978230e-11\n",
      "\n",
      "[115 rows x 2 columns]\n"
     ]
    }
   ],
   "source": [
    "import pandas as pd\n",
    "from sklearn.model_selection import train_test_split\n",
    "from sklearn.ensemble import RandomForestRegressor\n",
    "\n",
    "# Load your dataset (replace 'data.csv' with the path to your dataset)\n",
    "# data = pd.read_csv('data.csv')\n",
    "\n",
    "# # Separate the target variable and features\n",
    "# X = data.drop('target', axis=1)  # Replace 'target' with the name of your target column\n",
    "# y = data['target']\n",
    "\n",
    "data=pd.read_csv('raw_data.csv')\n",
    "X = data.drop('revenue', axis=1)  # Replace 'target_column' with the name of your target column\n",
    "y = data['revenue']\n",
    "\n",
    "#Convert categorical variables to one-hot encoded representation\n",
    "X_encoded = pd.get_dummies(X)\n",
    "\n",
    "# Split the data into training and testing sets\n",
    "X_train, X_test, y_train, y_test = train_test_split(X_encoded, y, test_size=0.2, random_state=42)\n",
    "\n",
    "# Create a RandomForestRegressor and fit the model\n",
    "model = RandomForestRegressor(n_estimators=100, random_state=42)\n",
    "model.fit(X_train, y_train)\n",
    "\n",
    "# Get feature importances\n",
    "feature_importances = model.feature_importances_\n",
    "\n",
    "# Create a DataFrame to display feature importance scores\n",
    "feature_importance_df = pd.DataFrame({'Feature': X_encoded.columns, 'Importance': feature_importances})\n",
    "\n",
    "# Sort feature importances in descending order\n",
    "feature_importance_df = feature_importance_df.sort_values(by='Importance', ascending=False)\n",
    "\n",
    "print(feature_importance_df)\n"
   ]
  },
  {
   "cell_type": "code",
   "execution_count": 5,
   "id": "a8a22848-17c9-49a2-96d3-1ab9d78e1192",
   "metadata": {
    "execution": {
     "iopub.execute_input": "2023-08-03T12:06:50.487548Z",
     "iopub.status.busy": "2023-08-03T12:06:50.486735Z",
     "iopub.status.idle": "2023-08-03T12:06:50.606888Z",
     "shell.execute_reply": "2023-08-03T12:06:50.603713Z",
     "shell.execute_reply.started": "2023-08-03T12:06:50.487421Z"
    },
    "tags": []
   },
   "outputs": [],
   "source": [
    "import pandas as pd\n",
    "from sklearn.model_selection import train_test_split\n",
    "from sklearn.ensemble import RandomForestRegressor\n",
    "\n",
    "# Load your dataset (replace 'data.csv' with the path to your dataset)\n",
    "data=pd.read_csv('feature.csv')\n",
    "X = data.drop('revenue', axis=1)  # Replace 'target_column' with the name of your target column\n",
    "y = data['revenue']"
   ]
  },
  {
   "cell_type": "code",
   "execution_count": 6,
   "id": "37c80386-18c3-40a4-85c2-ff43436120dd",
   "metadata": {
    "execution": {
     "iopub.execute_input": "2023-08-03T12:06:50.986009Z",
     "iopub.status.busy": "2023-08-03T12:06:50.985187Z",
     "iopub.status.idle": "2023-08-03T12:08:37.386421Z",
     "shell.execute_reply": "2023-08-03T12:08:37.383771Z",
     "shell.execute_reply.started": "2023-08-03T12:06:50.985907Z"
    },
    "tags": []
   },
   "outputs": [
    {
     "data": {
      "text/plain": [
       "RandomForestRegressor(random_state=42)"
      ]
     },
     "execution_count": 6,
     "metadata": {},
     "output_type": "execute_result"
    }
   ],
   "source": [
    "# Convert categorical variables to one-hot encoded representation\n",
    "X_encoded = pd.get_dummies(X)\n",
    "\n",
    "# Split the data into training and testing sets\n",
    "X_train, X_test, y_train, y_test = train_test_split(X_encoded, y, test_size=0.2, random_state=42)\n",
    "\n",
    "# Create a RandomForestRegressor and fit the model\n",
    "model = RandomForestRegressor(n_estimators=100, random_state=42)\n",
    "model.fit(X_train, y_train)"
   ]
  },
  {
   "cell_type": "code",
   "execution_count": null,
   "id": "e3684c7f-db1b-467e-920a-60bc1addb344",
   "metadata": {
    "tags": []
   },
   "outputs": [],
   "source": [
    "\n"
   ]
  },
  {
   "cell_type": "code",
   "execution_count": 7,
   "id": "357437c0-1b42-449e-8864-2b78146c1795",
   "metadata": {
    "execution": {
     "iopub.execute_input": "2023-08-03T12:08:37.391158Z",
     "iopub.status.busy": "2023-08-03T12:08:37.390733Z",
     "iopub.status.idle": "2023-08-03T12:08:37.449431Z",
     "shell.execute_reply": "2023-08-03T12:08:37.446032Z",
     "shell.execute_reply.started": "2023-08-03T12:08:37.391087Z"
    },
    "tags": []
   },
   "outputs": [
    {
     "ename": "NameError",
     "evalue": "name 'feature_importance_df' is not defined",
     "output_type": "error",
     "traceback": [
      "\u001b[0;31m---------------------------------------------------------------------------\u001b[0m",
      "\u001b[0;31mNameError\u001b[0m                                 Traceback (most recent call last)",
      "\u001b[0;32m<ipython-input-7-b68e50cdd679>\u001b[0m in \u001b[0;36m<module>\u001b[0;34m\u001b[0m\n\u001b[1;32m      1\u001b[0m \u001b[0;31m# Get important features (you can use the feature_importances_df from the previous example)\u001b[0m\u001b[0;34m\u001b[0m\u001b[0;34m\u001b[0m\u001b[0;34m\u001b[0m\u001b[0m\n\u001b[0;32m----> 2\u001b[0;31m \u001b[0mimportant_features\u001b[0m \u001b[0;34m=\u001b[0m \u001b[0mfeature_importance_df\u001b[0m\u001b[0;34m[\u001b[0m\u001b[0;34m'Feature'\u001b[0m\u001b[0;34m]\u001b[0m\u001b[0;34m[\u001b[0m\u001b[0;34m:\u001b[0m\u001b[0;36m7\u001b[0m\u001b[0;34m]\u001b[0m\u001b[0;34m\u001b[0m\u001b[0;34m\u001b[0m\u001b[0m\n\u001b[0m\u001b[1;32m      3\u001b[0m \u001b[0mprint\u001b[0m\u001b[0;34m(\u001b[0m\u001b[0mimportant_features\u001b[0m\u001b[0;34m)\u001b[0m\u001b[0;34m\u001b[0m\u001b[0;34m\u001b[0m\u001b[0m\n\u001b[1;32m      4\u001b[0m \u001b[0;31m# Change '5' to the number of top features you want to analyze\u001b[0m\u001b[0;34m\u001b[0m\u001b[0;34m\u001b[0m\u001b[0;34m\u001b[0m\u001b[0m\n\u001b[1;32m      5\u001b[0m \u001b[0;34m\u001b[0m\u001b[0m\n",
      "\u001b[0;31mNameError\u001b[0m: name 'feature_importance_df' is not defined"
     ]
    }
   ],
   "source": [
    "# Get important features (you can use the feature_importances_df from the previous example)\n",
    "important_features = feature_importance_df['Feature'][:7]\n",
    "print(important_features)\n",
    "# Change '5' to the number of top features you want to analyze\n",
    "\n",
    "# Train the model using only important features\n",
    "# model_important_features = RandomForestRegressor(n_estimators=100, random_state=42)\n",
    "# model_important_features.fit(X_train[important_features], y_train)\n",
    "\n",
    "# # Make predictions on the test set using the model with important features\n",
    "# y_pred_important_features = model_important_features.predict(X_test[important_features])\n",
    "\n",
    "# # Calculate uplift for each sample in the test set\n",
    "# uplift = y_pred_important_features - model.predict(X_test)\n",
    "\n",
    "# Display uplift values\n",
    "# print"
   ]
  },
  {
   "cell_type": "markdown",
   "id": "24a303a3-2d90-4ae2-8447-ba712c543fde",
   "metadata": {},
   "source": [
    "#### feature importance"
   ]
  },
  {
   "cell_type": "code",
   "execution_count": null,
   "id": "7ab5095b-93c1-470a-a6f9-e5327d1b24b5",
   "metadata": {},
   "outputs": [],
   "source": []
  },
  {
   "cell_type": "code",
   "execution_count": 5,
   "id": "f826708b-456e-4c84-bd17-dc3a31223312",
   "metadata": {
    "execution": {
     "iopub.execute_input": "2023-08-05T17:01:09.863225Z",
     "iopub.status.busy": "2023-08-05T17:01:09.862312Z",
     "iopub.status.idle": "2023-08-05T17:02:46.560646Z",
     "shell.execute_reply": "2023-08-05T17:02:46.558563Z",
     "shell.execute_reply.started": "2023-08-05T17:01:09.863106Z"
    },
    "tags": []
   },
   "outputs": [
    {
     "name": "stdout",
     "output_type": "stream",
     "text": [
      "0                   displays\n",
      "1                       cost\n",
      "2                     clicks\n",
      "3     post_click_conversions\n",
      "4    post_click_sales_amount\n",
      "5       campaigne_Campaign 1\n",
      "6       campaigne_Campaign 2\n",
      "7       campaigne_Campaign 3\n",
      "Name: Feature, dtype: object\n"
     ]
    }
   ],
   "source": [
    "import pandas as pd\n",
    "from sklearn.model_selection import train_test_split\n",
    "from sklearn.ensemble import RandomForestRegressor\n",
    "\n",
    "# Load your dataset (replace 'data.csv' with the path to your dataset)\n",
    "data = pd.read_csv('feature.csv')\n",
    "\n",
    "# Separate the target variable and features\n",
    "X = data.drop('revenue', axis=1)  # Replace 'target' with the name of your target column\n",
    "y = data['revenue']\n",
    "\n",
    "# Convert categorical variables to one-hot encoded representation\n",
    "X_encoded = pd.get_dummies(X)\n",
    "\n",
    "# Split the data into training and testing sets\n",
    "X_train, X_test, y_train, y_test = train_test_split(X_encoded, y, test_size=0.2, random_state=42)\n",
    "\n",
    "# Create a RandomForestRegressor and fit the model\n",
    "model = RandomForestRegressor(n_estimators=100, random_state=42)\n",
    "model.fit(X_train, y_train)\n",
    "\n",
    "# Get feature importances\n",
    "feature_importances = model.feature_importances_\n",
    "\n",
    "# Create a DataFrame to display feature importance scores\n",
    "feature_importance_df = pd.DataFrame({'Feature': X_encoded.columns, 'Importance': feature_importances})\n",
    "\n",
    "# Get important features (you can use the feature_importances_df from the previous example)\n",
    "important_features = feature_importance_df['Feature'][:8]  # Change '5' to the number of top features you want to analyze\n",
    "print(important_features)\n",
    "# Train the model using only important features\n",
    "model_important_features = RandomForestRegressor(n_estimators=100, random_state=42)\n",
    "model_important_features.fit(X_train[important_features], y_train)\n",
    "\n",
    "# Make predictions on the test set using the model with important features\n",
    "y_pred_important_features = model_important_features.predict(X_test[important_features])\n",
    "\n",
    "# Calculate uplift for each sample in the test set\n",
    "uplift = y_pred_important_features - model.predict(X_test)\n",
    "\n",
    "# Display uplift values\n",
    "print(uplift)\n",
    "\n"
   ]
  },
  {
   "cell_type": "code",
   "execution_count": 3,
   "id": "7aae8d3a-62ac-4727-aaec-952720b23f8b",
   "metadata": {
    "execution": {
     "iopub.execute_input": "2023-08-05T16:31:05.330999Z",
     "iopub.status.busy": "2023-08-05T16:31:05.330186Z",
     "iopub.status.idle": "2023-08-05T16:31:05.384971Z",
     "shell.execute_reply": "2023-08-05T16:31:05.365710Z",
     "shell.execute_reply.started": "2023-08-05T16:31:05.330888Z"
    },
    "tags": []
   },
   "outputs": [
    {
     "name": "stdout",
     "output_type": "stream",
     "text": [
      "Mean Uplift: 0.017866140269794724\n",
      "Median Uplift: 0.0\n",
      "Standard Deviation of Uplift: 5.346299234375266\n",
      "Minimum Uplift: -63.48446899999999\n",
      "Maximum Uplift: 176.92517499999997\n",
      "Number of Samples with Positive Uplift: 1058\n",
      "Number of Samples with Negative Uplift: 1030\n"
     ]
    }
   ],
   "source": [
    "import numpy as np\n",
    "\n",
    "# Assuming 'uplift' is the NumPy array containing uplift values (from the previous code example)\n",
    "# uplift = y_pred_important_features - model.predict(X_test)\n",
    "\n",
    "# Calculate statistics\n",
    "mean_uplift = np.mean(uplift)\n",
    "median_uplift = np.median(uplift)\n",
    "std_uplift = np.std(uplift)\n",
    "min_uplift = np.min(uplift)\n",
    "max_uplift = np.max(uplift)\n",
    "\n",
    "# Count positive and negative uplift\n",
    "positive_uplift_count = np.sum(uplift > 0)\n",
    "negative_uplift_count = np.sum(uplift < 0)\n",
    "\n",
    "print(f\"Mean Uplift: {mean_uplift}\")\n",
    "print(f\"Median Uplift: {median_uplift}\")\n",
    "print(f\"Standard Deviation of Uplift: {std_uplift}\")\n",
    "print(f\"Minimum Uplift: {min_uplift}\")\n",
    "print(f\"Maximum Uplift: {max_uplift}\")\n",
    "print(f\"Number of Samples with Positive Uplift: {positive_uplift_count}\")\n",
    "print(f\"Number of Samples with Negative Uplift: {negative_uplift_count}\")\n"
   ]
  },
  {
   "cell_type": "code",
   "execution_count": 41,
   "id": "9c14b212-0a2e-4c9c-9286-0939d1c66f3b",
   "metadata": {
    "execution": {
     "iopub.execute_input": "2023-08-03T11:48:20.206024Z",
     "iopub.status.busy": "2023-08-03T11:48:20.205259Z",
     "iopub.status.idle": "2023-08-03T11:48:21.699814Z",
     "shell.execute_reply": "2023-08-03T11:48:21.697891Z",
     "shell.execute_reply.started": "2023-08-03T11:48:20.205923Z"
    }
   },
   "outputs": [
    {
     "data": {
      "image/png": "[encoded data removed]",
      "text/plain": [
       "<Figure size 432x288 with 1 Axes>"
      ]
     },
     "metadata": {
      "needs_background": "light"
     },
     "output_type": "display_data"
    },
    {
     "data": {
      "image/png": "[encoded data removed]",
      "text/plain": [
       "<Figure size 432x288 with 1 Axes>"
      ]
     },
     "metadata": {
      "needs_background": "light"
     },
     "output_type": "display_data"
    }
   ],
   "source": [
    "import matplotlib.pyplot as plt\n",
    "\n",
    "# Plotting the histogram of uplift values\n",
    "plt.hist(uplift, bins=20, edgecolor='black')\n",
    "plt.xlabel('Uplift')\n",
    "plt.ylabel('Frequency')\n",
    "plt.title('Distribution of Uplift Values')\n",
    "plt.show()\n",
    "\n",
    "# Alternatively, you can use a box plot\n",
    "plt.boxplot(uplift)\n",
    "plt.ylabel('Uplift')\n",
    "plt.title('Box Plot of Uplift Values')\n",
    "plt.show()\n"
   ]
  },
  {
   "cell_type": "code",
   "execution_count": 6,
   "id": "622bdd36-c43e-45ba-bc11-adbeb6eca1f9",
   "metadata": {
    "execution": {
     "iopub.execute_input": "2023-08-05T17:18:00.420548Z",
     "iopub.status.busy": "2023-08-05T17:18:00.419744Z",
     "iopub.status.idle": "2023-08-05T17:18:01.149392Z",
     "shell.execute_reply": "2023-08-05T17:18:01.146538Z",
     "shell.execute_reply.started": "2023-08-05T17:18:00.420440Z"
    }
   },
   "outputs": [
    {
     "ename": "KeyError",
     "evalue": "'treatment_indicator'",
     "output_type": "error",
     "traceback": [
      "\u001b[0;31m---------------------------------------------------------------------------\u001b[0m",
      "\u001b[0;31mKeyError\u001b[0m                                  Traceback (most recent call last)",
      "\u001b[0;32m/usr/local/lib64/python3.6/site-packages/pandas/core/indexes/base.py\u001b[0m in \u001b[0;36mget_loc\u001b[0;34m(self, key, method, tolerance)\u001b[0m\n\u001b[1;32m   2897\u001b[0m             \u001b[0;32mtry\u001b[0m\u001b[0;34m:\u001b[0m\u001b[0;34m\u001b[0m\u001b[0;34m\u001b[0m\u001b[0m\n\u001b[0;32m-> 2898\u001b[0;31m                 \u001b[0;32mreturn\u001b[0m \u001b[0mself\u001b[0m\u001b[0;34m.\u001b[0m\u001b[0m_engine\u001b[0m\u001b[0;34m.\u001b[0m\u001b[0mget_loc\u001b[0m\u001b[0;34m(\u001b[0m\u001b[0mcasted_key\u001b[0m\u001b[0;34m)\u001b[0m\u001b[0;34m\u001b[0m\u001b[0;34m\u001b[0m\u001b[0m\n\u001b[0m\u001b[1;32m   2899\u001b[0m             \u001b[0;32mexcept\u001b[0m \u001b[0mKeyError\u001b[0m \u001b[0;32mas\u001b[0m \u001b[0merr\u001b[0m\u001b[0;34m:\u001b[0m\u001b[0;34m\u001b[0m\u001b[0;34m\u001b[0m\u001b[0m\n",
      "\u001b[0;32mpandas/_libs/index.pyx\u001b[0m in \u001b[0;36mpandas._libs.index.IndexEngine.get_loc\u001b[0;34m()\u001b[0m\n",
      "\u001b[0;32mpandas/_libs/index.pyx\u001b[0m in \u001b[0;36mpandas._libs.index.IndexEngine.get_loc\u001b[0;34m()\u001b[0m\n",
      "\u001b[0;32mpandas/_libs/hashtable_class_helper.pxi\u001b[0m in \u001b[0;36mpandas._libs.hashtable.PyObjectHashTable.get_item\u001b[0;34m()\u001b[0m\n",
      "\u001b[0;32mpandas/_libs/hashtable_class_helper.pxi\u001b[0m in \u001b[0;36mpandas._libs.hashtable.PyObjectHashTable.get_item\u001b[0;34m()\u001b[0m\n",
      "\u001b[0;31mKeyError\u001b[0m: 'treatment_indicator'",
      "\nThe above exception was the direct cause of the following exception:\n",
      "\u001b[0;31mKeyError\u001b[0m                                  Traceback (most recent call last)",
      "\u001b[0;32m<ipython-input-6-5998dcfe2e28>\u001b[0m in \u001b[0;36m<module>\u001b[0;34m\u001b[0m\n\u001b[1;32m     13\u001b[0m \u001b[0mfeatures\u001b[0m \u001b[0;34m=\u001b[0m \u001b[0mdata\u001b[0m\u001b[0;34m[\u001b[0m\u001b[0;34m[\u001b[0m\u001b[0;34m'campaigne'\u001b[0m\u001b[0;34m,\u001b[0m\u001b[0;34m'user_engagement'\u001b[0m\u001b[0;34m,\u001b[0m\u001b[0;34m'banner'\u001b[0m\u001b[0;34m,\u001b[0m\u001b[0;34m'placement'\u001b[0m\u001b[0;34m,\u001b[0m\u001b[0;34m'displays'\u001b[0m\u001b[0;34m,\u001b[0m\u001b[0;34m'cost'\u001b[0m\u001b[0;34m,\u001b[0m\u001b[0;34m'clicks'\u001b[0m\u001b[0;34m,\u001b[0m\u001b[0;34m'post_click_conversions'\u001b[0m\u001b[0;34m,\u001b[0m\u001b[0;34m'month'\u001b[0m\u001b[0;34m,\u001b[0m\u001b[0;34m'week'\u001b[0m\u001b[0;34m]\u001b[0m\u001b[0;34m]\u001b[0m\u001b[0;34m\u001b[0m\u001b[0;34m\u001b[0m\u001b[0m\n\u001b[1;32m     14\u001b[0m \u001b[0mtarget_metric\u001b[0m \u001b[0;34m=\u001b[0m \u001b[0mdata\u001b[0m\u001b[0;34m[\u001b[0m\u001b[0;34m'revenue'\u001b[0m\u001b[0;34m]\u001b[0m\u001b[0;34m\u001b[0m\u001b[0;34m\u001b[0m\u001b[0m\n\u001b[0;32m---> 15\u001b[0;31m \u001b[0mtreatment_indicator\u001b[0m \u001b[0;34m=\u001b[0m \u001b[0mdata\u001b[0m\u001b[0;34m[\u001b[0m\u001b[0;34m'treatment_indicator'\u001b[0m\u001b[0;34m]\u001b[0m\u001b[0;34m\u001b[0m\u001b[0;34m\u001b[0m\u001b[0m\n\u001b[0m\u001b[1;32m     16\u001b[0m \u001b[0;34m\u001b[0m\u001b[0m\n\u001b[1;32m     17\u001b[0m \u001b[0;31m# # Step 3: Uplift Model Training\u001b[0m\u001b[0;34m\u001b[0m\u001b[0;34m\u001b[0m\u001b[0;34m\u001b[0m\u001b[0m\n",
      "\u001b[0;32m/usr/local/lib64/python3.6/site-packages/pandas/core/frame.py\u001b[0m in \u001b[0;36m__getitem__\u001b[0;34m(self, key)\u001b[0m\n\u001b[1;32m   2904\u001b[0m             \u001b[0;32mif\u001b[0m \u001b[0mself\u001b[0m\u001b[0;34m.\u001b[0m\u001b[0mcolumns\u001b[0m\u001b[0;34m.\u001b[0m\u001b[0mnlevels\u001b[0m \u001b[0;34m>\u001b[0m \u001b[0;36m1\u001b[0m\u001b[0;34m:\u001b[0m\u001b[0;34m\u001b[0m\u001b[0;34m\u001b[0m\u001b[0m\n\u001b[1;32m   2905\u001b[0m                 \u001b[0;32mreturn\u001b[0m \u001b[0mself\u001b[0m\u001b[0;34m.\u001b[0m\u001b[0m_getitem_multilevel\u001b[0m\u001b[0;34m(\u001b[0m\u001b[0mkey\u001b[0m\u001b[0;34m)\u001b[0m\u001b[0;34m\u001b[0m\u001b[0;34m\u001b[0m\u001b[0m\n\u001b[0;32m-> 2906\u001b[0;31m             \u001b[0mindexer\u001b[0m \u001b[0;34m=\u001b[0m \u001b[0mself\u001b[0m\u001b[0;34m.\u001b[0m\u001b[0mcolumns\u001b[0m\u001b[0;34m.\u001b[0m\u001b[0mget_loc\u001b[0m\u001b[0;34m(\u001b[0m\u001b[0mkey\u001b[0m\u001b[0;34m)\u001b[0m\u001b[0;34m\u001b[0m\u001b[0;34m\u001b[0m\u001b[0m\n\u001b[0m\u001b[1;32m   2907\u001b[0m             \u001b[0;32mif\u001b[0m \u001b[0mis_integer\u001b[0m\u001b[0;34m(\u001b[0m\u001b[0mindexer\u001b[0m\u001b[0;34m)\u001b[0m\u001b[0;34m:\u001b[0m\u001b[0;34m\u001b[0m\u001b[0;34m\u001b[0m\u001b[0m\n\u001b[1;32m   2908\u001b[0m                 \u001b[0mindexer\u001b[0m \u001b[0;34m=\u001b[0m \u001b[0;34m[\u001b[0m\u001b[0mindexer\u001b[0m\u001b[0;34m]\u001b[0m\u001b[0;34m\u001b[0m\u001b[0;34m\u001b[0m\u001b[0m\n",
      "\u001b[0;32m/usr/local/lib64/python3.6/site-packages/pandas/core/indexes/base.py\u001b[0m in \u001b[0;36mget_loc\u001b[0;34m(self, key, method, tolerance)\u001b[0m\n\u001b[1;32m   2898\u001b[0m                 \u001b[0;32mreturn\u001b[0m \u001b[0mself\u001b[0m\u001b[0;34m.\u001b[0m\u001b[0m_engine\u001b[0m\u001b[0;34m.\u001b[0m\u001b[0mget_loc\u001b[0m\u001b[0;34m(\u001b[0m\u001b[0mcasted_key\u001b[0m\u001b[0;34m)\u001b[0m\u001b[0;34m\u001b[0m\u001b[0;34m\u001b[0m\u001b[0m\n\u001b[1;32m   2899\u001b[0m             \u001b[0;32mexcept\u001b[0m \u001b[0mKeyError\u001b[0m \u001b[0;32mas\u001b[0m \u001b[0merr\u001b[0m\u001b[0;34m:\u001b[0m\u001b[0;34m\u001b[0m\u001b[0;34m\u001b[0m\u001b[0m\n\u001b[0;32m-> 2900\u001b[0;31m                 \u001b[0;32mraise\u001b[0m \u001b[0mKeyError\u001b[0m\u001b[0;34m(\u001b[0m\u001b[0mkey\u001b[0m\u001b[0;34m)\u001b[0m \u001b[0;32mfrom\u001b[0m \u001b[0merr\u001b[0m\u001b[0;34m\u001b[0m\u001b[0;34m\u001b[0m\u001b[0m\n\u001b[0m\u001b[1;32m   2901\u001b[0m \u001b[0;34m\u001b[0m\u001b[0m\n\u001b[1;32m   2902\u001b[0m         \u001b[0;32mif\u001b[0m \u001b[0mtolerance\u001b[0m \u001b[0;32mis\u001b[0m \u001b[0;32mnot\u001b[0m \u001b[0;32mNone\u001b[0m\u001b[0;34m:\u001b[0m\u001b[0;34m\u001b[0m\u001b[0;34m\u001b[0m\u001b[0m\n",
      "\u001b[0;31mKeyError\u001b[0m: 'treatment_indicator'"
     ]
    }
   ],
   "source": [
    "##### other code ------ Targeting strategy optimization\n",
    "import pandas as pd\n",
    "from sklearn.model_selection import train_test_split\n",
    "from sklearn.ensemble import RandomForestClassifier\n",
    "\n",
    "# Step 1: Data Preparation\n",
    "# Load your data into a pandas DataFrame\n",
    "data = pd.read_csv('feature.csv')\n",
    "\n",
    "# Step 2: Feature Engineering\n",
    "# Identify and preprocess relevant features and the target metric\n",
    "# For example:\n",
    "features = data[['campaigne','user_engagement','banner','placement','displays','cost','clicks','post_click_conversions','month','week']]\n",
    "target_metric = data['revenue']\n",
    "treatment_indicator = data['treatment_indicator']\n",
    "\n",
    "# Step 3: Uplift Model Training\n",
    "# Split data into training and testing sets\n",
    "features_train, features_test, target_train, target_test, treatment_train, treatment_test = train_test_split(\n",
    "    features, target_metric, treatment_indicator, test_size=0.2, random_state=42\n",
    ")\n",
    "\n",
    "# Train the uplift model (Random Forest classifier as an example)\n",
    "uplift_model = RandomForestClassifier(n_estimators=100, random_state=42)\n",
    "uplift_model.fit(features_train, target_train - target_test)\n",
    "\n",
    "# Step 4: Predict Uplift\n",
    "# Predict uplift for the testing dataset\n",
    "uplift_scores = uplift_model.predict_proba(features_test)[:, 1]\n",
    "\n",
    "# Step 5: Segmentation and Ranking\n",
    "# Segment individuals based on predicted uplift scores\n",
    "data_test_with_scores = data.loc[features_test.index]\n",
    "data_test_with_scores['uplift_score'] = uplift_scores\n",
    "\n",
    "# Rank segments based on uplift scores\n",
    "sorted_data = data_test_with_scores.sort_values(by='uplift_score', ascending=False)\n",
    "\n",
    "# Step 6: Targeting and Evaluation\n",
    "# Select top segments for targeting and evaluate the actual uplift achieved\n",
    "\n",
    "# For example, select the top 10% of individuals with the highest uplift scores\n",
    "top_segment = sorted_data.head(int(len(data_test_with_scores) * 0.1))\n",
    "\n",
    "# Step 7: Refinement and Iteration\n",
    "# Analyze results and refine the process as needed to optimize the targeting strategy further.\n",
    "\n",
    "# Additional steps may include measuring actual uplift, implementing interventions, and fine-tuning the uplift model.\n",
    "\n"
   ]
  },
  {
   "cell_type": "code",
   "execution_count": 2,
   "id": "e0ae77db-b336-43a7-846b-d7540150e0c9",
   "metadata": {
    "execution": {
     "iopub.execute_input": "2023-08-05T23:06:36.559376Z",
     "iopub.status.busy": "2023-08-05T23:06:36.558787Z",
     "iopub.status.idle": "2023-08-05T23:06:36.851047Z",
     "shell.execute_reply": "2023-08-05T23:06:36.849102Z",
     "shell.execute_reply.started": "2023-08-05T23:06:36.559280Z"
    },
    "tags": []
   },
   "outputs": [],
   "source": [
    "import pandas as pd\n",
    "from sklearn.model_selection import train_test_split\n",
    "from sklearn.preprocessing import OneHotEncoder, StandardScaler\n",
    "from sklearn.compose import ColumnTransformer\n",
    "from sklearn.pipeline import Pipeline\n",
    "from sklearn.ensemble import RandomForestClassifier\n",
    "from sklearn.metrics import roc_auc_score\n",
    "\n",
    "# Step 1: Data Preparation\n",
    "# Load your data into a pandas DataFrame\n",
    "data = pd.read_csv('feature.csv')\n",
    "\n",
    "# Step 2: Feature Engineering\n",
    "# Identify and preprocess relevant features and the target metric\n",
    "# For example:\n",
    "categorical_features = ['campaigne','user_engagement','banner','placement','month','week']\n",
    "numerical_features = ['displays','cost','clicks','post_click_conversions','post_click_sales_amount']\n",
    "target_metric = 'revenue'"
   ]
  },
  {
   "cell_type": "code",
   "execution_count": 3,
   "id": "2494f081-fbfc-496c-a24c-76db0e9c6252",
   "metadata": {
    "execution": {
     "iopub.execute_input": "2023-08-05T23:06:46.037510Z",
     "iopub.status.busy": "2023-08-05T23:06:46.036693Z",
     "iopub.status.idle": "2023-08-05T23:06:46.081187Z",
     "shell.execute_reply": "2023-08-05T23:06:46.077919Z",
     "shell.execute_reply.started": "2023-08-05T23:06:46.037403Z"
    },
    "tags": []
   },
   "outputs": [],
   "source": [
    "# Separate features and target\n",
    "X = data.drop(target_metric, axis=1)\n",
    "y = data[target_metric]\n",
    "\n",
    "# Step 3: Data Preprocessing\n",
    "# Create a preprocessor to handle categorical and numerical features\n",
    "categorical_transformer = Pipeline(steps=[\n",
    "    ('onehot', OneHotEncoder(handle_unknown='ignore'))\n",
    "])\n",
    "\n",
    "numerical_transformer = Pipeline(steps=[\n",
    "    ('scaler', StandardScaler())\n",
    "])\n",
    "\n",
    "preprocessor = ColumnTransformer(\n",
    "    transformers=[\n",
    "        ('cat', categorical_transformer, categorical_features),\n",
    "        ('num', numerical_transformer, numerical_features)\n",
    "    ])"
   ]
  },
  {
   "cell_type": "code",
   "execution_count": 4,
   "id": "9147ea33-0ade-43f4-97b7-8380b5a6bc6e",
   "metadata": {
    "execution": {
     "iopub.execute_input": "2023-08-05T23:06:57.105768Z",
     "iopub.status.busy": "2023-08-05T23:06:57.104920Z",
     "iopub.status.idle": "2023-08-05T23:06:57.405793Z",
     "shell.execute_reply": "2023-08-05T23:06:57.401949Z",
     "shell.execute_reply.started": "2023-08-05T23:06:57.105666Z"
    },
    "tags": []
   },
   "outputs": [
    {
     "ename": "ValueError",
     "evalue": "Unknown label type: 'continuous'",
     "output_type": "error",
     "traceback": [
      "\u001b[0;31m---------------------------------------------------------------------------\u001b[0m",
      "\u001b[0;31mValueError\u001b[0m                                Traceback (most recent call last)",
      "\u001b[0;32m<ipython-input-4-c041357d67e4>\u001b[0m in \u001b[0;36m<module>\u001b[0;34m\u001b[0m\n\u001b[1;32m     15\u001b[0m \u001b[0;34m\u001b[0m\u001b[0m\n\u001b[1;32m     16\u001b[0m \u001b[0;31m# Fit the pipeline on the training data\u001b[0m\u001b[0;34m\u001b[0m\u001b[0;34m\u001b[0m\u001b[0;34m\u001b[0m\u001b[0m\n\u001b[0;32m---> 17\u001b[0;31m \u001b[0mpipeline\u001b[0m\u001b[0;34m.\u001b[0m\u001b[0mfit\u001b[0m\u001b[0;34m(\u001b[0m\u001b[0mX_train\u001b[0m\u001b[0;34m,\u001b[0m \u001b[0my_train\u001b[0m\u001b[0;34m)\u001b[0m\u001b[0;34m\u001b[0m\u001b[0;34m\u001b[0m\u001b[0m\n\u001b[0m\u001b[1;32m     18\u001b[0m \u001b[0;34m\u001b[0m\u001b[0m\n\u001b[1;32m     19\u001b[0m \u001b[0;31m# Step 5: Predict Uplift\u001b[0m\u001b[0;34m\u001b[0m\u001b[0;34m\u001b[0m\u001b[0;34m\u001b[0m\u001b[0m\n",
      "\u001b[0;32m/usr/local/lib64/python3.6/site-packages/sklearn/pipeline.py\u001b[0m in \u001b[0;36mfit\u001b[0;34m(self, X, y, **fit_params)\u001b[0m\n\u001b[1;32m    344\u001b[0m             \u001b[0;32mif\u001b[0m \u001b[0mself\u001b[0m\u001b[0;34m.\u001b[0m\u001b[0m_final_estimator\u001b[0m \u001b[0;34m!=\u001b[0m \u001b[0;34m'passthrough'\u001b[0m\u001b[0;34m:\u001b[0m\u001b[0;34m\u001b[0m\u001b[0;34m\u001b[0m\u001b[0m\n\u001b[1;32m    345\u001b[0m                 \u001b[0mfit_params_last_step\u001b[0m \u001b[0;34m=\u001b[0m \u001b[0mfit_params_steps\u001b[0m\u001b[0;34m[\u001b[0m\u001b[0mself\u001b[0m\u001b[0;34m.\u001b[0m\u001b[0msteps\u001b[0m\u001b[0;34m[\u001b[0m\u001b[0;34m-\u001b[0m\u001b[0;36m1\u001b[0m\u001b[0;34m]\u001b[0m\u001b[0;34m[\u001b[0m\u001b[0;36m0\u001b[0m\u001b[0;34m]\u001b[0m\u001b[0;34m]\u001b[0m\u001b[0;34m\u001b[0m\u001b[0;34m\u001b[0m\u001b[0m\n\u001b[0;32m--> 346\u001b[0;31m                 \u001b[0mself\u001b[0m\u001b[0;34m.\u001b[0m\u001b[0m_final_estimator\u001b[0m\u001b[0;34m.\u001b[0m\u001b[0mfit\u001b[0m\u001b[0;34m(\u001b[0m\u001b[0mXt\u001b[0m\u001b[0;34m,\u001b[0m \u001b[0my\u001b[0m\u001b[0;34m,\u001b[0m \u001b[0;34m**\u001b[0m\u001b[0mfit_params_last_step\u001b[0m\u001b[0;34m)\u001b[0m\u001b[0;34m\u001b[0m\u001b[0;34m\u001b[0m\u001b[0m\n\u001b[0m\u001b[1;32m    347\u001b[0m \u001b[0;34m\u001b[0m\u001b[0m\n\u001b[1;32m    348\u001b[0m         \u001b[0;32mreturn\u001b[0m \u001b[0mself\u001b[0m\u001b[0;34m\u001b[0m\u001b[0;34m\u001b[0m\u001b[0m\n",
      "\u001b[0;32m/usr/local/lib64/python3.6/site-packages/sklearn/ensemble/_forest.py\u001b[0m in \u001b[0;36mfit\u001b[0;34m(self, X, y, sample_weight)\u001b[0m\n\u001b[1;32m    329\u001b[0m         \u001b[0mself\u001b[0m\u001b[0;34m.\u001b[0m\u001b[0mn_outputs_\u001b[0m \u001b[0;34m=\u001b[0m \u001b[0my\u001b[0m\u001b[0;34m.\u001b[0m\u001b[0mshape\u001b[0m\u001b[0;34m[\u001b[0m\u001b[0;36m1\u001b[0m\u001b[0;34m]\u001b[0m\u001b[0;34m\u001b[0m\u001b[0;34m\u001b[0m\u001b[0m\n\u001b[1;32m    330\u001b[0m \u001b[0;34m\u001b[0m\u001b[0m\n\u001b[0;32m--> 331\u001b[0;31m         \u001b[0my\u001b[0m\u001b[0;34m,\u001b[0m \u001b[0mexpanded_class_weight\u001b[0m \u001b[0;34m=\u001b[0m \u001b[0mself\u001b[0m\u001b[0;34m.\u001b[0m\u001b[0m_validate_y_class_weight\u001b[0m\u001b[0;34m(\u001b[0m\u001b[0my\u001b[0m\u001b[0;34m)\u001b[0m\u001b[0;34m\u001b[0m\u001b[0;34m\u001b[0m\u001b[0m\n\u001b[0m\u001b[1;32m    332\u001b[0m \u001b[0;34m\u001b[0m\u001b[0m\n\u001b[1;32m    333\u001b[0m         \u001b[0;32mif\u001b[0m \u001b[0mgetattr\u001b[0m\u001b[0;34m(\u001b[0m\u001b[0my\u001b[0m\u001b[0;34m,\u001b[0m \u001b[0;34m\"dtype\"\u001b[0m\u001b[0;34m,\u001b[0m \u001b[0;32mNone\u001b[0m\u001b[0;34m)\u001b[0m \u001b[0;34m!=\u001b[0m \u001b[0mDOUBLE\u001b[0m \u001b[0;32mor\u001b[0m \u001b[0;32mnot\u001b[0m \u001b[0my\u001b[0m\u001b[0;34m.\u001b[0m\u001b[0mflags\u001b[0m\u001b[0;34m.\u001b[0m\u001b[0mcontiguous\u001b[0m\u001b[0;34m:\u001b[0m\u001b[0;34m\u001b[0m\u001b[0;34m\u001b[0m\u001b[0m\n",
      "\u001b[0;32m/usr/local/lib64/python3.6/site-packages/sklearn/ensemble/_forest.py\u001b[0m in \u001b[0;36m_validate_y_class_weight\u001b[0;34m(self, y)\u001b[0m\n\u001b[1;32m    557\u001b[0m \u001b[0;34m\u001b[0m\u001b[0m\n\u001b[1;32m    558\u001b[0m     \u001b[0;32mdef\u001b[0m \u001b[0m_validate_y_class_weight\u001b[0m\u001b[0;34m(\u001b[0m\u001b[0mself\u001b[0m\u001b[0;34m,\u001b[0m \u001b[0my\u001b[0m\u001b[0;34m)\u001b[0m\u001b[0;34m:\u001b[0m\u001b[0;34m\u001b[0m\u001b[0;34m\u001b[0m\u001b[0m\n\u001b[0;32m--> 559\u001b[0;31m         \u001b[0mcheck_classification_targets\u001b[0m\u001b[0;34m(\u001b[0m\u001b[0my\u001b[0m\u001b[0;34m)\u001b[0m\u001b[0;34m\u001b[0m\u001b[0;34m\u001b[0m\u001b[0m\n\u001b[0m\u001b[1;32m    560\u001b[0m \u001b[0;34m\u001b[0m\u001b[0m\n\u001b[1;32m    561\u001b[0m         \u001b[0my\u001b[0m \u001b[0;34m=\u001b[0m \u001b[0mnp\u001b[0m\u001b[0;34m.\u001b[0m\u001b[0mcopy\u001b[0m\u001b[0;34m(\u001b[0m\u001b[0my\u001b[0m\u001b[0;34m)\u001b[0m\u001b[0;34m\u001b[0m\u001b[0;34m\u001b[0m\u001b[0m\n",
      "\u001b[0;32m/usr/local/lib64/python3.6/site-packages/sklearn/utils/multiclass.py\u001b[0m in \u001b[0;36mcheck_classification_targets\u001b[0;34m(y)\u001b[0m\n\u001b[1;32m    181\u001b[0m     if y_type not in ['binary', 'multiclass', 'multiclass-multioutput',\n\u001b[1;32m    182\u001b[0m                       'multilabel-indicator', 'multilabel-sequences']:\n\u001b[0;32m--> 183\u001b[0;31m         \u001b[0;32mraise\u001b[0m \u001b[0mValueError\u001b[0m\u001b[0;34m(\u001b[0m\u001b[0;34m\"Unknown label type: %r\"\u001b[0m \u001b[0;34m%\u001b[0m \u001b[0my_type\u001b[0m\u001b[0;34m)\u001b[0m\u001b[0;34m\u001b[0m\u001b[0;34m\u001b[0m\u001b[0m\n\u001b[0m\u001b[1;32m    184\u001b[0m \u001b[0;34m\u001b[0m\u001b[0m\n\u001b[1;32m    185\u001b[0m \u001b[0;34m\u001b[0m\u001b[0m\n",
      "\u001b[0;31mValueError\u001b[0m: Unknown label type: 'continuous'"
     ]
    }
   ],
   "source": [
    "# Step 4: Uplift Model Training\n",
    "# Split data into training and testing sets\n",
    "X_train, X_test, y_train, y_test = train_test_split(\n",
    "    X, y, test_size=0.2, random_state=42\n",
    ")\n",
    "\n",
    "# Train the uplift model (Class Transformation as an example)\n",
    "uplift_model = RandomForestClassifier(n_estimators=100, random_state=42)\n",
    "\n",
    "# Create a pipeline with the preprocessor and uplift model\n",
    "pipeline = Pipeline(steps=[\n",
    "    ('preprocess', preprocessor),\n",
    "    ('uplift_model', uplift_model)\n",
    "])\n",
    "\n",
    "# Fit the pipeline on the training data\n",
    "pipeline.fit(X_train, y_train)\n",
    "\n",
    "# Step 5: Predict Uplift\n",
    "# Predict uplift for the testing dataset\n",
    "uplift_scores = pipeline.predict_proba(X_test)[:, 1]"
   ]
  },
  {
   "cell_type": "code",
   "execution_count": 1,
   "id": "048a1d52-6df3-4f2d-8417-c29cacd5c267",
   "metadata": {
    "execution": {
     "iopub.execute_input": "2023-08-05T23:03:28.411733Z",
     "iopub.status.busy": "2023-08-05T23:03:28.410923Z",
     "iopub.status.idle": "2023-08-05T23:03:31.867590Z",
     "shell.execute_reply": "2023-08-05T23:03:31.863391Z",
     "shell.execute_reply.started": "2023-08-05T23:03:28.411623Z"
    }
   },
   "outputs": [
    {
     "ename": "ModuleNotFoundError",
     "evalue": "No module named 'sklift'",
     "output_type": "error",
     "traceback": [
      "\u001b[0;31m---------------------------------------------------------------------------\u001b[0m",
      "\u001b[0;31mModuleNotFoundError\u001b[0m                       Traceback (most recent call last)",
      "\u001b[0;32m<ipython-input-1-94a2baa8593f>\u001b[0m in \u001b[0;36m<module>\u001b[0;34m\u001b[0m\n\u001b[1;32m      4\u001b[0m \u001b[0;32mfrom\u001b[0m \u001b[0msklearn\u001b[0m\u001b[0;34m.\u001b[0m\u001b[0mcompose\u001b[0m \u001b[0;32mimport\u001b[0m \u001b[0mColumnTransformer\u001b[0m\u001b[0;34m\u001b[0m\u001b[0;34m\u001b[0m\u001b[0m\n\u001b[1;32m      5\u001b[0m \u001b[0;32mfrom\u001b[0m \u001b[0msklearn\u001b[0m\u001b[0;34m.\u001b[0m\u001b[0mpipeline\u001b[0m \u001b[0;32mimport\u001b[0m \u001b[0mPipeline\u001b[0m\u001b[0;34m\u001b[0m\u001b[0;34m\u001b[0m\u001b[0m\n\u001b[0;32m----> 6\u001b[0;31m \u001b[0;32mfrom\u001b[0m \u001b[0msklift\u001b[0m\u001b[0;34m.\u001b[0m\u001b[0mmodels\u001b[0m \u001b[0;32mimport\u001b[0m \u001b[0mClassTransformation\u001b[0m\u001b[0;34m\u001b[0m\u001b[0;34m\u001b[0m\u001b[0m\n\u001b[0m\u001b[1;32m      7\u001b[0m \u001b[0;32mfrom\u001b[0m \u001b[0msklift\u001b[0m\u001b[0;34m.\u001b[0m\u001b[0mmetrics\u001b[0m \u001b[0;32mimport\u001b[0m \u001b[0muplift_at_k\u001b[0m\u001b[0;34m\u001b[0m\u001b[0;34m\u001b[0m\u001b[0m\n\u001b[1;32m      8\u001b[0m \u001b[0;34m\u001b[0m\u001b[0m\n",
      "\u001b[0;31mModuleNotFoundError\u001b[0m: No module named 'sklift'"
     ]
    }
   ],
   "source": [
    "# Step 6: Segmentation and Ranking\n",
    "# Combine the uplift scores with the original data\n",
    "data_test_with_scores = X_test.copy()\n",
    "data_test_with_scores['uplift_score'] = uplift_scores\n",
    "\n",
    "# Rank segments based on uplift scores\n",
    "sorted_data = data_test_with_scores.sort_values(by='uplift_score', ascending=False)\n",
    "\n",
    "# Step 7: Targeting and Evaluation\n",
    "# Select top segments for targeting and evaluate the actual uplift achieved\n",
    "\n",
    "# For example, select the top 10% of individuals with the highest uplift scores\n",
    "top_segment = sorted_data.head(int(len(data_test_with_scores) * 0.1))\n",
    "\n",
    "# Step 8: Refinement and Iteration\n",
    "# Analyze results and refine the process as needed to optimize the targeting strategy further.\n",
    "\n",
    "# Additional steps may include measuring actual uplift, implementing interventions, and fine-tuning the uplift model.\n",
    "\n",
    "# Step 9: Evaluate the uplift model\n",
    "# You can use any appropriate metric to evaluate the model's performance\n",
    "# For example, you can calculate the Area Under the Receiver Operating Characteristic Curve (ROC AUC)\n",
    "roc_auc = roc_auc_score(y_true=y_test, y_score=uplift_scores)\n",
    "print(\"ROC AUC:\", roc_auc)"
   ]
  },
  {
   "cell_type": "code",
   "execution_count": null,
   "id": "ee1337aa-0abe-4174-9e83-304372378585",
   "metadata": {},
   "outputs": [],
   "source": [
    "# Step 4: Uplift Model Training\n",
    "# Split data into training and testing sets\n",
    "X_train, X_test, y_train, y_test = train_test_split(\n",
    "    X, y, test_size=0.2, random_state=42\n",
    ")\n",
    "\n",
    "# Train the uplift model (Class Transformation as an example)\n",
    "uplift_model = ClassTransformation(\n",
    "    estimator=RandomForestClassifier(n_estimators=100, random_state=42)\n",
    ")\n",
    "\n",
    "# Create a pipeline with the preprocessor and uplift model\n",
    "pipeline = Pipeline(steps=[\n",
    "    ('preprocess', preprocessor),\n",
    "    ('uplift_model', uplift_model)\n",
    "])"
   ]
  },
  {
   "cell_type": "code",
   "execution_count": null,
   "id": "f12b8183-937a-4cbe-9620-8d4ffde8fa22",
   "metadata": {},
   "outputs": [],
   "source": [
    "# Fit the pipeline on the training data\n",
    "pipeline.fit(X_train, y_train)\n",
    "\n",
    "# Step 5: Predict Uplift\n",
    "# Predict uplift for the testing dataset\n",
    "uplift_scores = pipeline.predict(X_test)\n",
    "\n",
    "# Step 6: Segmentation and Ranking\n",
    "# Combine the uplift scores with the original data\n",
    "data_test_with_scores = X_test.copy()\n",
    "data_test_with_scores['uplift_score'] = uplift_scores\n",
    "\n",
    "# Rank segments based on uplift scores\n",
    "sorted_data = data_test_with_scores.sort_values(by='uplift_score', ascending=False)\n",
    "\n",
    "# Step 7: Targeting and Evaluation\n",
    "# Select top segments for targeting and evaluate the actual uplift achieved\n",
    "\n",
    "# For example, select the top 10% of individuals with the highest uplift scores\n",
    "top_segment = sorted_data.head(int(len(data_test_with_scores) * 0.1))\n",
    "\n",
    "# Step 8: Refinement and Iteration\n",
    "# Analyze results and refine the process as needed to optimize the targeting strategy further.\n",
    "\n",
    "# Additional steps may include measuring actual uplift, implementing interventions, and fine-tuning the uplift model.\n",
    "\n",
    "# Step 9: Evaluate the uplift model\n",
    "uplift_at_10 = uplift_at_k(y_true=y_test, uplift=uplift_scores, strategy='by_group', k=0.1)\n",
    "print(\"Uplift at 10%:\", uplift_at_10)"
   ]
  },
  {
   "cell_type": "code",
   "execution_count": 10,
   "id": "2ffb77bb-85bd-48cd-801d-ff19fda8cebe",
   "metadata": {
    "execution": {
     "iopub.execute_input": "2023-08-05T23:25:16.670619Z",
     "iopub.status.busy": "2023-08-05T23:25:16.669814Z",
     "iopub.status.idle": "2023-08-05T23:26:14.047354Z",
     "shell.execute_reply": "2023-08-05T23:26:14.045026Z",
     "shell.execute_reply.started": "2023-08-05T23:25:16.670512Z"
    },
    "tags": []
   },
   "outputs": [
    {
     "data": {
      "image/png": "[encoded data removed]",
      "text/plain": [
       "<Figure size 720x432 with 1 Axes>"
      ]
     },
     "metadata": {
      "needs_background": "light"
     },
     "output_type": "display_data"
    }
   ],
   "source": [
    "import pandas as pd\n",
    "from sklearn.model_selection import train_test_split\n",
    "from sklearn.ensemble import RandomForestRegressor\n",
    "from sklearn.preprocessing import OneHotEncoder\n",
    "from sklearn.compose import ColumnTransformer\n",
    "import matplotlib.pyplot as plt\n",
    "\n",
    "# Step 1: Data Preparation\n",
    "# Load your data into a pandas DataFrame\n",
    "data = pd.read_csv('feature.csv')\n",
    "\n",
    "# Step 2: Feature Engineering\n",
    "# Identify and preprocess relevant features and the target metric\n",
    "# For example:\n",
    "categorical_features = ['campaigne','user_engagement','banner','placement','month','week']\n",
    "numerical_features = ['displays','cost','clicks']\n",
    "target_metric = 'revenue'\n",
    "\n",
    "# Separate features and target\n",
    "X = data.drop(target_metric, axis=1)\n",
    "y = data[target_metric]\n",
    "\n",
    "# Step 3: Data Preprocessing\n",
    "# Create a preprocessor to handle categorical and numerical features\n",
    "categorical_transformer = OneHotEncoder(handle_unknown='ignore')\n",
    "numerical_transformer = 'passthrough'  # No transformation for numerical features\n",
    "\n",
    "preprocessor = ColumnTransformer(\n",
    "    transformers=[\n",
    "        ('cat', categorical_transformer, categorical_features),\n",
    "        ('num', numerical_transformer, numerical_features)\n",
    "    ])\n",
    "\n",
    "# Step 4: Train-Test Split\n",
    "# Split data into training and testing sets\n",
    "X_train, X_test, y_train, y_test = train_test_split(X, y, test_size=0.2, random_state=42)\n",
    "\n",
    "# Step 5: Train the Random Forest Regressor with One-Hot Encoding\n",
    "# Create a Random Forest Regressor model\n",
    "rf_regressor = RandomForestRegressor(n_estimators=100, random_state=42)\n",
    "\n",
    "# Create a pipeline with the preprocessor and regressor\n",
    "pipeline = Pipeline(steps=[\n",
    "    ('preprocess', preprocessor),\n",
    "    ('rf_regressor', rf_regressor)\n",
    "])\n",
    "\n",
    "# Train the model on the training data\n",
    "pipeline.fit(X_train, y_train)\n",
    "\n",
    "# Step 6: Feature Importance Calculation\n",
    "# Get the feature importances from the trained model\n",
    "categorical_columns = pipeline.named_steps['preprocess'].named_transformers_['cat'].get_feature_names(input_features=categorical_features)\n",
    "feature_names = list(categorical_columns) + numerical_features\n",
    "feature_importances = pipeline.named_steps['rf_regressor'].feature_importances_\n",
    "\n",
    "# Step 7: Visualize Feature Importances (Optional)\n",
    "# Create a DataFrame to hold the feature importances with corresponding feature names\n",
    "feature_importance_df = pd.DataFrame({'feature': feature_names, 'importance': feature_importances})\n",
    "\n",
    "# Sort the DataFrame by importance values in descending order\n",
    "feature_importance_df = feature_importance_df.sort_values(by='importance', ascending=False)\n",
    "\n",
    "# Plot the feature importances using a bar chart\n",
    "plt.figure(figsize=(10, 6))\n",
    "plt.bar(feature_importance_df['feature'], feature_importance_df['importance'])\n",
    "plt.xlabel('Features')\n",
    "plt.ylabel('Importance')\n",
    "plt.xticks(rotation=90)\n",
    "plt.title('Feature Importance from Random Forest Regressor')\n",
    "plt.tight_layout()\n",
    "plt.show()\n"
   ]
  },
  {
   "cell_type": "code",
   "execution_count": 13,
   "id": "b08d226a-2cb6-4c25-8f48-a5ad7b34698c",
   "metadata": {
    "execution": {
     "iopub.execute_input": "2023-08-05T23:29:58.681238Z",
     "iopub.status.busy": "2023-08-05T23:29:58.680483Z",
     "iopub.status.idle": "2023-08-05T23:29:58.709189Z",
     "shell.execute_reply": "2023-08-05T23:29:58.705768Z",
     "shell.execute_reply.started": "2023-08-05T23:29:58.681136Z"
    },
    "tags": []
   },
   "outputs": [],
   "source": [
    "feature_importance_df = feature_importance_df.sort_values(by='importance', ascending=False)"
   ]
  },
  {
   "cell_type": "code",
   "execution_count": 14,
   "id": "49ccc4a0-9f9d-4b20-a5ef-dcaf3053b428",
   "metadata": {
    "execution": {
     "iopub.execute_input": "2023-08-05T23:30:03.085022Z",
     "iopub.status.busy": "2023-08-05T23:30:03.084223Z",
     "iopub.status.idle": "2023-08-05T23:30:03.145672Z",
     "shell.execute_reply": "2023-08-05T23:30:03.142524Z",
     "shell.execute_reply.started": "2023-08-05T23:30:03.084915Z"
    }
   },
   "outputs": [
    {
     "data": {
      "text/html": [
       "<div>\n",
       "<style scoped>\n",
       "    .dataframe tbody tr th:only-of-type {\n",
       "        vertical-align: middle;\n",
       "    }\n",
       "\n",
       "    .dataframe tbody tr th {\n",
       "        vertical-align: top;\n",
       "    }\n",
       "\n",
       "    .dataframe thead th {\n",
       "        text-align: right;\n",
       "    }\n",
       "</style>\n",
       "<table border=\"1\" class=\"dataframe\">\n",
       "  <thead>\n",
       "    <tr style=\"text-align: right;\">\n",
       "      <th></th>\n",
       "      <th>feature</th>\n",
       "      <th>importance</th>\n",
       "    </tr>\n",
       "  </thead>\n",
       "  <tbody>\n",
       "    <tr>\n",
       "      <th>32</th>\n",
       "      <td>clicks</td>\n",
       "      <td>6.482446e-01</td>\n",
       "    </tr>\n",
       "    <tr>\n",
       "      <th>31</th>\n",
       "      <td>cost</td>\n",
       "      <td>3.085524e-01</td>\n",
       "    </tr>\n",
       "    <tr>\n",
       "      <th>30</th>\n",
       "      <td>displays</td>\n",
       "      <td>1.082403e-02</td>\n",
       "    </tr>\n",
       "    <tr>\n",
       "      <th>5</th>\n",
       "      <td>user_engagement_Medium</td>\n",
       "      <td>6.982449e-03</td>\n",
       "    </tr>\n",
       "    <tr>\n",
       "      <th>1</th>\n",
       "      <td>campaigne_Campaign 2</td>\n",
       "      <td>6.931213e-03</td>\n",
       "    </tr>\n",
       "    <tr>\n",
       "      <th>3</th>\n",
       "      <td>user_engagement_High</td>\n",
       "      <td>6.404247e-03</td>\n",
       "    </tr>\n",
       "    <tr>\n",
       "      <th>0</th>\n",
       "      <td>campaigne_Campaign 1</td>\n",
       "      <td>5.573951e-03</td>\n",
       "    </tr>\n",
       "    <tr>\n",
       "      <th>21</th>\n",
       "      <td>month_June</td>\n",
       "      <td>2.363216e-03</td>\n",
       "    </tr>\n",
       "    <tr>\n",
       "      <th>20</th>\n",
       "      <td>month_April</td>\n",
       "      <td>1.239284e-03</td>\n",
       "    </tr>\n",
       "    <tr>\n",
       "      <th>27</th>\n",
       "      <td>week_Thursday</td>\n",
       "      <td>7.044942e-04</td>\n",
       "    </tr>\n",
       "    <tr>\n",
       "      <th>23</th>\n",
       "      <td>week_Friday</td>\n",
       "      <td>6.840663e-04</td>\n",
       "    </tr>\n",
       "    <tr>\n",
       "      <th>22</th>\n",
       "      <td>month_May</td>\n",
       "      <td>6.470463e-04</td>\n",
       "    </tr>\n",
       "    <tr>\n",
       "      <th>7</th>\n",
       "      <td>banner_240 x 400</td>\n",
       "      <td>1.506684e-04</td>\n",
       "    </tr>\n",
       "    <tr>\n",
       "      <th>12</th>\n",
       "      <td>banner_728 x 90</td>\n",
       "      <td>1.254161e-04</td>\n",
       "    </tr>\n",
       "    <tr>\n",
       "      <th>16</th>\n",
       "      <td>placement_ghi</td>\n",
       "      <td>1.080202e-04</td>\n",
       "    </tr>\n",
       "    <tr>\n",
       "      <th>28</th>\n",
       "      <td>week_Tuesday</td>\n",
       "      <td>8.311062e-05</td>\n",
       "    </tr>\n",
       "    <tr>\n",
       "      <th>26</th>\n",
       "      <td>week_Sunday</td>\n",
       "      <td>7.844986e-05</td>\n",
       "    </tr>\n",
       "    <tr>\n",
       "      <th>24</th>\n",
       "      <td>week_Monday</td>\n",
       "      <td>6.037844e-05</td>\n",
       "    </tr>\n",
       "    <tr>\n",
       "      <th>8</th>\n",
       "      <td>banner_300 x 250</td>\n",
       "      <td>5.525480e-05</td>\n",
       "    </tr>\n",
       "    <tr>\n",
       "      <th>25</th>\n",
       "      <td>week_Saturday</td>\n",
       "      <td>5.185432e-05</td>\n",
       "    </tr>\n",
       "    <tr>\n",
       "      <th>18</th>\n",
       "      <td>placement_mno</td>\n",
       "      <td>4.683206e-05</td>\n",
       "    </tr>\n",
       "    <tr>\n",
       "      <th>29</th>\n",
       "      <td>week_Wednesday</td>\n",
       "      <td>2.880343e-05</td>\n",
       "    </tr>\n",
       "    <tr>\n",
       "      <th>6</th>\n",
       "      <td>banner_160 x 600</td>\n",
       "      <td>2.524142e-05</td>\n",
       "    </tr>\n",
       "    <tr>\n",
       "      <th>10</th>\n",
       "      <td>banner_580 x 400</td>\n",
       "      <td>1.412187e-05</td>\n",
       "    </tr>\n",
       "    <tr>\n",
       "      <th>2</th>\n",
       "      <td>campaigne_Campaign 3</td>\n",
       "      <td>1.401048e-05</td>\n",
       "    </tr>\n",
       "    <tr>\n",
       "      <th>17</th>\n",
       "      <td>placement_jkl</td>\n",
       "      <td>3.421928e-06</td>\n",
       "    </tr>\n",
       "    <tr>\n",
       "      <th>15</th>\n",
       "      <td>placement_def</td>\n",
       "      <td>2.517623e-06</td>\n",
       "    </tr>\n",
       "    <tr>\n",
       "      <th>4</th>\n",
       "      <td>user_engagement_Low</td>\n",
       "      <td>6.761919e-07</td>\n",
       "    </tr>\n",
       "    <tr>\n",
       "      <th>11</th>\n",
       "      <td>banner_670 x 90</td>\n",
       "      <td>1.825781e-07</td>\n",
       "    </tr>\n",
       "    <tr>\n",
       "      <th>14</th>\n",
       "      <td>placement_abc</td>\n",
       "      <td>6.013860e-09</td>\n",
       "    </tr>\n",
       "    <tr>\n",
       "      <th>9</th>\n",
       "      <td>banner_468 x 60</td>\n",
       "      <td>2.622201e-09</td>\n",
       "    </tr>\n",
       "    <tr>\n",
       "      <th>19</th>\n",
       "      <td>placement_nan</td>\n",
       "      <td>4.019053e-14</td>\n",
       "    </tr>\n",
       "    <tr>\n",
       "      <th>13</th>\n",
       "      <td>banner_800 x 250</td>\n",
       "      <td>1.066775e-14</td>\n",
       "    </tr>\n",
       "  </tbody>\n",
       "</table>\n",
       "</div>"
      ],
      "text/plain": [
       "                   feature    importance\n",
       "32                  clicks  6.482446e-01\n",
       "31                    cost  3.085524e-01\n",
       "30                displays  1.082403e-02\n",
       "5   user_engagement_Medium  6.982449e-03\n",
       "1     campaigne_Campaign 2  6.931213e-03\n",
       "3     user_engagement_High  6.404247e-03\n",
       "0     campaigne_Campaign 1  5.573951e-03\n",
       "21              month_June  2.363216e-03\n",
       "20             month_April  1.239284e-03\n",
       "27           week_Thursday  7.044942e-04\n",
       "23             week_Friday  6.840663e-04\n",
       "22               month_May  6.470463e-04\n",
       "7         banner_240 x 400  1.506684e-04\n",
       "12         banner_728 x 90  1.254161e-04\n",
       "16           placement_ghi  1.080202e-04\n",
       "28            week_Tuesday  8.311062e-05\n",
       "26             week_Sunday  7.844986e-05\n",
       "24             week_Monday  6.037844e-05\n",
       "8         banner_300 x 250  5.525480e-05\n",
       "25           week_Saturday  5.185432e-05\n",
       "18           placement_mno  4.683206e-05\n",
       "29          week_Wednesday  2.880343e-05\n",
       "6         banner_160 x 600  2.524142e-05\n",
       "10        banner_580 x 400  1.412187e-05\n",
       "2     campaigne_Campaign 3  1.401048e-05\n",
       "17           placement_jkl  3.421928e-06\n",
       "15           placement_def  2.517623e-06\n",
       "4      user_engagement_Low  6.761919e-07\n",
       "11         banner_670 x 90  1.825781e-07\n",
       "14           placement_abc  6.013860e-09\n",
       "9          banner_468 x 60  2.622201e-09\n",
       "19           placement_nan  4.019053e-14\n",
       "13        banner_800 x 250  1.066775e-14"
      ]
     },
     "execution_count": 14,
     "metadata": {},
     "output_type": "execute_result"
    }
   ],
   "source": [
    "feature_importance_df"
   ]
  },
  {
   "cell_type": "code",
   "execution_count": 1,
   "id": "1f3c7323-ae2a-4e7a-a829-7a9e3aca1f35",
   "metadata": {
    "execution": {
     "iopub.execute_input": "2023-08-06T22:15:28.606710Z",
     "iopub.status.busy": "2023-08-06T22:15:28.605952Z",
     "iopub.status.idle": "2023-08-06T22:16:23.998466Z",
     "shell.execute_reply": "2023-08-06T22:16:23.995399Z",
     "shell.execute_reply.started": "2023-08-06T22:15:28.606603Z"
    },
    "tags": []
   },
   "outputs": [],
   "source": [
    "import pandas as pd\n",
    "from sklearn.model_selection import train_test_split\n",
    "from sklearn.ensemble import RandomForestRegressor\n",
    "from sklearn.preprocessing import OneHotEncoder\n",
    "from sklearn.compose import ColumnTransformer\n",
    "\n",
    "# Step 1: Data Preparation\n",
    "# Load your data into a pandas DataFrame\n",
    "data = pd.read_csv('feature.csv')\n",
    "\n",
    "# Step 2: Feature Engineering\n",
    "# Identify and preprocess relevant features and the target metric\n",
    "# For example:\n",
    "categorical_features = ['campaigne','user_engagement','banner','placement','month','week']\n",
    "numerical_features = ['displays','cost','clicks']\n",
    "target_metric = 'revenue'\n",
    "\n",
    "# Separate features and target\n",
    "X = data.drop(target_metric, axis=1)\n",
    "y = data[target_metric]\n",
    "\n",
    "# Step 3: Data Preprocessing\n",
    "# Create a preprocessor to handle categorical and numerical features\n",
    "categorical_transformer = OneHotEncoder(handle_unknown='ignore')\n",
    "numerical_transformer = 'passthrough'  # No transformation for numerical features\n",
    "\n",
    "preprocessor = ColumnTransformer(\n",
    "    transformers=[\n",
    "        ('cat', categorical_transformer, categorical_features),\n",
    "        ('num', numerical_transformer, numerical_features)\n",
    "    ])\n",
    "\n",
    "# Step 4: Train-Test Split\n",
    "# Split data into training and testing sets\n",
    "X_train, X_test, y_train, y_test = train_test_split(X, y, test_size=0.2, random_state=42)\n",
    "\n",
    "# Step 5: Train the Random Forest Regressor with One-Hot Encoding\n",
    "# Create a Random Forest Regressor model\n",
    "rf_regressor = RandomForestRegressor(n_estimators=100, random_state=42)\n",
    "\n",
    "# Create a pipeline with the preprocessor and regressor\n",
    "from sklearn.pipeline import Pipeline\n",
    "pipeline = Pipeline(steps=[\n",
    "    ('preprocess', preprocessor),\n",
    "    ('rf_regressor', rf_regressor)\n",
    "])\n",
    "\n",
    "# Train the model on the training data\n",
    "pipeline.fit(X_train, y_train)\n",
    "\n",
    "# Step 6: Calculate Uplift\n",
    "# Predict the uplift for each individual in the test set\n",
    "uplift_scores = pipeline.predict(X_test)\n",
    "\n",
    "# Step 7: Segmentation and Ranking\n",
    "# Combine the uplift scores with the original data\n",
    "data_test_with_scores = X_test.copy()\n",
    "data_test_with_scores['uplift_score'] = uplift_scores\n",
    "\n",
    "# Rank individuals based on uplift scores\n",
    "sorted_data = data_test_with_scores.sort_values(by='uplift_score', ascending=False)\n",
    "\n",
    "# Step 8: Targeting Strategy\n",
    "# Select the top segments for targeting based on uplift scores\n",
    "top_segment = sorted_data.head(int(len(data_test_with_scores) * 0.1))\n",
    "\n",
    "# Step 9: Evaluation and Intervention\n",
    "# Implement the intervention on the selected high-potential segments and measure the actual uplift achieved.\n",
    "# This might involve sending targeted marketing campaigns, promotions, or other interventions to the selected segments.\n",
    "\n",
    "# Step 10: Refinement and Iteration\n",
    "# Analyze the results and refine the process as needed to optimize the targeting strategy further.\n",
    "# You may fine-tune the model, experiment with different segmentations, or adjust the intervention strategy.\n",
    "\n",
    "# Additional Steps (Optional):\n",
    "# - To ensure causal inference, consider using propensity score matching or other causal inference methods.\n",
    "# - Evaluate the uplift strategy's effectiveness using metrics like the Average Treatment Effect (ATE) or Expected Treatment Effect (ETE).\n",
    "# - Conduct A/B tests or randomized control trials to validate the uplift predictions and targeting strategy.\n",
    "\n"
   ]
  },
  {
   "cell_type": "code",
   "execution_count": 3,
   "id": "5f387152-9be5-4ce2-b950-a1e34ae334ca",
   "metadata": {
    "execution": {
     "iopub.execute_input": "2023-08-06T22:17:26.295400Z",
     "iopub.status.busy": "2023-08-06T22:17:26.294629Z",
     "iopub.status.idle": "2023-08-06T22:17:26.865620Z",
     "shell.execute_reply": "2023-08-06T22:17:26.862921Z",
     "shell.execute_reply.started": "2023-08-06T22:17:26.295257Z"
    },
    "tags": []
   },
   "outputs": [
    {
     "ename": "NameError",
     "evalue": "name 'actual_uplift' is not defined",
     "output_type": "error",
     "traceback": [
      "\u001b[0;31m---------------------------------------------------------------------------\u001b[0m",
      "\u001b[0;31mNameError\u001b[0m                                 Traceback (most recent call last)",
      "\u001b[0;32m<ipython-input-3-8b4e50b1c032>\u001b[0m in \u001b[0;36m<module>\u001b[0;34m\u001b[0m\n\u001b[1;32m     28\u001b[0m \u001b[0;31m# For example, assuming you have a DataFrame 'actual_uplift' containing the actual uplift for each individual:\u001b[0m\u001b[0;34m\u001b[0m\u001b[0;34m\u001b[0m\u001b[0;34m\u001b[0m\u001b[0m\n\u001b[1;32m     29\u001b[0m \u001b[0;31m# Calculate the overall uplift achieved in the targeted segments\u001b[0m\u001b[0;34m\u001b[0m\u001b[0;34m\u001b[0m\u001b[0;34m\u001b[0m\u001b[0m\n\u001b[0;32m---> 30\u001b[0;31m \u001b[0mactual_uplift_total\u001b[0m \u001b[0;34m=\u001b[0m \u001b[0mactual_uplift\u001b[0m\u001b[0;34m[\u001b[0m\u001b[0;34m'uplift'\u001b[0m\u001b[0;34m]\u001b[0m\u001b[0;34m.\u001b[0m\u001b[0msum\u001b[0m\u001b[0;34m(\u001b[0m\u001b[0;34m)\u001b[0m\u001b[0;34m\u001b[0m\u001b[0;34m\u001b[0m\u001b[0m\n\u001b[0m\u001b[1;32m     31\u001b[0m \u001b[0;34m\u001b[0m\u001b[0m\n\u001b[1;32m     32\u001b[0m \u001b[0;31m# Compare the overall uplift achieved with the forecasted uplift scores to assess the effectiveness of the targeting strategy\u001b[0m\u001b[0;34m\u001b[0m\u001b[0;34m\u001b[0m\u001b[0;34m\u001b[0m\u001b[0m\n",
      "\u001b[0;31mNameError\u001b[0m: name 'actual_uplift' is not defined"
     ]
    }
   ],
   "source": [
    "# top_segment.to_csv('topsgment.csv')\n",
    "# Step 8: Targeting Strategy\n",
    "# Select the top segments for targeting based on uplift scores\n",
    "# top_segment = sorted_data.head(int(len(data_test_with_scores) * 0.1))\n",
    "\n",
    "# Step 9: Evaluation and Intervention\n",
    "# Implement the intervention on the selected high-potential segments and measure the actual uplift achieved.\n",
    "\n",
    "# Assume you have a function 'implement_intervention' that represents the intervention strategy.\n",
    "# This function takes an individual as input and implements the intervention based on the targeting strategy.\n",
    "# Replace the function 'implement_intervention' with the actual intervention strategy implementation.\n",
    "\n",
    "def implement_intervention(individual):\n",
    "    # Implement the intervention for the given individual\n",
    "    # For example, you can send personalized marketing campaigns, promotions, or offers to the individual.\n",
    "\n",
    "# Apply the intervention to each individual in the top segments\n",
    "    for index, row in top_segment.iterrows():\n",
    "        implement_intervention(row)\n",
    "\n",
    "# After implementing the intervention, you need to measure the actual uplift achieved in the selected segments.\n",
    "# Compare the results with the forecasted uplift scores to assess the effectiveness of the targeting strategy.\n",
    "\n",
    "# Collect data on the actual uplift achieved and evaluate the performance of the intervention strategy.\n",
    "# Compare the results with the forecasted uplift scores to assess the effectiveness of the targeting strategy.\n",
    "# Calculate relevant metrics to measure the uplift, such as the Average Treatment Effect (ATE) or Expected Treatment Effect (ETE).\n",
    "\n",
    "# For example, assuming you have a DataFrame 'actual_uplift' containing the actual uplift for each individual:\n",
    "# Calculate the overall uplift achieved in the targeted segments\n",
    "actual_uplift_total = actual_uplift['uplift'].sum()\n",
    "\n",
    "# Compare the overall uplift achieved with the forecasted uplift scores to assess the effectiveness of the targeting strategy\n",
    "forecasted_uplift_total = top_segment['uplift_score'].sum()\n",
    "\n",
    "# Calculate the uplift percentage relative to the forecasted uplift scores\n",
    "uplift_percentage = (actual_uplift_total - forecasted_uplift_total) / forecasted_uplift_total * 100\n",
    "\n",
    "print(\"Actual Uplift Achieved:\", actual_uplift_total)\n",
    "print(\"Forecasted Uplift Scores:\", forecasted_uplift_total)\n",
    "print(\"Uplift Percentage:\", uplift_percentage, \"%\")\n",
    "\n",
    "# Additional Steps (Optional):\n",
    "# - For causal inference, consider using propensity score matching or other causal inference methods to estimate the true treatment effect.\n",
    "# - Conduct A/B tests or randomized control trials to validate the uplift predictions and targeting strategy.\n"
   ]
  },
  {
   "cell_type": "code",
   "execution_count": null,
   "id": "0d1dce6a-17c4-4a30-b474-0bfb8e1786ea",
   "metadata": {},
   "outputs": [],
   "source": [
    "# Assuming 'top_segment' contains the DataFrame with the selected high-potential segments\n",
    "# Implement the intervention on the selected segments and measure the actual uplift achieved.\n",
    "# This might involve sending targeted marketing campaigns, promotions, or other interventions to the selected segments.\n",
    "\n",
    "# For example, you can implement interventions for each individual in the top segments using a loop:\n",
    "for index, row in top_segment.iterrows():\n",
    "    # Implement intervention for each individual based on the intervention strategy defined\n",
    "    # For example, you can send personalized marketing emails or offers to individuals in the selected segments.\n",
    "\n",
    "# After implementing the intervention, you need to measure the actual uplift achieved in the selected segments.\n",
    "# You can measure the uplift using a control group or comparing with the results from similar individuals who were not targeted.\n",
    "# The uplift can be calculated as the difference in the target metric (e.g., revenue) between the intervention and non-intervention groups.\n",
    "\n",
    "# Collect data on the actual uplift achieved and evaluate the performance of the intervention strategy.\n",
    "# Compare the results with the forecasted uplift scores to assess the effectiveness of the targeting strategy.\n",
    "# Calculate relevant metrics to measure the uplift, such as the Average Treatment Effect (ATE) or Expected Treatment Effect (ETE).\n",
    "\n",
    "# Additional Steps (Optional):\n",
    "# - For causal inference, consider using propensity score matching or other causal inference methods to estimate the true treatment effect.\n",
    "# - Conduct A/B tests or randomized control trials to validate the uplift predictions and targeting strategy.\n"
   ]
  },
  {
   "cell_type": "code",
   "execution_count": 23,
   "id": "1caf1a1b-62e8-4b8f-8562-61b43c110503",
   "metadata": {
    "execution": {
     "iopub.execute_input": "2023-08-05T23:51:27.064254Z",
     "iopub.status.busy": "2023-08-05T23:51:27.063163Z",
     "iopub.status.idle": "2023-08-05T23:52:30.654203Z",
     "shell.execute_reply": "2023-08-05T23:52:30.652044Z",
     "shell.execute_reply.started": "2023-08-05T23:51:27.064137Z"
    },
    "tags": []
   },
   "outputs": [
    {
     "data": {
      "image/png": "[encoded data removed]",
      "text/plain": [
       "<Figure size 576x432 with 1 Axes>"
      ]
     },
     "metadata": {
      "needs_background": "light"
     },
     "output_type": "display_data"
    }
   ],
   "source": [
    "import pandas as pd\n",
    "from sklearn.model_selection import train_test_split\n",
    "from sklearn.ensemble import RandomForestRegressor\n",
    "from sklearn.preprocessing import OneHotEncoder\n",
    "from sklearn.compose import ColumnTransformer\n",
    "import matplotlib.pyplot as plt\n",
    "\n",
    "# Step 1: Data Preparation\n",
    "# Load your data into a pandas DataFrame\n",
    "data = pd.read_csv('feature.csv')\n",
    "\n",
    "# Step 2: Feature Engineering\n",
    "# Identify and preprocess relevant features and the target metric\n",
    "# For example:\n",
    "categorical_features = ['campaigne','user_engagement','banner','placement','month','week']\n",
    "numerical_features = ['displays','cost','clicks']\n",
    "target_metric = 'revenue'\n",
    "\n",
    "# Separate features and target\n",
    "X = data.drop(target_metric, axis=1)\n",
    "y = data[target_metric]\n",
    "\n",
    "# Step 3: Data Preprocessing\n",
    "# Create a preprocessor to handle categorical and numerical features\n",
    "categorical_transformer = OneHotEncoder(handle_unknown='ignore')\n",
    "numerical_transformer = 'passthrough'  # No transformation for numerical features\n",
    "\n",
    "preprocessor = ColumnTransformer(\n",
    "    transformers=[\n",
    "        ('cat', categorical_transformer, categorical_features),\n",
    "        ('num', numerical_transformer, numerical_features)\n",
    "    ])\n",
    "\n",
    "# Step 4: Train-Test Split\n",
    "# Split data into training and testing sets\n",
    "X_train, X_test, y_train, y_test = train_test_split(X, y, test_size=0.2, random_state=42)\n",
    "\n",
    "# Step 5: Train the Random Forest Regressor with One-Hot Encoding\n",
    "# Create a Random Forest Regressor model\n",
    "rf_regressor = RandomForestRegressor(n_estimators=100, random_state=42)\n",
    "\n",
    "# Create a pipeline with the preprocessor and regressor\n",
    "from sklearn.pipeline import Pipeline\n",
    "pipeline = Pipeline(steps=[\n",
    "    ('preprocess', preprocessor),\n",
    "    ('rf_regressor', rf_regressor)\n",
    "])\n",
    "\n",
    "# Train the model on the training data\n",
    "pipeline.fit(X_train, y_train)\n",
    "\n",
    "# Step 6: Calculate Uplift (Predicted Uplift)\n",
    "# Predict the uplift for each individual in the test set\n",
    "uplift_scores = pipeline.predict(X_test)\n",
    "\n",
    "# Step 7: Segmentation\n",
    "# Combine the uplift scores with the original data\n",
    "data_test_with_scores = X_test.copy()\n",
    "data_test_with_scores['uplift_score'] = uplift_scores\n",
    "\n",
    "# Optionally, you can further segment the data based on uplift scores\n",
    "# For example, you can divide the data into quartiles based on uplift scores\n",
    "data_test_with_scores['uplift_quartile'] = pd.qcut(data_test_with_scores['uplift_score'], 3, labels=False)\n",
    "\n",
    "# Step 8: Evaluation\n",
    "# Calculate the average uplift in each segment (quartile)\n",
    "average_uplift_by_segment = data_test_with_scores.groupby('uplift_quartile')['uplift_score'].mean()\n",
    "\n",
    "# Step 9: Visualization (Optional)\n",
    "# Plot the average uplift in each segment (quartile) for visualization\n",
    "plt.figure(figsize=(8, 6))\n",
    "plt.bar(range(3), average_uplift_by_segment)\n",
    "plt.xticks(range(3), ['Q1', 'Q2', 'Q3'])\n",
    "plt.xlabel('Uplift Quartile')\n",
    "plt.ylabel('Average Uplift')\n",
    "plt.title('Average Uplift by Segment')\n",
    "plt.show()\n"
   ]
  },
  {
   "cell_type": "code",
   "execution_count": null,
   "id": "58cdfab1-557f-41a0-ad24-4e4a029987b7",
   "metadata": {
    "execution": {
     "iopub.execute_input": "2023-08-06T00:07:09.101783Z",
     "iopub.status.busy": "2023-08-06T00:07:09.100830Z"
    },
    "tags": []
   },
   "outputs": [],
   "source": [
    "import pandas as pd\n",
    "from sklearn.model_selection import train_test_split\n",
    "from sklearn.ensemble import RandomForestRegressor\n",
    "from sklearn.preprocessing import OneHotEncoder\n",
    "from sklearn.compose import ColumnTransformer\n",
    "from sklearn.neighbors import NearestNeighbors\n",
    "import numpy as np\n",
    "\n",
    "# Step 1: Data Preparation\n",
    "# Load your data into a pandas DataFrame\n",
    "data = pd.read_csv('feature.csv')\n",
    "\n",
    "# Step 2: Feature Engineering\n",
    "# Identify and preprocess relevant features and the target metric\n",
    "# For example:\n",
    "categorical_features = ['campaigne','user_engagement','banner','placement','month','week']\n",
    "numerical_features = ['displays','cost','clicks','post_click_conversions']\n",
    "target_metric = 'revenue'\n",
    "\n",
    "# Separate features and target\n",
    "X = data.drop(target_metric, axis=1)\n",
    "y = data[target_metric]\n",
    "\n",
    "# Step 3: Data Preprocessing\n",
    "# Create a preprocessor to handle categorical and numerical features\n",
    "categorical_transformer = OneHotEncoder(handle_unknown='ignore')\n",
    "numerical_transformer = 'passthrough'  # No transformation for numerical features\n",
    "\n",
    "preprocessor = ColumnTransformer(\n",
    "    transformers=[\n",
    "        ('cat', categorical_transformer, categorical_features),\n",
    "        ('num', numerical_transformer, numerical_features)\n",
    "    ])\n",
    "\n",
    "# Step 4: Train the Propensity Model\n",
    "# In this example, we'll use a RandomForestRegressor as the propensity model\n",
    "propensity_model = RandomForestRegressor(n_estimators=100, random_state=42)\n",
    "\n",
    "# Preprocess and split the data\n",
    "X_prep = preprocessor.fit_transform(X)\n",
    "X_train, X_test, y_train, y_test = train_test_split(X_prep, y, test_size=0.2, random_state=42)\n",
    "\n",
    "# Train the propensity model on the training data\n",
    "propensity_model.fit(X_train, y_train)\n",
    "\n",
    "# Step 5: Calculate Propensity Scores\n",
    "# Predict propensity scores for the test set\n",
    "propensity_scores = propensity_model.predict(X_test)\n",
    "\n",
    "# Step 6: Match Treated and Control Units\n",
    "# Use the nearest neighbor matching based on propensity scores\n",
    "neighbors = NearestNeighbors(n_neighbors=1, algorithm='ball_tree').fit(propensity_scores.reshape(-1, 1))\n",
    "distances, indices = neighbors.kneighbors(propensity_scores.reshape(-1, 1))\n",
    "\n",
    "# Extract matched indices for treated and control units\n",
    "matched_indices = indices[:, 0]\n",
    "\n",
    "# Separate the treated and control units based on the matched indices\n",
    "treated_units = X_test[matched_indices]\n",
    "control_units = np.delete(X_test, matched_indices)\n",
    "\n",
    "# Step 7: Calculate Uplift\n",
    "# Calculate uplift as the difference between the target metric in treated and control groups\n",
    "treated_uplift = y_test[matched_indices] - propensity_model.predict(treated_units)\n",
    "control_uplift = y_test[np.arange(len(y_test)) != matched_indices] - propensity_model.predict(control_units)\n",
    "\n",
    "# Step 8: Evaluate Uplift\n",
    "# Calculate the average uplift in treated and control groups\n",
    "average_treated_uplift = np.mean(treated_uplift)\n",
    "average_control_uplift = np.mean(control_uplift)\n",
    "\n",
    "# Step 9: Compare the Average Uplifts\n",
    "# Calculate the overall uplift as the difference between average uplift in treated and control groups\n",
    "overall_uplift = average_treated_uplift - average_control_uplift\n",
    "\n",
    "# Step 10: Visualize the Uplift (Optional)\n",
    "# You can optionally plot the uplift distribution for better understanding.\n",
    "# For example, use histograms or density plots to visualize the uplift in treated and control groups.\n",
    "\n",
    "# Additional Steps (Optional):\n",
    "# - Interpret the results carefully due to the assumptions and limitations of the propensity score matching method.\n",
    "# - Consider sensitivity analysis to assess the robustness of the results to hidden biases.\n",
    "# - Explore other uplift modeling techniques if the results are not satisfactory, such as Two Models, Causal Trees, etc.\n",
    "# - Perform cross-validation and parameter tuning to optimize the propensity model's performance.\n",
    "\n"
   ]
  },
  {
   "cell_type": "code",
   "execution_count": 15,
   "id": "6738af39-bc6d-4ab8-bb5a-2dc887a93633",
   "metadata": {
    "execution": {
     "iopub.execute_input": "2023-08-06T12:39:02.590299Z",
     "iopub.status.busy": "2023-08-06T12:39:02.589565Z",
     "iopub.status.idle": "2023-08-06T12:39:25.391047Z",
     "shell.execute_reply": "2023-08-06T12:39:25.389377Z",
     "shell.execute_reply.started": "2023-08-06T12:39:02.590199Z"
    },
    "tags": []
   },
   "outputs": [
    {
     "data": {
      "image/png": "[encoded data removed]",
      "text/plain": [
       "<Figure size 720x432 with 1 Axes>"
      ]
     },
     "metadata": {
      "needs_background": "light"
     },
     "output_type": "display_data"
    },
    {
     "name": "stdout",
     "output_type": "stream",
     "text": [
      "Important Features for Revenue Prediction:\n",
      "['revenue', 'post_click_sales_amount', 'post_click_conversions', 'clicks', 'cost', 'displays', 'CPC']\n"
     ]
    },
    {
     "name": "stderr",
     "output_type": "stream",
     "text": [
      "/usr/local/lib64/python3.6/site-packages/statsmodels/tsa/base/tsa_model.py:583: ValueWarning: A date index has been provided, but it has no associated frequency information and so will be ignored when e.g. forecasting.\n",
      "  ' ignored when e.g. forecasting.', ValueWarning)\n",
      "/usr/local/lib64/python3.6/site-packages/statsmodels/tsa/base/tsa_model.py:583: ValueWarning: A date index has been provided, but it has no associated frequency information and so will be ignored when e.g. forecasting.\n",
      "  ' ignored when e.g. forecasting.', ValueWarning)\n",
      "/usr/local/lib64/python3.6/site-packages/statsmodels/tsa/base/tsa_model.py:583: ValueWarning: A date index has been provided, but it has no associated frequency information and so will be ignored when e.g. forecasting.\n",
      "  ' ignored when e.g. forecasting.', ValueWarning)\n",
      "/usr/local/lib64/python3.6/site-packages/statsmodels/tsa/base/tsa_model.py:379: ValueWarning: No supported index is available. Prediction results will be given with an integer index beginning at `start`.\n",
      "  ValueWarning)\n"
     ]
    },
    {
     "data": {
      "image/png": "[encoded data removed]",
      "text/plain": [
       "<Figure size 720x432 with 1 Axes>"
      ]
     },
     "metadata": {
      "needs_background": "light"
     },
     "output_type": "display_data"
    }
   ],
   "source": [
    "##### time series\n",
    "import pandas as pd\n",
    "import numpy as np\n",
    "import matplotlib.pyplot as plt\n",
    "from statsmodels.tsa.arima.model import ARIMA\n",
    "from statsmodels.tsa.stattools import adfuller\n",
    "\n",
    "# Load your dataset (replace 'your_dataset.csv' with your actual data file)\n",
    "data = pd.read_csv('raw_data.csv')\n",
    "\n",
    "# Convert the 'Date' column to a pandas datetime format\n",
    "data['day'] = pd.to_datetime(data['day'])\n",
    "data.sort_values(by=['day'],inplace=True)\n",
    "data.set_index('day', inplace=True)\n",
    "\n",
    "# Visualize the revenue time series data\n",
    "plt.figure(figsize=(10, 6))\n",
    "plt.plot(data['revenue'])\n",
    "plt.xlabel('day')\n",
    "plt.ylabel('revenue')\n",
    "plt.title('Revenue Time Series')\n",
    "plt.show()\n",
    "\n",
    "# Feature Selection using Correlation Analysis\n",
    "correlation_matrix = data.corr()\n",
    "correlation_with_revenue = correlation_matrix['revenue'].sort_values(ascending=False)\n",
    "important_features = correlation_with_revenue[correlation_with_revenue > 0].index.tolist()\n",
    "\n",
    "# Print the important features\n",
    "print(\"Important Features for Revenue Prediction:\")\n",
    "print(important_features)\n",
    "\n",
    "# Time Series Forecasting\n",
    "# Assuming the 'Date' column is already in datetime format and data is sorted by date\n",
    "\n",
    "# Perform the Augmented Dickey-Fuller test to check for stationarity\n",
    "result = adfuller(data['revenue'])\n",
    "\n",
    "if result[1] > 0.05:\n",
    "    # Difference the data to make it stationary\n",
    "    data['revenue'] = data['revenue'].diff().dropna()\n",
    "\n",
    "# Fit the ARIMA model\n",
    "order = (1, 0, 1)  # Replace with the appropriate order based on ACF and PACF plots\n",
    "arima_model = ARIMA(data['revenue'], order=order)\n",
    "arima_fit = arima_model.fit()\n",
    "\n",
    "# Forecast the future revenue values\n",
    "n_forecast = 12  # Number of time points to forecast\n",
    "forecast = arima_fit.forecast(steps=n_forecast)\n",
    "\n",
    "# Create a new date range for the forecasted period\n",
    "forecast_dates = pd.date_range(start=data.index[-1], periods=n_forecast+1, closed='right')\n",
    "\n",
    "# Convert forecasted values to a DataFrame\n",
    "forecast_df = pd.DataFrame({'Forecasted Revenue': forecast}, index=forecast_dates[1:])\n",
    "\n",
    "# Plot the forecasted revenue\n",
    "plt.figure(figsize=(10, 6))\n",
    "plt.plot(data['revenue'], label='Historical Revenue')\n",
    "plt.plot(forecast_df, label='Forecasted Revenue', color='orange')\n",
    "plt.xlabel('day')\n",
    "plt.ylabel('revenue')\n",
    "plt.title('Revenue Time Series Forecasting')\n",
    "plt.legend()\n",
    "plt.show()\n"
   ]
  },
  {
   "cell_type": "code",
   "execution_count": 16,
   "id": "b5a34d9a-d116-403f-8094-0841760b8e55",
   "metadata": {
    "execution": {
     "iopub.execute_input": "2023-08-06T12:41:09.947629Z",
     "iopub.status.busy": "2023-08-06T12:41:09.946842Z",
     "iopub.status.idle": "2023-08-06T12:41:09.982871Z",
     "shell.execute_reply": "2023-08-06T12:41:09.980299Z",
     "shell.execute_reply.started": "2023-08-06T12:41:09.947525Z"
    }
   },
   "outputs": [
    {
     "data": {
      "text/html": [
       "<div>\n",
       "<style scoped>\n",
       "    .dataframe tbody tr th:only-of-type {\n",
       "        vertical-align: middle;\n",
       "    }\n",
       "\n",
       "    .dataframe tbody tr th {\n",
       "        vertical-align: top;\n",
       "    }\n",
       "\n",
       "    .dataframe thead th {\n",
       "        text-align: right;\n",
       "    }\n",
       "</style>\n",
       "<table border=\"1\" class=\"dataframe\">\n",
       "  <thead>\n",
       "    <tr style=\"text-align: right;\">\n",
       "      <th></th>\n",
       "      <th>Forecasted Revenue</th>\n",
       "    </tr>\n",
       "  </thead>\n",
       "  <tbody>\n",
       "    <tr>\n",
       "      <th>2020-07-02</th>\n",
       "      <td>NaN</td>\n",
       "    </tr>\n",
       "    <tr>\n",
       "      <th>2020-07-03</th>\n",
       "      <td>NaN</td>\n",
       "    </tr>\n",
       "    <tr>\n",
       "      <th>2020-07-04</th>\n",
       "      <td>NaN</td>\n",
       "    </tr>\n",
       "    <tr>\n",
       "      <th>2020-07-05</th>\n",
       "      <td>NaN</td>\n",
       "    </tr>\n",
       "    <tr>\n",
       "      <th>2020-07-06</th>\n",
       "      <td>NaN</td>\n",
       "    </tr>\n",
       "    <tr>\n",
       "      <th>2020-07-07</th>\n",
       "      <td>NaN</td>\n",
       "    </tr>\n",
       "    <tr>\n",
       "      <th>2020-07-08</th>\n",
       "      <td>NaN</td>\n",
       "    </tr>\n",
       "    <tr>\n",
       "      <th>2020-07-09</th>\n",
       "      <td>NaN</td>\n",
       "    </tr>\n",
       "    <tr>\n",
       "      <th>2020-07-10</th>\n",
       "      <td>NaN</td>\n",
       "    </tr>\n",
       "    <tr>\n",
       "      <th>2020-07-11</th>\n",
       "      <td>NaN</td>\n",
       "    </tr>\n",
       "    <tr>\n",
       "      <th>2020-07-12</th>\n",
       "      <td>NaN</td>\n",
       "    </tr>\n",
       "  </tbody>\n",
       "</table>\n",
       "</div>"
      ],
      "text/plain": [
       "            Forecasted Revenue\n",
       "2020-07-02                 NaN\n",
       "2020-07-03                 NaN\n",
       "2020-07-04                 NaN\n",
       "2020-07-05                 NaN\n",
       "2020-07-06                 NaN\n",
       "2020-07-07                 NaN\n",
       "2020-07-08                 NaN\n",
       "2020-07-09                 NaN\n",
       "2020-07-10                 NaN\n",
       "2020-07-11                 NaN\n",
       "2020-07-12                 NaN"
      ]
     },
     "execution_count": 16,
     "metadata": {},
     "output_type": "execute_result"
    }
   ],
   "source": [
    "forecast_df"
   ]
  },
  {
   "cell_type": "code",
   "execution_count": 22,
   "id": "88b4505e-0094-49c6-b6e0-8ab57dcb3d57",
   "metadata": {
    "execution": {
     "iopub.execute_input": "2023-08-06T12:55:32.653830Z",
     "iopub.status.busy": "2023-08-06T12:55:32.653005Z",
     "iopub.status.idle": "2023-08-06T12:57:58.820737Z",
     "shell.execute_reply": "2023-08-06T12:57:58.817621Z",
     "shell.execute_reply.started": "2023-08-06T12:55:32.653725Z"
    },
    "tags": []
   },
   "outputs": [
    {
     "data": {
      "image/png": "[encoded data removed]",
      "text/plain": [
       "<Figure size 720x432 with 1 Axes>"
      ]
     },
     "metadata": {
      "needs_background": "light"
     },
     "output_type": "display_data"
    },
    {
     "name": "stderr",
     "output_type": "stream",
     "text": [
      "/usr/local/lib64/python3.6/site-packages/statsmodels/tsa/base/tsa_model.py:583: ValueWarning: A date index has been provided, but it has no associated frequency information and so will be ignored when e.g. forecasting.\n",
      "  ' ignored when e.g. forecasting.', ValueWarning)\n",
      "/usr/local/lib64/python3.6/site-packages/statsmodels/tsa/base/tsa_model.py:583: ValueWarning: A date index has been provided, but it has no associated frequency information and so will be ignored when e.g. forecasting.\n",
      "  ' ignored when e.g. forecasting.', ValueWarning)\n",
      "/usr/local/lib64/python3.6/site-packages/statsmodels/tsa/base/tsa_model.py:379: ValueWarning: No supported index is available. Prediction results will be given with an integer index beginning at `start`.\n",
      "  ValueWarning)\n"
     ]
    },
    {
     "data": {
      "image/png": "[encoded data removed]",
      "text/plain": [
       "<Figure size 720x432 with 1 Axes>"
      ]
     },
     "metadata": {
      "needs_background": "light"
     },
     "output_type": "display_data"
    }
   ],
   "source": [
    "import pandas as pd\n",
    "import numpy as np\n",
    "import matplotlib.pyplot as plt\n",
    "from statsmodels.tsa.statespace.sarimax import SARIMAX\n",
    "from statsmodels.tsa.stattools import adfuller\n",
    "\n",
    "# Load your dataset (replace 'your_dataset.csv' with your actual data file)\n",
    "data = pd.read_csv('raw_data.csv')\n",
    "\n",
    "# Convert the 'Date' column to a pandas datetime format\n",
    "data['day'] = pd.to_datetime(data['day'])\n",
    "data.sort_values(by=['day'],inplace=True)\n",
    "\n",
    "data.set_index('day', inplace=True)\n",
    "\n",
    "# Visualize the revenue time series data\n",
    "plt.figure(figsize=(10, 6))\n",
    "plt.plot(data['revenue'])\n",
    "plt.xlabel('day')\n",
    "plt.ylabel('revenue')\n",
    "plt.title('Revenue Time Series')\n",
    "plt.show()\n",
    "\n",
    "# Perform the Augmented Dickey-Fuller test to check for stationarity\n",
    "result = adfuller(data['revenue'])\n",
    "\n",
    "if result[1] > 0.05:\n",
    "    # Difference the data to make it stationary\n",
    "    data['revenue'] = data['revenue'].diff().dropna()\n",
    "\n",
    "# Split the data into training and testing sets\n",
    "train_size = int(len(data) * 0.8)\n",
    "train_data, test_data = data.iloc[:train_size], data.iloc[train_size:]\n",
    "\n",
    "# Fit the SARIMA model\n",
    "order = (1, 1, 1)\n",
    "seasonal_order = (1, 1, 1, 12)  # Assuming seasonality with a period of 12 (monthly data)\n",
    "sarima_model = SARIMAX(train_data['revenue'], order=order, seasonal_order=seasonal_order)\n",
    "sarima_fit = sarima_model.fit()\n",
    "\n",
    "# Forecast the future revenue values\n",
    "n_forecast = len(test_data)\n",
    "forecast = sarima_fit.forecast(steps=n_forecast)\n",
    "\n",
    "# Create a new date range for the forecasted period\n",
    "forecast_dates = pd.date_range(start=test_data.index[0], periods=n_forecast, closed='right')\n",
    "\n",
    "# Convert forecasted values to a DataFrame\n",
    "forecast_df = pd.DataFrame({'Forecasted Revenue': forecast}, index=forecast_dates)\n",
    "forecast_df\n",
    "# Plot the forecasted revenue\n",
    "plt.figure(figsize=(10, 6))\n",
    "plt.plot(train_data['revenue'], label='Training Data')\n",
    "plt.plot(test_data['revenue'], label='Test Data')\n",
    "plt.plot(forecast_df, label='Forecasted Revenue', color='orange')\n",
    "plt.xlabel('day')\n",
    "plt.ylabel('revenue')\n",
    "plt.title('Revenue Time Series Forecasting')\n",
    "plt.legend()\n",
    "plt.show()\n"
   ]
  },
  {
   "cell_type": "code",
   "execution_count": 18,
   "id": "5deefebc-1bbf-4bc8-b352-5a0e8c4f40bb",
   "metadata": {
    "execution": {
     "iopub.execute_input": "2023-08-06T12:53:01.146785Z",
     "iopub.status.busy": "2023-08-06T12:53:01.145717Z",
     "iopub.status.idle": "2023-08-06T12:53:02.692752Z",
     "shell.execute_reply": "2023-08-06T12:53:02.688819Z",
     "shell.execute_reply.started": "2023-08-06T12:53:01.146660Z"
    }
   },
   "outputs": [
    {
     "name": "stdout",
     "output_type": "stream",
     "text": [
      "Evaluation Metrics for Revenue Forecast:\n",
      "Mean Absolute Error (MAE): 8.88628213151402\n",
      "Mean Squared Error (MSE): 889.7629513476639\n",
      "Root Mean Squared Error (RMSE): 29.828894571332405\n",
      "Mean Absolute Percentage Error (MAPE): 7.89761527617661e+17\n",
      "R-squared (R²): -0.016227444301240013\n"
     ]
    }
   ],
   "source": [
    "from sklearn.metrics import mean_absolute_error, mean_squared_error, mean_absolute_percentage_error, r2_score\n",
    "\n",
    "# Calculate the evaluation metrics\n",
    "mae = mean_absolute_error(test_data['revenue'], forecast)\n",
    "mse = mean_squared_error(test_data['revenue'], forecast)\n",
    "rmse = np.sqrt(mse)\n",
    "mape = mean_absolute_percentage_error(test_data['revenue'], forecast) * 100\n",
    "r2 = r2_score(test_data['revenue'], forecast)\n",
    "\n",
    "# Print the evaluation metrics\n",
    "print(\"Evaluation Metrics for Revenue Forecast:\")\n",
    "print(\"Mean Absolute Error (MAE):\", mae)\n",
    "print(\"Mean Squared Error (MSE):\", mse)\n",
    "print(\"Root Mean Squared Error (RMSE):\", rmse)\n",
    "print(\"Mean Absolute Percentage Error (MAPE):\", mape)\n",
    "print(\"R-squared (R²):\", r2)\n"
   ]
  },
  {
   "cell_type": "code",
   "execution_count": 21,
   "id": "f6a2edc2-ee45-447f-899d-6aff5014cd05",
   "metadata": {
    "execution": {
     "iopub.execute_input": "2023-08-06T12:54:16.753959Z",
     "iopub.status.busy": "2023-08-06T12:54:16.753126Z",
     "iopub.status.idle": "2023-08-06T12:54:16.972021Z",
     "shell.execute_reply": "2023-08-06T12:54:16.968559Z",
     "shell.execute_reply.started": "2023-08-06T12:54:16.753857Z"
    },
    "tags": []
   },
   "outputs": [],
   "source": [
    "forecast_df.to_csv('g.csv')"
   ]
  },
  {
   "cell_type": "code",
   "execution_count": 24,
   "id": "981a8e2a-a7f6-4575-81f2-cd1cc1d2afe6",
   "metadata": {
    "execution": {
     "iopub.execute_input": "2023-08-06T13:07:02.511480Z",
     "iopub.status.busy": "2023-08-06T13:07:02.510720Z",
     "iopub.status.idle": "2023-08-06T13:07:02.645812Z",
     "shell.execute_reply": "2023-08-06T13:07:02.642767Z",
     "shell.execute_reply.started": "2023-08-06T13:07:02.511380Z"
    },
    "tags": []
   },
   "outputs": [],
   "source": [
    "data=pd.read_csv('raw_data.csv')\n",
    "data['day'] = pd.to_datetime(data['day'])\n",
    "data.sort_values(by=['day'],inplace=True)"
   ]
  },
  {
   "cell_type": "code",
   "execution_count": 28,
   "id": "0e5ac63e-2aea-46fe-9d34-cef2db873ba8",
   "metadata": {
    "execution": {
     "iopub.execute_input": "2023-08-06T13:08:48.934036Z",
     "iopub.status.busy": "2023-08-06T13:08:48.933263Z",
     "iopub.status.idle": "2023-08-06T13:08:48.954064Z",
     "shell.execute_reply": "2023-08-06T13:08:48.951755Z",
     "shell.execute_reply.started": "2023-08-06T13:08:48.933935Z"
    },
    "tags": []
   },
   "outputs": [
    {
     "data": {
      "text/plain": [
       "day                        datetime64[ns]\n",
       "campaign_name                      object\n",
       "user_engagement                    object\n",
       "banner                             object\n",
       "placement                          object\n",
       "displays                            int64\n",
       "cost                              float64\n",
       "clicks                              int64\n",
       "revenue                           float64\n",
       "post_click_conversions              int64\n",
       "post_click_sales_amount           float64\n",
       "CPC                               float64\n",
       "dtype: object"
      ]
     },
     "execution_count": 28,
     "metadata": {},
     "output_type": "execute_result"
    }
   ],
   "source": [
    "data.dtypes"
   ]
  },
  {
   "cell_type": "code",
   "execution_count": null,
   "id": "9374b9e7-d845-49a4-a84b-d7d9eed429c7",
   "metadata": {},
   "outputs": [],
   "source": []
  }
 ],
 "metadata": {
  "kernelspec": {
   "display_name": "Python 3",
   "language": "python",
   "name": "python3"
  },
  "language_info": {
   "codemirror_mode": {
    "name": "ipython",
    "version": 3
   },
   "file_extension": ".py",
   "mimetype": "text/x-python",
   "name": "python",
   "nbconvert_exporter": "python",
   "pygments_lexer": "ipython3",
   "version": "3.6.8"
  }
 },
 "nbformat": 4,
 "nbformat_minor": 5
}
