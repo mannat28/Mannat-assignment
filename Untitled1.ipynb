{
 "cells": [
  {
   "cell_type": "code",
   "execution_count": 1,
   "id": "e8162cf7-a8cd-486e-bebe-a4170d0e170c",
   "metadata": {
    "execution": {
     "iopub.execute_input": "2023-08-03T12:26:13.093273Z",
     "iopub.status.busy": "2023-08-03T12:26:13.092458Z",
     "iopub.status.idle": "2023-08-03T12:26:13.168549Z",
     "shell.execute_reply": "2023-08-03T12:26:13.165054Z",
     "shell.execute_reply.started": "2023-08-03T12:26:13.093159Z"
    }
   },
   "outputs": [
    {
     "data": {
      "text/html": [
       "\n",
       "        <div>\n",
       "            <p><b>SparkContext</b></p>\n",
       "\n",
       "            <p><a href=\"http://gb-wat-svb-0227.dunnhumby.co.uk:4062\">Spark UI</a></p>\n",
       "\n",
       "            <dl>\n",
       "              <dt>Version</dt>\n",
       "                <dd><code>v3.2.1</code></dd>\n",
       "              <dt>Master</dt>\n",
       "                <dd><code>yarn</code></dd>\n",
       "              <dt>AppName</dt>\n",
       "                <dd><code>spark3-py3-notebook</code></dd>\n",
       "            </dl>\n",
       "        </div>\n",
       "        "
      ],
      "text/plain": [
       "<SparkContext master=yarn appName=spark3-py3-notebook>"
      ]
     },
     "execution_count": 1,
     "metadata": {},
     "output_type": "execute_result"
    }
   ],
   "source": [
    "sc"
   ]
  },
  {
   "cell_type": "code",
   "execution_count": 6,
   "id": "06c95fd6-955e-4781-851b-4404eca9c676",
   "metadata": {
    "execution": {
     "iopub.execute_input": "2023-08-03T12:27:55.111271Z",
     "iopub.status.busy": "2023-08-03T12:27:55.110496Z",
     "iopub.status.idle": "2023-08-03T12:29:14.584089Z",
     "shell.execute_reply": "2023-08-03T12:29:14.580438Z",
     "shell.execute_reply.started": "2023-08-03T12:27:55.111168Z"
    },
    "tags": []
   },
   "outputs": [],
   "source": [
    "import pyspark.sql.functions as F\n",
    "spark.table('tesco_uk_easl.date_dim_c').where(F.col('fis_year_id').between(2020,2023)).select('date_id','fis_week_id','fis_week_epoch').toPandas().to_csv('week_epochs.csv')"
   ]
  },
  {
   "cell_type": "code",
   "execution_count": 8,
   "id": "8131a452-3eaf-47cb-8f0e-dcd4e365e5f5",
   "metadata": {
    "execution": {
     "iopub.execute_input": "2023-08-06T13:09:06.963828Z",
     "iopub.status.busy": "2023-08-06T13:09:06.963026Z",
     "iopub.status.idle": "2023-08-06T13:09:07.331381Z",
     "shell.execute_reply": "2023-08-06T13:09:07.326726Z",
     "shell.execute_reply.started": "2023-08-06T13:09:06.963723Z"
    },
    "tags": []
   },
   "outputs": [
    {
     "ename": "KeyError",
     "evalue": "'treatment_group'",
     "output_type": "error",
     "traceback": [
      "\u001b[0;31m---------------------------------------------------------------------------\u001b[0m",
      "\u001b[0;31mKeyError\u001b[0m                                  Traceback (most recent call last)",
      "\u001b[0;32m/usr/local/lib64/python3.6/site-packages/pandas/core/indexes/base.py\u001b[0m in \u001b[0;36mget_loc\u001b[0;34m(self, key, method, tolerance)\u001b[0m\n\u001b[1;32m   2897\u001b[0m             \u001b[0;32mtry\u001b[0m\u001b[0;34m:\u001b[0m\u001b[0;34m\u001b[0m\u001b[0;34m\u001b[0m\u001b[0m\n\u001b[0;32m-> 2898\u001b[0;31m                 \u001b[0;32mreturn\u001b[0m \u001b[0mself\u001b[0m\u001b[0;34m.\u001b[0m\u001b[0m_engine\u001b[0m\u001b[0;34m.\u001b[0m\u001b[0mget_loc\u001b[0m\u001b[0;34m(\u001b[0m\u001b[0mcasted_key\u001b[0m\u001b[0;34m)\u001b[0m\u001b[0;34m\u001b[0m\u001b[0;34m\u001b[0m\u001b[0m\n\u001b[0m\u001b[1;32m   2899\u001b[0m             \u001b[0;32mexcept\u001b[0m \u001b[0mKeyError\u001b[0m \u001b[0;32mas\u001b[0m \u001b[0merr\u001b[0m\u001b[0;34m:\u001b[0m\u001b[0;34m\u001b[0m\u001b[0;34m\u001b[0m\u001b[0m\n",
      "\u001b[0;32mpandas/_libs/index.pyx\u001b[0m in \u001b[0;36mpandas._libs.index.IndexEngine.get_loc\u001b[0;34m()\u001b[0m\n",
      "\u001b[0;32mpandas/_libs/index.pyx\u001b[0m in \u001b[0;36mpandas._libs.index.IndexEngine.get_loc\u001b[0;34m()\u001b[0m\n",
      "\u001b[0;32mpandas/_libs/hashtable_class_helper.pxi\u001b[0m in \u001b[0;36mpandas._libs.hashtable.PyObjectHashTable.get_item\u001b[0;34m()\u001b[0m\n",
      "\u001b[0;32mpandas/_libs/hashtable_class_helper.pxi\u001b[0m in \u001b[0;36mpandas._libs.hashtable.PyObjectHashTable.get_item\u001b[0;34m()\u001b[0m\n",
      "\u001b[0;31mKeyError\u001b[0m: 'treatment_group'",
      "\nThe above exception was the direct cause of the following exception:\n",
      "\u001b[0;31mKeyError\u001b[0m                                  Traceback (most recent call last)",
      "\u001b[0;32m<ipython-input-8-293f321ac8af>\u001b[0m in \u001b[0;36m<module>\u001b[0;34m\u001b[0m\n\u001b[1;32m     37\u001b[0m \u001b[0;31m# Step 5: Feature Importance with RandomForestRegressor\u001b[0m\u001b[0;34m\u001b[0m\u001b[0;34m\u001b[0m\u001b[0;34m\u001b[0m\u001b[0m\n\u001b[1;32m     38\u001b[0m \u001b[0;31m# Create a Random Forest Regressor model for treatment group\u001b[0m\u001b[0;34m\u001b[0m\u001b[0;34m\u001b[0m\u001b[0;34m\u001b[0m\u001b[0m\n\u001b[0;32m---> 39\u001b[0;31m \u001b[0mtreatment_group\u001b[0m \u001b[0;34m=\u001b[0m \u001b[0;34m(\u001b[0m\u001b[0mX_train\u001b[0m\u001b[0;34m[\u001b[0m\u001b[0;34m'treatment_group'\u001b[0m\u001b[0;34m]\u001b[0m \u001b[0;34m==\u001b[0m \u001b[0;36m1\u001b[0m\u001b[0;34m)\u001b[0m  \u001b[0;31m# Assuming 'treatment_group' is a binary column (1 for treatment, 0 for control)\u001b[0m\u001b[0;34m\u001b[0m\u001b[0;34m\u001b[0m\u001b[0m\n\u001b[0m\u001b[1;32m     40\u001b[0m \u001b[0mtreatment_rf_regressor\u001b[0m \u001b[0;34m=\u001b[0m \u001b[0mRandomForestRegressor\u001b[0m\u001b[0;34m(\u001b[0m\u001b[0mn_estimators\u001b[0m\u001b[0;34m=\u001b[0m\u001b[0;36m100\u001b[0m\u001b[0;34m,\u001b[0m \u001b[0mrandom_state\u001b[0m\u001b[0;34m=\u001b[0m\u001b[0;36m42\u001b[0m\u001b[0;34m)\u001b[0m\u001b[0;34m\u001b[0m\u001b[0;34m\u001b[0m\u001b[0m\n\u001b[1;32m     41\u001b[0m \u001b[0mtreatment_rf_regressor\u001b[0m\u001b[0;34m.\u001b[0m\u001b[0mfit\u001b[0m\u001b[0;34m(\u001b[0m\u001b[0mX_train\u001b[0m\u001b[0;34m.\u001b[0m\u001b[0mloc\u001b[0m\u001b[0;34m[\u001b[0m\u001b[0mtreatment_group\u001b[0m\u001b[0;34m]\u001b[0m\u001b[0;34m.\u001b[0m\u001b[0mdrop\u001b[0m\u001b[0;34m(\u001b[0m\u001b[0;34m'treatment_group'\u001b[0m\u001b[0;34m,\u001b[0m \u001b[0maxis\u001b[0m\u001b[0;34m=\u001b[0m\u001b[0;36m1\u001b[0m\u001b[0;34m)\u001b[0m\u001b[0;34m,\u001b[0m \u001b[0my_train\u001b[0m\u001b[0;34m[\u001b[0m\u001b[0mtreatment_group\u001b[0m\u001b[0;34m]\u001b[0m\u001b[0;34m)\u001b[0m\u001b[0;34m\u001b[0m\u001b[0;34m\u001b[0m\u001b[0m\n",
      "\u001b[0;32m/usr/local/lib64/python3.6/site-packages/pandas/core/frame.py\u001b[0m in \u001b[0;36m__getitem__\u001b[0;34m(self, key)\u001b[0m\n\u001b[1;32m   2904\u001b[0m             \u001b[0;32mif\u001b[0m \u001b[0mself\u001b[0m\u001b[0;34m.\u001b[0m\u001b[0mcolumns\u001b[0m\u001b[0;34m.\u001b[0m\u001b[0mnlevels\u001b[0m \u001b[0;34m>\u001b[0m \u001b[0;36m1\u001b[0m\u001b[0;34m:\u001b[0m\u001b[0;34m\u001b[0m\u001b[0;34m\u001b[0m\u001b[0m\n\u001b[1;32m   2905\u001b[0m                 \u001b[0;32mreturn\u001b[0m \u001b[0mself\u001b[0m\u001b[0;34m.\u001b[0m\u001b[0m_getitem_multilevel\u001b[0m\u001b[0;34m(\u001b[0m\u001b[0mkey\u001b[0m\u001b[0;34m)\u001b[0m\u001b[0;34m\u001b[0m\u001b[0;34m\u001b[0m\u001b[0m\n\u001b[0;32m-> 2906\u001b[0;31m             \u001b[0mindexer\u001b[0m \u001b[0;34m=\u001b[0m \u001b[0mself\u001b[0m\u001b[0;34m.\u001b[0m\u001b[0mcolumns\u001b[0m\u001b[0;34m.\u001b[0m\u001b[0mget_loc\u001b[0m\u001b[0;34m(\u001b[0m\u001b[0mkey\u001b[0m\u001b[0;34m)\u001b[0m\u001b[0;34m\u001b[0m\u001b[0;34m\u001b[0m\u001b[0m\n\u001b[0m\u001b[1;32m   2907\u001b[0m             \u001b[0;32mif\u001b[0m \u001b[0mis_integer\u001b[0m\u001b[0;34m(\u001b[0m\u001b[0mindexer\u001b[0m\u001b[0;34m)\u001b[0m\u001b[0;34m:\u001b[0m\u001b[0;34m\u001b[0m\u001b[0;34m\u001b[0m\u001b[0m\n\u001b[1;32m   2908\u001b[0m                 \u001b[0mindexer\u001b[0m \u001b[0;34m=\u001b[0m \u001b[0;34m[\u001b[0m\u001b[0mindexer\u001b[0m\u001b[0;34m]\u001b[0m\u001b[0;34m\u001b[0m\u001b[0;34m\u001b[0m\u001b[0m\n",
      "\u001b[0;32m/usr/local/lib64/python3.6/site-packages/pandas/core/indexes/base.py\u001b[0m in \u001b[0;36mget_loc\u001b[0;34m(self, key, method, tolerance)\u001b[0m\n\u001b[1;32m   2898\u001b[0m                 \u001b[0;32mreturn\u001b[0m \u001b[0mself\u001b[0m\u001b[0;34m.\u001b[0m\u001b[0m_engine\u001b[0m\u001b[0;34m.\u001b[0m\u001b[0mget_loc\u001b[0m\u001b[0;34m(\u001b[0m\u001b[0mcasted_key\u001b[0m\u001b[0;34m)\u001b[0m\u001b[0;34m\u001b[0m\u001b[0;34m\u001b[0m\u001b[0m\n\u001b[1;32m   2899\u001b[0m             \u001b[0;32mexcept\u001b[0m \u001b[0mKeyError\u001b[0m \u001b[0;32mas\u001b[0m \u001b[0merr\u001b[0m\u001b[0;34m:\u001b[0m\u001b[0;34m\u001b[0m\u001b[0;34m\u001b[0m\u001b[0m\n\u001b[0;32m-> 2900\u001b[0;31m                 \u001b[0;32mraise\u001b[0m \u001b[0mKeyError\u001b[0m\u001b[0;34m(\u001b[0m\u001b[0mkey\u001b[0m\u001b[0;34m)\u001b[0m \u001b[0;32mfrom\u001b[0m \u001b[0merr\u001b[0m\u001b[0;34m\u001b[0m\u001b[0;34m\u001b[0m\u001b[0m\n\u001b[0m\u001b[1;32m   2901\u001b[0m \u001b[0;34m\u001b[0m\u001b[0m\n\u001b[1;32m   2902\u001b[0m         \u001b[0;32mif\u001b[0m \u001b[0mtolerance\u001b[0m \u001b[0;32mis\u001b[0m \u001b[0;32mnot\u001b[0m \u001b[0;32mNone\u001b[0m\u001b[0;34m:\u001b[0m\u001b[0;34m\u001b[0m\u001b[0;34m\u001b[0m\u001b[0m\n",
      "\u001b[0;31mKeyError\u001b[0m: 'treatment_group'"
     ]
    }
   ],
   "source": [
    "import pandas as pd\n",
    "from sklearn.model_selection import train_test_split\n",
    "from sklearn.ensemble import RandomForestRegressor\n",
    "from sklearn.preprocessing import OneHotEncoder\n",
    "from sklearn.compose import ColumnTransformer\n",
    "import matplotlib.pyplot as plt\n",
    "\n",
    "# Step 1: Data Preparation\n",
    "# Load your data into a pandas DataFrame\n",
    "data = pd.read_csv('raw_data.csv')\n",
    "# data=pd.read_csv('raw_data.csv')\n",
    "data['day'] = pd.to_datetime(data['day'])\n",
    "# data.sort_values(by=['day'],inplace=True)\n",
    "# Step 2: Feature Engineering\n",
    "# Identify relevant features and the target metric\n",
    "categorical_features = ['campaigne','user_engagement','banner','placement','month','week']\n",
    "# numerical_features = ['displays','cost','clicks']\n",
    "target_metric = 'revenue'\n",
    "\n",
    "# Separate features and target\n",
    "X = data.drop(target_metric, axis=1)\n",
    "y = data[target_metric]\n",
    "\n",
    "# Step 3: Data Preprocessing\n",
    "# Create a preprocessor to handle categorical features\n",
    "categorical_transformer = OneHotEncoder(handle_unknown='ignore')\n",
    "\n",
    "preprocessor = ColumnTransformer(\n",
    "    transformers=[\n",
    "        ('cat', categorical_transformer, categorical_features),\n",
    "    ])\n",
    "\n",
    "# Step 4: Train-Test Split\n",
    "# Split data into training and testing sets\n",
    "X_train, X_test, y_train, y_test = train_test_split(X, y, test_size=0.2, random_state=42)\n",
    "\n",
    "# Step 5: Feature Importance with RandomForestRegressor\n",
    "# Create a Random Forest Regressor model for treatment group\n",
    "treatment_group = (X_train['treatment_group'] == 1)  # Assuming 'treatment_group' is a binary column (1 for treatment, 0 for control)\n",
    "treatment_rf_regressor = RandomForestRegressor(n_estimators=100, random_state=42)\n",
    "treatment_rf_regressor.fit(X_train.loc[treatment_group].drop('treatment_group', axis=1), y_train[treatment_group])\n",
    "\n",
    "# Create a Random Forest Regressor model for control group\n",
    "control_group = ~treatment_group\n",
    "control_rf_regressor = RandomForestRegressor(n_estimators=100, random_state=42)\n",
    "control_rf_regressor.fit(X_train.loc[control_group].drop('treatment_group', axis=1), y_train[control_group])\n",
    "\n",
    "# Extract feature importances\n",
    "feature_importances = treatment_rf_regressor.feature_importances_\n",
    "important_features_indices = feature_importances.argsort()[::-1]\n",
    "important_features_names = X.columns[important_features_indices]\n",
    "\n",
    "# Plot the feature importances\n",
    "plt.bar(range(len(important_features_names)), feature_importances[important_features_indices])\n",
    "plt.xticks(range(len(important_features_names)), important_features_names, rotation='vertical')\n",
    "plt.xlabel('Feature')\n",
    "plt.ylabel('Importance')\n",
    "plt.title('Feature Importances')\n",
    "plt.show()\n",
    "\n",
    "# Step 6: Calculate Uplift using Two Models approach\n",
    "# Predict uplift on the test set\n",
    "treatment_uplift = treatment_rf_regressor.predict(X_test.drop('treatment_group', axis=1)) - y_test\n",
    "control_uplift = control_rf_regressor.predict(X_test.drop('treatment_group', axis=1)) - y_test\n",
    "\n",
    "# Calculate the uplift as the difference between treatment uplift and control uplift\n",
    "uplift_scores = treatment_uplift - control_uplift\n",
    "\n",
    "# Step 7: Evaluation (Optional - Requires real-world intervention data)\n",
    "# Implement the interventions and measure actual uplift achieved.\n",
    "\n",
    "# Additional Steps (Optional):\n",
    "# - Perform cross-validation and parameter tuning to optimize model performance.\n",
    "# - Explore other uplift modeling techniques like S-learner, T-learner, X-learner, etc.\n",
    "# - Visualize the predicted uplift distribution to understand the potential uplift variations.\n",
    "\n"
   ]
  },
  {
   "cell_type": "code",
   "execution_count": 11,
   "id": "9669e997-a4ba-4719-bf83-fee735db25b3",
   "metadata": {
    "execution": {
     "iopub.execute_input": "2023-08-06T13:10:19.410549Z",
     "iopub.status.busy": "2023-08-06T13:10:19.409721Z",
     "iopub.status.idle": "2023-08-06T13:11:27.302004Z",
     "shell.execute_reply": "2023-08-06T13:11:27.300111Z",
     "shell.execute_reply.started": "2023-08-06T13:10:19.410440Z"
    },
    "tags": []
   },
   "outputs": [
    {
     "ename": "IndexError",
     "evalue": "index 115 is out of bounds for axis 0 with size 11",
     "output_type": "error",
     "traceback": [
      "\u001b[0;31m---------------------------------------------------------------------------\u001b[0m",
      "\u001b[0;31mIndexError\u001b[0m                                Traceback (most recent call last)",
      "\u001b[0;32m<ipython-input-11-c5618c6c05f9>\u001b[0m in \u001b[0;36m<module>\u001b[0;34m\u001b[0m\n\u001b[1;32m     51\u001b[0m \u001b[0mfeature_importances\u001b[0m \u001b[0;34m=\u001b[0m \u001b[0mrf_regressor\u001b[0m\u001b[0;34m.\u001b[0m\u001b[0mfeature_importances_\u001b[0m\u001b[0;34m\u001b[0m\u001b[0;34m\u001b[0m\u001b[0m\n\u001b[1;32m     52\u001b[0m \u001b[0mimportant_features_indices\u001b[0m \u001b[0;34m=\u001b[0m \u001b[0mfeature_importances\u001b[0m\u001b[0;34m.\u001b[0m\u001b[0margsort\u001b[0m\u001b[0;34m(\u001b[0m\u001b[0;34m)\u001b[0m\u001b[0;34m[\u001b[0m\u001b[0;34m:\u001b[0m\u001b[0;34m:\u001b[0m\u001b[0;34m-\u001b[0m\u001b[0;36m1\u001b[0m\u001b[0;34m]\u001b[0m\u001b[0;34m\u001b[0m\u001b[0;34m\u001b[0m\u001b[0m\n\u001b[0;32m---> 53\u001b[0;31m \u001b[0mimportant_features_names\u001b[0m \u001b[0;34m=\u001b[0m \u001b[0mX\u001b[0m\u001b[0;34m.\u001b[0m\u001b[0mcolumns\u001b[0m\u001b[0;34m[\u001b[0m\u001b[0mimportant_features_indices\u001b[0m\u001b[0;34m]\u001b[0m\u001b[0;34m\u001b[0m\u001b[0;34m\u001b[0m\u001b[0m\n\u001b[0m\u001b[1;32m     54\u001b[0m \u001b[0;34m\u001b[0m\u001b[0m\n\u001b[1;32m     55\u001b[0m \u001b[0;31m# Plot the feature importances\u001b[0m\u001b[0;34m\u001b[0m\u001b[0;34m\u001b[0m\u001b[0;34m\u001b[0m\u001b[0m\n",
      "\u001b[0;32m/usr/local/lib64/python3.6/site-packages/pandas/core/indexes/base.py\u001b[0m in \u001b[0;36m__getitem__\u001b[0;34m(self, key)\u001b[0m\n\u001b[1;32m   4112\u001b[0m             \u001b[0mkey\u001b[0m \u001b[0;34m=\u001b[0m \u001b[0mnp\u001b[0m\u001b[0;34m.\u001b[0m\u001b[0masarray\u001b[0m\u001b[0;34m(\u001b[0m\u001b[0mkey\u001b[0m\u001b[0;34m,\u001b[0m \u001b[0mdtype\u001b[0m\u001b[0;34m=\u001b[0m\u001b[0mbool\u001b[0m\u001b[0;34m)\u001b[0m\u001b[0;34m\u001b[0m\u001b[0;34m\u001b[0m\u001b[0m\n\u001b[1;32m   4113\u001b[0m \u001b[0;34m\u001b[0m\u001b[0m\n\u001b[0;32m-> 4114\u001b[0;31m         \u001b[0mresult\u001b[0m \u001b[0;34m=\u001b[0m \u001b[0mgetitem\u001b[0m\u001b[0;34m(\u001b[0m\u001b[0mkey\u001b[0m\u001b[0;34m)\u001b[0m\u001b[0;34m\u001b[0m\u001b[0;34m\u001b[0m\u001b[0m\n\u001b[0m\u001b[1;32m   4115\u001b[0m         \u001b[0;32mif\u001b[0m \u001b[0;32mnot\u001b[0m \u001b[0mis_scalar\u001b[0m\u001b[0;34m(\u001b[0m\u001b[0mresult\u001b[0m\u001b[0;34m)\u001b[0m\u001b[0;34m:\u001b[0m\u001b[0;34m\u001b[0m\u001b[0;34m\u001b[0m\u001b[0m\n\u001b[1;32m   4116\u001b[0m             \u001b[0;32mif\u001b[0m \u001b[0mnp\u001b[0m\u001b[0;34m.\u001b[0m\u001b[0mndim\u001b[0m\u001b[0;34m(\u001b[0m\u001b[0mresult\u001b[0m\u001b[0;34m)\u001b[0m \u001b[0;34m>\u001b[0m \u001b[0;36m1\u001b[0m\u001b[0;34m:\u001b[0m\u001b[0;34m\u001b[0m\u001b[0;34m\u001b[0m\u001b[0m\n",
      "\u001b[0;31mIndexError\u001b[0m: index 115 is out of bounds for axis 0 with size 11"
     ]
    }
   ],
   "source": [
    "import pandas as pd\n",
    "from sklearn.model_selection import train_test_split\n",
    "from sklearn.ensemble import RandomForestRegressor\n",
    "from sklearn.preprocessing import OneHotEncoder\n",
    "from sklearn.compose import ColumnTransformer\n",
    "import matplotlib.pyplot as plt\n",
    "\n",
    "# Step 1: Data Preparation\n",
    "# Load your data into a pandas DataFrame\n",
    "data = pd.read_csv('raw_data.csv')\n",
    "# data=pd.read_csv('raw_data.csv')\n",
    "# data['day'] = pd.to_datetime(data['day'])\n",
    "# data.sort_values(by=['day'],inplace=True)\n",
    "# Step 2: Feature Engineering\n",
    "# Identify relevant features and the target metric\n",
    "categorical_features = ['day','campaign_name','user_engagement','banner','placement']\n",
    "numerical_features = ['displays','cost','clicks','CPC','post_click_conversions']\n",
    "target_metric = 'revenue'\n",
    "data.dtypes\n",
    "\n",
    "# Separate features and target\n",
    "X = data.drop(target_metric, axis=1)\n",
    "y = data[target_metric]\n",
    "\n",
    "# Step 3: Data Preprocessing\n",
    "# Create a preprocessor to handle categorical and numerical features\n",
    "categorical_transformer = OneHotEncoder(handle_unknown='ignore')\n",
    "\n",
    "preprocessor = ColumnTransformer(\n",
    "    transformers=[\n",
    "        ('cat', categorical_transformer, categorical_features),\n",
    "        ('num', 'passthrough', numerical_features)\n",
    "    ])\n",
    "\n",
    "# Step 4: Train-Test Split\n",
    "# Split data into training and testing sets\n",
    "X_train, X_test, y_train, y_test = train_test_split(X, y, test_size=0.2, random_state=42)\n",
    "\n",
    "# Step 5: Feature Importance with RandomForestRegressor\n",
    "# Create a Random Forest Regressor model\n",
    "rf_regressor = RandomForestRegressor(n_estimators=100, random_state=42)\n",
    "\n",
    "# Preprocess and transform the data\n",
    "X_train_transformed = preprocessor.fit_transform(X_train)\n",
    "X_test_transformed = preprocessor.transform(X_test)\n",
    "\n",
    "# Train the model on the training data\n",
    "rf_regressor.fit(X_train_transformed, y_train)\n",
    "\n",
    "# Extract feature importances\n",
    "feature_importances = rf_regressor.feature_importances_\n",
    "important_features_indices = feature_importances.argsort()[::-1]\n",
    "important_features_names = X.columns[important_features_indices]\n",
    "\n",
    "# Plot the feature importances\n",
    "plt.bar(range(len(important_features_names)), feature_importances[important_features_indices])\n",
    "plt.xticks(range(len(important_features_names)), important_features_names, rotation='vertical')\n",
    "plt.xlabel('Feature')\n",
    "plt.ylabel('Importance')\n",
    "plt.title('Feature Importances')\n",
    "plt.show()\n",
    "\n",
    "# Step 6: Interpretation\n",
    "# Analyze the feature importances to understand which features are most important in predicting the target metric.\n",
    "\n",
    "# Additional Steps (Optional):\n",
    "# - Perform cross-validation and parameter tuning to optimize model performance.\n",
    "# - Explore other feature selection techniques like Recursive Feature Elimination (RFE) or L1 regularization.\n",
    "# - Consider other modeling techniques to understand the relationships between features and the target metric.\n"
   ]
  },
  {
   "cell_type": "code",
   "execution_count": 19,
   "id": "ce57244e-51dd-47cc-9f80-c8adc5ccd9e6",
   "metadata": {
    "execution": {
     "iopub.execute_input": "2023-08-06T13:18:03.109215Z",
     "iopub.status.busy": "2023-08-06T13:18:03.108469Z",
     "iopub.status.idle": "2023-08-06T13:18:03.332868Z",
     "shell.execute_reply": "2023-08-06T13:18:03.329866Z",
     "shell.execute_reply.started": "2023-08-06T13:18:03.109111Z"
    },
    "tags": []
   },
   "outputs": [],
   "source": [
    "import pandas as pd\n",
    "from sklearn.model_selection import train_test_split\n",
    "from sklearn.ensemble import RandomForestRegressor\n",
    "from sklearn.preprocessing import OneHotEncoder\n",
    "from sklearn.compose import ColumnTransformer\n",
    "import matplotlib.pyplot as plt\n",
    "\n",
    "# Step 1: Data Preparation\n",
    "# Load your data into a pandas DataFrame\n",
    "data = pd.read_csv('raw_data.csv')\n",
    "\n",
    "# Step 2: Feature Engineering\n",
    "# Identify relevant features and the target metric\n",
    "categorical_features = ['campaign_name','user_engagement','banner','placement']\n",
    "numerical_features = ['displays','cost','clicks','CPC','post_click_conversions']\n",
    "target_metric = 'revenue'\n",
    "data.dtypes\n",
    "\n",
    "# Separate features and target\n",
    "X = data.drop(target_metric, axis=1)\n",
    "y = data[target_metric]\n",
    "\n",
    "# Step 3: Data Preprocessing\n",
    "# Create a preprocessor to handle categorical and numerical features\n",
    "categorical_transformer = OneHotEncoder(handle_unknown='ignore')\n",
    "\n",
    "preprocessor = ColumnTransformer(\n",
    "    transformers=[\n",
    "        ('cat', categorical_transformer, categorical_features),\n",
    "        ('num', 'passthrough', numerical_features)\n",
    "    ])\n",
    "\n",
    "# Step 4: Train-Test Split\n",
    "# Split data into training and testing sets\n",
    "X_train, X_test, y_train, y_test = train_test_split(X, y, test_size=0.2, random_state=42)\n",
    "\n",
    "# Step 5: Feature Importance with RandomForestRegressor\n",
    "# Create a Random Forest Regressor model\n",
    "rf_regressor = RandomForestRegressor(n_estimators=100, random_state=42)\n",
    "\n",
    "# Preprocess and transform the data\n",
    "X_train_transformed = preprocessor.fit_transform(X_train)\n",
    "X_test_transformed = preprocessor.transform(X_test)"
   ]
  },
  {
   "cell_type": "code",
   "execution_count": 20,
   "id": "9a9dc98d-1cde-44c8-8feb-98ea3f2edfd6",
   "metadata": {
    "execution": {
     "iopub.execute_input": "2023-08-06T13:18:04.093644Z",
     "iopub.status.busy": "2023-08-06T13:18:04.092774Z",
     "iopub.status.idle": "2023-08-06T13:18:14.581833Z",
     "shell.execute_reply": "2023-08-06T13:18:14.579627Z",
     "shell.execute_reply.started": "2023-08-06T13:18:04.093535Z"
    },
    "tags": []
   },
   "outputs": [
    {
     "data": {
      "image/png": "[encoded data removed]",
      "text/plain": [
       "<Figure size 432x288 with 1 Axes>"
      ]
     },
     "metadata": {
      "needs_background": "light"
     },
     "output_type": "display_data"
    }
   ],
   "source": [
    "# Train the model on the training data\n",
    "rf_regressor.fit(X_train_transformed, y_train)\n",
    "\n",
    "# Extract feature importances\n",
    "feature_importances = rf_regressor.feature_importances_\n",
    "\n",
    "# Create a list of feature names after one-hot encoding\n",
    "categorical_encoder = preprocessor.named_transformers_['cat']\n",
    "categorical_feature_names = categorical_encoder.get_feature_names(input_features=categorical_features)\n",
    "all_feature_names = list(categorical_feature_names) + numerical_features\n",
    "\n",
    "# Sort feature importances based on their values\n",
    "important_features_indices = feature_importances.argsort()[::-1]\n",
    "important_features_names = [all_feature_names[idx] for idx in important_features_indices]\n",
    "\n",
    "# Plot the feature importances\n",
    "plt.bar(range(len(important_features_names)), feature_importances[important_features_indices])\n",
    "plt.xticks(range(len(important_features_names)), important_features_names, rotation='vertical')\n",
    "plt.xlabel('Feature')\n",
    "plt.ylabel('Importance')\n",
    "plt.title('Feature Importances')\n",
    "plt.show()\n",
    "\n",
    "# Step 6: Interpretation\n",
    "# Analyze the feature importances to understand which features are most important in predicting the target metric.\n",
    "\n",
    "# Additional Steps (Optional):\n",
    "# - Perform cross-validation and parameter tuning to optimize model performance.\n",
    "# - Explore other feature selection techniques like Recursive Feature Elimination (RFE) or L1 regularization.\n",
    "# - Consider other modeling techniques to understand the relationships between features and the target metric."
   ]
  },
  {
   "cell_type": "code",
   "execution_count": 14,
   "id": "b50aaec8-9e7e-4d8a-9e9f-8e882d31e5ea",
   "metadata": {
    "execution": {
     "iopub.execute_input": "2023-08-06T13:14:43.665367Z",
     "iopub.status.busy": "2023-08-06T13:14:43.664556Z",
     "iopub.status.idle": "2023-08-06T13:14:43.701196Z",
     "shell.execute_reply": "2023-08-06T13:14:43.682190Z",
     "shell.execute_reply.started": "2023-08-06T13:14:43.665210Z"
    }
   },
   "outputs": [],
   "source": [
    "# Assume 'important_features_names' contains the list of important feature names from the feature importance analysis.\n",
    "\n",
    "# Calculate impact for each categorical feature\n",
    "for feature_name in important_features_names:\n",
    "    if feature_name in categorical_features:\n",
    "        impact_df = data.groupby(feature_name)[target_metric].mean().reset_index()\n",
    "        print(f\"Impact of '{feature_name}' on '{target_metric}':\")\n",
    "        print(impact_df)\n",
    "        print(\"\\n\")\n"
   ]
  },
  {
   "cell_type": "code",
   "execution_count": 1,
   "id": "22211a40-74fe-4944-8e77-a0b56aa6ea28",
   "metadata": {
    "execution": {
     "iopub.execute_input": "2023-08-06T21:16:10.920769Z",
     "iopub.status.busy": "2023-08-06T21:16:10.919887Z",
     "iopub.status.idle": "2023-08-06T21:16:11.345770Z",
     "shell.execute_reply": "2023-08-06T21:16:11.340566Z",
     "shell.execute_reply.started": "2023-08-06T21:16:10.920590Z"
    },
    "tags": []
   },
   "outputs": [
    {
     "ename": "NameError",
     "evalue": "name 'important_features_names' is not defined",
     "output_type": "error",
     "traceback": [
      "\u001b[0;31m---------------------------------------------------------------------------\u001b[0m",
      "\u001b[0;31mNameError\u001b[0m                                 Traceback (most recent call last)",
      "\u001b[0;32m<ipython-input-1-024e8ba65b5b>\u001b[0m in \u001b[0;36m<module>\u001b[0;34m\u001b[0m\n\u001b[1;32m      2\u001b[0m \u001b[0;34m\u001b[0m\u001b[0m\n\u001b[1;32m      3\u001b[0m \u001b[0;31m# Calculate impact for each categorical feature\u001b[0m\u001b[0;34m\u001b[0m\u001b[0;34m\u001b[0m\u001b[0;34m\u001b[0m\u001b[0m\n\u001b[0;32m----> 4\u001b[0;31m \u001b[0;32mfor\u001b[0m \u001b[0mfeature_name\u001b[0m \u001b[0;32min\u001b[0m \u001b[0mimportant_features_names\u001b[0m\u001b[0;34m:\u001b[0m\u001b[0;34m\u001b[0m\u001b[0;34m\u001b[0m\u001b[0m\n\u001b[0m\u001b[1;32m      5\u001b[0m     \u001b[0;32mif\u001b[0m \u001b[0mfeature_name\u001b[0m \u001b[0;32min\u001b[0m \u001b[0mcategorical_feature_names\u001b[0m\u001b[0;34m:\u001b[0m\u001b[0;34m\u001b[0m\u001b[0;34m\u001b[0m\u001b[0m\n\u001b[1;32m      6\u001b[0m         \u001b[0mimpact_df\u001b[0m \u001b[0;34m=\u001b[0m \u001b[0mdata\u001b[0m\u001b[0;34m.\u001b[0m\u001b[0mgroupby\u001b[0m\u001b[0;34m(\u001b[0m\u001b[0mfeature_name\u001b[0m\u001b[0;34m)\u001b[0m\u001b[0;34m[\u001b[0m\u001b[0mtarget_metric\u001b[0m\u001b[0;34m]\u001b[0m\u001b[0;34m.\u001b[0m\u001b[0mmean\u001b[0m\u001b[0;34m(\u001b[0m\u001b[0;34m)\u001b[0m\u001b[0;34m.\u001b[0m\u001b[0mreset_index\u001b[0m\u001b[0;34m(\u001b[0m\u001b[0;34m)\u001b[0m\u001b[0;34m\u001b[0m\u001b[0;34m\u001b[0m\u001b[0m\n",
      "\u001b[0;31mNameError\u001b[0m: name 'important_features_names' is not defined"
     ]
    }
   ],
   "source": [
    "# Assume 'important_features_names' contains the list of top 5 important feature names from the feature importance analysis.\n",
    "\n",
    "# Calculate impact for each categorical feature\n",
    "for feature_name in important_features_names:\n",
    "    if feature_name in categorical_feature_names:\n",
    "        impact_df = data.groupby(feature_name)[target_metric].mean().reset_index()\n",
    "        print(f\"Impact of '{feature_name}' on '{target_metric}':\")\n",
    "        print(impact_df)\n",
    "        print(\"\\n\")\n"
   ]
  },
  {
   "cell_type": "code",
   "execution_count": 2,
   "id": "b2dc21ba-cdca-4c37-b14f-657cafb7114c",
   "metadata": {
    "execution": {
     "iopub.execute_input": "2023-08-06T21:17:26.564295Z",
     "iopub.status.busy": "2023-08-06T21:17:26.563570Z",
     "iopub.status.idle": "2023-08-06T21:17:26.597511Z",
     "shell.execute_reply": "2023-08-06T21:17:26.593120Z",
     "shell.execute_reply.started": "2023-08-06T21:17:26.564190Z"
    }
   },
   "outputs": [
    {
     "ename": "NameError",
     "evalue": "name 'important_features_names' is not defined",
     "output_type": "error",
     "traceback": [
      "\u001b[0;31m---------------------------------------------------------------------------\u001b[0m",
      "\u001b[0;31mNameError\u001b[0m                                 Traceback (most recent call last)",
      "\u001b[0;32m<ipython-input-2-181ba33ce4dc>\u001b[0m in \u001b[0;36m<module>\u001b[0;34m\u001b[0m\n\u001b[1;32m      2\u001b[0m \u001b[0;34m\u001b[0m\u001b[0m\n\u001b[1;32m      3\u001b[0m \u001b[0;31m# Calculate impact for each numerical feature\u001b[0m\u001b[0;34m\u001b[0m\u001b[0;34m\u001b[0m\u001b[0;34m\u001b[0m\u001b[0m\n\u001b[0;32m----> 4\u001b[0;31m \u001b[0;32mfor\u001b[0m \u001b[0mfeature_name\u001b[0m \u001b[0;32min\u001b[0m \u001b[0mimportant_features_names\u001b[0m\u001b[0;34m:\u001b[0m\u001b[0;34m\u001b[0m\u001b[0;34m\u001b[0m\u001b[0m\n\u001b[0m\u001b[1;32m      5\u001b[0m     \u001b[0;32mif\u001b[0m \u001b[0mfeature_name\u001b[0m \u001b[0;32min\u001b[0m \u001b[0mnumerical_features\u001b[0m\u001b[0;34m:\u001b[0m\u001b[0;34m\u001b[0m\u001b[0;34m\u001b[0m\u001b[0m\n\u001b[1;32m      6\u001b[0m         \u001b[0mcorrelation\u001b[0m \u001b[0;34m=\u001b[0m \u001b[0mdata\u001b[0m\u001b[0;34m[\u001b[0m\u001b[0mfeature_name\u001b[0m\u001b[0;34m]\u001b[0m\u001b[0;34m.\u001b[0m\u001b[0mcorr\u001b[0m\u001b[0;34m(\u001b[0m\u001b[0mdata\u001b[0m\u001b[0;34m[\u001b[0m\u001b[0mtarget_metric\u001b[0m\u001b[0;34m]\u001b[0m\u001b[0;34m)\u001b[0m\u001b[0;34m\u001b[0m\u001b[0;34m\u001b[0m\u001b[0m\n",
      "\u001b[0;31mNameError\u001b[0m: name 'important_features_names' is not defined"
     ]
    }
   ],
   "source": [
    "# Assume 'important_features_names' contains the list of top 5 important feature names from the feature importance analysis.\n",
    "\n",
    "# Calculate impact for each numerical feature\n",
    "for feature_name in important_features_names:\n",
    "    if feature_name in numerical_features:\n",
    "        correlation = data[feature_name].corr(data[target_metric])\n",
    "        print(f\"Correlation between '{feature_name}' and '{target_metric}': {correlation}\")\n"
   ]
  },
  {
   "cell_type": "code",
   "execution_count": 34,
   "id": "61b3b279-4c74-42e2-b18c-8800d63ff7b5",
   "metadata": {
    "execution": {
     "iopub.execute_input": "2023-08-06T21:57:02.798127Z",
     "iopub.status.busy": "2023-08-06T21:57:02.797402Z",
     "iopub.status.idle": "2023-08-06T21:57:17.751204Z",
     "shell.execute_reply": "2023-08-06T21:57:17.749488Z",
     "shell.execute_reply.started": "2023-08-06T21:57:02.798021Z"
    },
    "tags": []
   },
   "outputs": [
    {
     "data": {
      "text/plain": [
       "Index(['post_click_conversions', 'post_click_sales_amount', 'cost', 'clicks',\n",
       "       'displays', 'CPC', 'month_June', 'week_Thursday',\n",
       "       'campaigne_Campaign 1', 'month_April', 'week_Friday', 'month_May',\n",
       "       'banner_728 x 90', 'campaigne_Campaign 2', 'banner_240 x 400',\n",
       "       'placement_ghi', 'banner_300 x 250', 'placement_mno', 'week_Wednesday',\n",
       "       'week_Tuesday'],\n",
       "      dtype='object')"
      ]
     },
     "execution_count": 34,
     "metadata": {},
     "output_type": "execute_result"
    }
   ],
   "source": [
    "import pandas as pd\n",
    "import numpy as np\n",
    "from sklearn.model_selection import train_test_split\n",
    "from sklearn.ensemble import RandomForestRegressor\n",
    "from sklearn.metrics import mean_squared_error\n",
    "\n",
    "# Load your historical dataset (replace 'historical_data.csv' with the path to your dataset)\n",
    "data = pd.read_csv('feature_1.csv')\n",
    "\n",
    "# Separate the target variable and features\n",
    "X = data.drop('revenue', axis=1)  # Replace 'target' with the name of your target column\n",
    "y = data['revenue']\n",
    "\n",
    "# Convert categorical variables to one-hot encoded representation\n",
    "X_encoded = pd.get_dummies(X)\n",
    "\n",
    "# Step 1: Create a RandomForestRegressor and fit the model\n",
    "model = RandomForestRegressor(n_estimators=100, random_state=42)\n",
    "model.fit(X_encoded, y)\n",
    "\n",
    "# Step 2: Get feature importances\n",
    "feature_importances = model.feature_importances_\n",
    "\n",
    "# Step 3: Identify the top 5 important features\n",
    "top_5_features = X_encoded.columns[np.argsort(feature_importances)[::-1]][:20]\n",
    "top_5_features\n",
    "# Step 4: Train a new model using only the top 5 important features\n",
    "# X_train, X_test, y_train, y_test = train_test_split(X_encoded, y, test_size=0.2, random_state=42)\n",
    "# model_important_features = RandomForestRegressor(n_estimators=100, random_state=42)\n",
    "# model_important_features.fit(X_train[top_5_features], y_train)\n",
    "\n",
    "# # Step 5: Make predictions on the target variable using both models\n",
    "# y_pred_all_features = model.predict(X_test)\n",
    "# y_pred_important_features = model_important_features.predict(X_test[top_5_features])\n",
    "\n",
    "# # Step 6: Calculate uplift\n",
    "# uplift = y_pred_important_features - y_pred_all_features\n",
    "\n",
    "# Step 7: Analyze uplift and explore ways to improve it\n",
    "# You can use statistical analysis and visualization to understand the uplift and identify potential improvements.\n"
   ]
  },
  {
   "cell_type": "code",
   "execution_count": 31,
   "id": "5dafc77e-5abf-4e55-b0eb-9770538c6d78",
   "metadata": {
    "execution": {
     "iopub.execute_input": "2023-08-06T21:56:20.339982Z",
     "iopub.status.busy": "2023-08-06T21:56:20.339626Z",
     "iopub.status.idle": "2023-08-06T21:56:20.351987Z",
     "shell.execute_reply": "2023-08-06T21:56:20.350291Z",
     "shell.execute_reply.started": "2023-08-06T21:56:20.339927Z"
    },
    "tags": []
   },
   "outputs": [
    {
     "data": {
      "text/plain": [
       "array([0.141908, 0.      , 0.123352, ..., 0.      , 0.021702, 0.71853 ])"
      ]
     },
     "execution_count": 31,
     "metadata": {},
     "output_type": "execute_result"
    }
   ],
   "source": [
    "uplift"
   ]
  },
  {
   "cell_type": "code",
   "execution_count": 32,
   "id": "2b13b2c9-8932-4329-af8e-af3847b113a5",
   "metadata": {
    "execution": {
     "iopub.execute_input": "2023-08-06T21:56:20.356626Z",
     "iopub.status.busy": "2023-08-06T21:56:20.356261Z",
     "iopub.status.idle": "2023-08-06T21:56:20.395243Z",
     "shell.execute_reply": "2023-08-06T21:56:20.393651Z",
     "shell.execute_reply.started": "2023-08-06T21:56:20.356568Z"
    },
    "tags": []
   },
   "outputs": [
    {
     "data": {
      "text/plain": [
       "Index(['post_click_conversions', 'post_click_sales_amount', 'cost', 'clicks',\n",
       "       'displays'],\n",
       "      dtype='object')"
      ]
     },
     "execution_count": 32,
     "metadata": {},
     "output_type": "execute_result"
    }
   ],
   "source": [
    "top_5_features"
   ]
  },
  {
   "cell_type": "code",
   "execution_count": 33,
   "id": "d7faeb2a-75dd-4747-b933-85dc795de4f8",
   "metadata": {
    "execution": {
     "iopub.execute_input": "2023-08-06T21:56:20.397876Z",
     "iopub.status.busy": "2023-08-06T21:56:20.397539Z",
     "iopub.status.idle": "2023-08-06T21:56:20.912441Z",
     "shell.execute_reply": "2023-08-06T21:56:20.909502Z",
     "shell.execute_reply.started": "2023-08-06T21:56:20.397822Z"
    },
    "tags": []
   },
   "outputs": [
    {
     "name": "stdout",
     "output_type": "stream",
     "text": [
      "Mean Uplift: -0.28712174610028496\n",
      "Median Uplift: 0.0\n",
      "Standard Deviation of Uplift: 6.57279453175061\n"
     ]
    },
    {
     "data": {
      "image/png": "[encoded data removed]",
      "text/plain": [
       "<Figure size 432x288 with 1 Axes>"
      ]
     },
     "metadata": {
      "needs_background": "light"
     },
     "output_type": "display_data"
    },
    {
     "ename": "IndexError",
     "evalue": "boolean index did not match indexed array along dimension 0; dimension is 3057 but corresponding boolean dimension is 15282",
     "output_type": "error",
     "traceback": [
      "\u001b[0;31m---------------------------------------------------------------------------\u001b[0m",
      "\u001b[0;31mIndexError\u001b[0m                                Traceback (most recent call last)",
      "\u001b[0;32m<ipython-input-33-375a3d38bcf1>\u001b[0m in \u001b[0;36m<module>\u001b[0;34m\u001b[0m\n\u001b[1;32m     27\u001b[0m \u001b[0;34m\u001b[0m\u001b[0m\n\u001b[1;32m     28\u001b[0m \u001b[0;32mfor\u001b[0m \u001b[0mgroup\u001b[0m \u001b[0;32min\u001b[0m \u001b[0munique_groups\u001b[0m\u001b[0;34m:\u001b[0m\u001b[0;34m\u001b[0m\u001b[0;34m\u001b[0m\u001b[0m\n\u001b[0;32m---> 29\u001b[0;31m     \u001b[0mgroup_uplift\u001b[0m \u001b[0;34m=\u001b[0m \u001b[0muplift\u001b[0m\u001b[0;34m[\u001b[0m\u001b[0mgroup_data\u001b[0m \u001b[0;34m==\u001b[0m \u001b[0mgroup\u001b[0m\u001b[0;34m]\u001b[0m\u001b[0;34m\u001b[0m\u001b[0;34m\u001b[0m\u001b[0m\n\u001b[0m\u001b[1;32m     30\u001b[0m     \u001b[0mgroup_mean_uplift\u001b[0m \u001b[0;34m=\u001b[0m \u001b[0mnp\u001b[0m\u001b[0;34m.\u001b[0m\u001b[0mmean\u001b[0m\u001b[0;34m(\u001b[0m\u001b[0mgroup_uplift\u001b[0m\u001b[0;34m)\u001b[0m\u001b[0;34m\u001b[0m\u001b[0;34m\u001b[0m\u001b[0m\n\u001b[1;32m     31\u001b[0m     \u001b[0mprint\u001b[0m\u001b[0;34m(\u001b[0m\u001b[0;34mf\"Mean Uplift for Group {group}: {group_mean_uplift}\"\u001b[0m\u001b[0;34m)\u001b[0m\u001b[0;34m\u001b[0m\u001b[0;34m\u001b[0m\u001b[0m\n",
      "\u001b[0;31mIndexError\u001b[0m: boolean index did not match indexed array along dimension 0; dimension is 3057 but corresponding boolean dimension is 15282"
     ]
    }
   ],
   "source": [
    "import numpy as np\n",
    "import matplotlib.pyplot as plt\n",
    "\n",
    "# Assuming 'uplift' is the array of uplift values (from the previous code example)\n",
    "# uplift = y_pred_important_features - y_pred_all_features\n",
    "\n",
    "# Uplift Statistics\n",
    "uplift\n",
    "mean_uplift = np.mean(uplift)\n",
    "median_uplift = np.median(uplift)\n",
    "std_uplift = np.std(uplift)\n",
    "\n",
    "print(f\"Mean Uplift: {mean_uplift}\")\n",
    "print(f\"Median Uplift: {median_uplift}\")\n",
    "print(f\"Standard Deviation of Uplift: {std_uplift}\")\n",
    "\n",
    "# Uplift Visualization\n",
    "plt.hist(uplift, bins=20, edgecolor='black')\n",
    "plt.xlabel('Uplift')\n",
    "plt.ylabel('Frequency')\n",
    "plt.title('Distribution of Uplift Values')\n",
    "plt.show()\n",
    "\n",
    "# Uplift Analysis by Subgroups (Assuming you have a 'group' column to define the subgroups)\n",
    "group_data = data['displays']  # Replace 'group' with the name of your column defining the subgroups\n",
    "unique_groups = np.unique(group_data)\n",
    "\n",
    "for group in unique_groups:\n",
    "    group_uplift = uplift[group_data == group]\n",
    "    group_mean_uplift = np.mean(group_uplift)\n",
    "    print(f\"Mean Uplift for Group {group}: {group_mean_uplift}\")\n",
    "\n",
    "# Domain Knowledge (Example: Understanding impact of top feature on target)\n",
    "top_feature_name = top_5_features[0]  # Assuming the first feature is the top feature\n",
    "plt.scatter(X_encoded[top_feature_name], y, alpha=0.5)\n",
    "plt.xlabel(top_feature_name)\n",
    "plt.ylabel('Target Variable')\n",
    "plt.title('Impact of Top Feature on Target Variable')\n",
    "plt.show()\n"
   ]
  },
  {
   "cell_type": "code",
   "execution_count": null,
   "id": "a99ad1ca-2a98-44f8-a85c-cd82052dacd6",
   "metadata": {},
   "outputs": [],
   "source": []
  }
 ],
 "metadata": {
  "kernelspec": {
   "display_name": "Python 3",
   "language": "python",
   "name": "python3"
  },
  "language_info": {
   "codemirror_mode": {
    "name": "ipython",
    "version": 3
   },
   "file_extension": ".py",
   "mimetype": "text/x-python",
   "name": "python",
   "nbconvert_exporter": "python",
   "pygments_lexer": "ipython3",
   "version": "3.6.8"
  }
 },
 "nbformat": 4,
 "nbformat_minor": 5
}
